{
  "cells": [
    {
      "cell_type": "markdown",
      "metadata": {
        "id": "8TW4lX7nHYbc"
      },
      "source": [
        "# Universidad de Buenos Aires\n",
        "# Deep Learning - TP1\n",
        "# Mayo 2024"
      ]
    },
    {
      "cell_type": "markdown",
      "metadata": {
        "id": "QJt3OxgGIvs7"
      },
      "source": [
        "El TP comienza al momento de recibir este correo y la ventana de entrega estará abierta hasta el Domingo 16 de Junio. La resolución es individual. Pueden utilizar los contenidos vistos en clase y otra bibliografía. Si se toman ideas de fuentes externas deben ser correctamente citas incluyendo el correspondiente link o página de libro.\n",
        "\n",
        "El formato de entrega debe ser un “link a un colab” (compartir a las siguientes direcciones: maxit1992@gmail.com, alfonsorafel93@gmail.com y lelectronfou@gmail.com). Tanto los resultados, como el código y las explicaciones deben quedar guardados y visualizables en el colab. El colab debe poder ser ejecutado sin errores.\n",
        "\n"
      ]
    },
    {
      "cell_type": "markdown",
      "metadata": {
        "id": "fihOXaFdGftO"
      },
      "source": [
        "## Ejercicio 1\n",
        "\n",
        "**Dado el grafo de cómputo de la imagen siguiente, donde a=1, b=2 y c=3:**\n",
        "\n",
        "1. Realizar el paso forward y calcular Y.\n",
        "\n",
        "2. Realizar el paso backward y calcular el backpropagation para a,b y c:\n",
        "\n",
        "    a. En forma analítica (dy/dx = 0)\n",
        "\n",
        "    b. Utilizando pytorch\n",
        "\n",
        "    c. Comparar los resultados de los puntos anteriores"
      ]
    },
    {
      "cell_type": "markdown",
      "metadata": {
        "id": "BU6HbetsGl_t"
      },
      "source": [
        "![Graph.jpg](data:image/jpeg;base64,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)"
      ]
    },
    {
      "cell_type": "markdown",
      "metadata": {},
      "source": [
        "### Solucion ejercicio 1\n"
      ]
    },
    {
      "cell_type": "markdown",
      "metadata": {},
      "source": [
        "**Paso forward**  \n",
        "$$\n",
        "\\begin{gathered}\n",
        "d=a+b\\\\\n",
        "d=1+2\\\\\n",
        "d=3\\\\\n",
        "\\\\\n",
        "e=b-c\\\\\n",
        "e=2-3\\\\\n",
        "e=-1\\\\\n",
        "\\\\\n",
        "Y=d \\cdot e\\\\\n",
        "Y=3 \\cdot (-1)\\\\\n",
        "Y=-3\\\\\n",
        "\\end{gathered}\n",
        "$$"
      ]
    },
    {
      "cell_type": "markdown",
      "metadata": {},
      "source": [
        "**Paso backward - Forma analitica**\n",
        "  \n",
        "Primero calculamos las derivadas parciales con respecto a *a*, *b* y *c*. Para esto tambien necesitamos calcular las derivadas parciales con respecto a *d* y *e*.\n",
        "\n",
        "$$\n",
        "\\begin{gathered}\n",
        "\\frac{\\partial Y}{\\partial e} = \\frac{\\partial {(d \\cdot e)}}{\\partial e}\\\\\n",
        "\\frac{\\partial Y}{\\partial e} = d\\\\\n",
        "\\frac{\\partial Y}{\\partial e} = 3\\\\\n",
        "\\\\\n",
        "\\frac{\\partial Y}{\\partial d} = \\frac{\\partial {(d \\cdot e)}}{\\partial d}\\\\\n",
        "\\frac{\\partial Y}{\\partial d} = e\\\\\n",
        "\\frac{\\partial Y}{\\partial d} = -1\\\\\n",
        "\\\\\n",
        "\\frac{\\partial e}{\\partial c} = \\frac{\\partial {(b-c)}}{\\partial c}\\\\\n",
        "\\frac{\\partial e}{\\partial c} = -1\\\\\n",
        "\\\\\n",
        "\\frac{\\partial e}{\\partial b} = \\frac{\\partial {(b-c)}}{\\partial c}\\\\\n",
        "\\frac{\\partial e}{\\partial b} = 1\\\\\n",
        "\\\\\n",
        "\\frac{\\partial d}{\\partial b} = \\frac{\\partial {(a+b)}}{\\partial c}\\\\\n",
        "\\frac{\\partial d}{\\partial b} = 1\\\\\n",
        "\\\\\n",
        "\\frac{\\partial d}{\\partial a} = \\frac{\\partial {(a+b)}}{\\partial c}\\\\\n",
        "\\frac{\\partial d}{\\partial a} = 1\\\\\n",
        "\\end{gathered}\n",
        "$$\n",
        "\n",
        "Por regla de la cadena, podemos calcular las derivadas parciales de *Y* con respecto a *a*, *b* y *c*.\n",
        "\n",
        "$$\n",
        "\\begin{gathered}\n",
        "\\frac{\\partial Y}{\\partial c} = \\frac{\\partial Y}{\\partial e} \\cdot \\frac{\\partial e}{\\partial c}\\\\\n",
        "\\frac{\\partial Y}{\\partial c} = 3 \\cdot (-1)\\\\\n",
        "\\frac{\\partial Y}{\\partial c} = -3\\\\\n",
        "\\\\\n",
        "\\frac{\\partial Y}{\\partial b} = \\frac{\\partial Y}{\\partial d} \\cdot \\frac{\\partial d}{\\partial b} + \\frac{\\partial Y}{\\partial e} \\cdot \\frac{\\partial e}{\\partial b}\\\\\n",
        "\\frac{\\partial Y}{\\partial b} = (-1) \\cdot 1 + 3 \\cdot 1\\\\\n",
        "\\frac{\\partial Y}{\\partial b} = 2\\\\\n",
        "\\\\\n",
        "\\frac{\\partial Y}{\\partial a} = \\frac{\\partial Y}{\\partial d} \\cdot \\frac{\\partial d}{\\partial a}\\\\\n",
        "\\frac{\\partial Y}{\\partial a} = (-1) \\cdot 1\\\\\n",
        "\\frac{\\partial Y}{\\partial a} = -1\\\\\n",
        "\\end{gathered}\n",
        "$$"
      ]
    },
    {
      "cell_type": "markdown",
      "metadata": {},
      "source": [
        "**Paso backward - Pytorch**"
      ]
    },
    {
      "cell_type": "code",
      "execution_count": 263,
      "metadata": {},
      "outputs": [],
      "source": [
        "import torch"
      ]
    },
    {
      "cell_type": "code",
      "execution_count": 264,
      "metadata": {},
      "outputs": [
        {
          "name": "stdout",
          "output_type": "stream",
          "text": [
            "dY/da: -1.0\n",
            "dY/db: 2.0\n",
            "dY/dc: -3.0\n"
          ]
        }
      ],
      "source": [
        "a = torch.tensor(1.0, requires_grad=True)\n",
        "b = torch.tensor(2.0, requires_grad=True)\n",
        "c = torch.tensor(3.0, requires_grad=True)\n",
        "\n",
        "# Paso forward\n",
        "d = a + b\n",
        "e = b - c\n",
        "Y = d * e\n",
        "\n",
        "# Paso backward\n",
        "Y.backward()\n",
        "\n",
        "# Resultados\n",
        "print(f'dY/da: {a.grad}')\n",
        "print(f'dY/db: {b.grad}')\n",
        "print(f'dY/dc: {c.grad}')\n"
      ]
    },
    {
      "cell_type": "markdown",
      "metadata": {
        "id": "mk2r2Ht8HEhb"
      },
      "source": [
        "## Ejercicio 2\n",
        "\n",
        "Se desea construir un sistema de recomendación de películas. Para esto se cuenta con un dataset de las puntuaciones que los usuarios han asignado a las peliculas disponibles.\n",
        "\n",
        "Link dataset: https://drive.google.com/file/d/1Og9H-8oqb3_Wo_WOakeAuRR_mwr922Ar/view?usp=sharing\n",
        "\n",
        "Para verificar la factibilidad del proyecto con datos válidos, se decide utilizar solamente las 200 películas con más votos y los usuarios que han puntuado al menos 100 películas.\n",
        "\n",
        "1- Analizar el dataset para utilizar solamente las 200 películas con mayor cantidad de votos y los usuarios que hayan votado al menos 100 películas.\n",
        "\n",
        "2- A partir del dataset del punto 1, construir una única red neuronal que utilice una capa de embeddings para el id de usuario, una capa de embeddings para el id de película y al menos dos capas lineales que sea capaz de predecir el puntaje que cada usuario colocó a cada pelicula.\n",
        "\n",
        "3- Elegir un usuario al azar, una película que dicho usuario haya puntuado y verificar la predicción del modelo. Comparar con el puntaje real que el usuario asignó a dicha película.\n",
        "\n",
        "4- Realizar una recomendación de película para el usuario del punto 3 utilizando los embeddings de usuario o los embeddings de películas. Comprobar si la recomendación es correcta haciendo una predicción del puntuaje con la red neuronal."
      ]
    },
    {
      "cell_type": "markdown",
      "metadata": {},
      "source": [
        "### Solucion ejercicio 2"
      ]
    },
    {
      "cell_type": "markdown",
      "metadata": {},
      "source": [
        "\n",
        "#### Parte 1\n",
        "\n",
        "Comenzamos por importar librerias y cargar el dataset."
      ]
    },
    {
      "cell_type": "code",
      "execution_count": 370,
      "metadata": {},
      "outputs": [],
      "source": [
        "import numpy as np\n",
        "import pandas as pd\n",
        "import random\n",
        "import matplotlib.pyplot as plt\n",
        "import seaborn as sns\n",
        "from sklearn.model_selection import train_test_split\n",
        "\n",
        "import torch\n",
        "import torch.nn as nn\n",
        "import torch.optim as optim\n",
        "from torch.utils.data import DataLoader, TensorDataset\n",
        "\n",
        "device = torch.device(\"cuda\" if torch.cuda.is_available() else \"cpu\")\n",
        "\n",
        "df = pd.read_csv('https://drive.google.com/uc?id=1Og9H-8oqb3_Wo_WOakeAuRR_mwr922Ar')"
      ]
    },
    {
      "cell_type": "markdown",
      "metadata": {},
      "source": [
        "Reducimos el tamaño y aumentamos la confiabilidad del dataset, segun los parametros especificados:\n",
        " - Utilizar solamente las 200 peliculas que mas votos tienen\n",
        " - Utilizar solamente los usuarios que han puntuado al menos 100 peliculas\n",
        "\n",
        "Adicionalmente vamos a remover la columna timestamp que no aporta al modelo."
      ]
    },
    {
      "cell_type": "code",
      "execution_count": 371,
      "metadata": {},
      "outputs": [],
      "source": [
        "# Remover columna timestamp\n",
        "df = df.drop(['timestamp'], axis = 1)\n",
        "\n",
        "# Filtrar usuarios que han puntuado al menos 100 peliculas\n",
        "user_rating_counts = df.groupby('userId').size()\n",
        "users_with_100_ratings = user_rating_counts[user_rating_counts >= 100].index\n",
        "df = df[df['userId'].isin(users_with_100_ratings)]\n",
        "\n",
        "# Filtrar las 200 peliculas con mas votos\n",
        "movie_rating_counts = df.groupby('movieId').size()\n",
        "top_200_movies = movie_rating_counts.nlargest(200).index\n",
        "df = df[df['movieId'].isin(top_200_movies)]"
      ]
    },
    {
      "cell_type": "markdown",
      "metadata": {},
      "source": [
        "#### Parte 2\n",
        "\n",
        "Construimos un modelo con las siguientes caracteristicas:\n",
        " - El embedding de usuarios será de 8 parametros.\n",
        " - El embedding de peliculas será de 8 parametros.\n",
        " - La primera capa de embeddings es de 16 (8+8) neuronas con salida ReLU.\n",
        " - La segunda capa es de 64 neuronas con salida ReLU.\n",
        " - La tercera capa es de 32 neuronas."
      ]
    },
    {
      "cell_type": "code",
      "execution_count": 398,
      "metadata": {},
      "outputs": [],
      "source": [
        "class MovieRatingPredictor(nn.Module):\n",
        "    def __init__(self, num_users, num_movies, user_embedding_dim=8, movie_embedding_dim=8, hidden_dim=64):\n",
        "        super(MovieRatingPredictor, self).__init__()\n",
        "        self.user_embedding = nn.Embedding(num_users, user_embedding_dim)\n",
        "        self.movie_embedding = nn.Embedding(num_movies, movie_embedding_dim)\n",
        "        self.fc1 = nn.Linear(user_embedding_dim + movie_embedding_dim, hidden_dim)\n",
        "        self.fc2 = nn.Linear(hidden_dim, hidden_dim // 2)\n",
        "        self.fc3 = nn.Linear(hidden_dim // 2, 1)\n",
        "        self.dropout = nn.Dropout(0.5)\n",
        "\n",
        "    def forward(self, user_id, movie_id):\n",
        "        user_embedded = self.user_embedding(user_id)\n",
        "        movie_embedded = self.movie_embedding(movie_id)\n",
        "        x = torch.cat([user_embedded, movie_embedded], dim=1)\n",
        "        x = torch.relu(self.fc1(x))\n",
        "        x = self.dropout(x)\n",
        "        x = torch.relu(self.fc2(x))\n",
        "        x = self.dropout(x)\n",
        "        x = self.fc3(x)\n",
        "        return x"
      ]
    },
    {
      "cell_type": "markdown",
      "metadata": {},
      "source": [
        "Necesitamos modificar los usuarios y peliculas, ya que los embeddings esperan que los valores vayan desde [0, embeddings - 1], pero hay usuarios y peliculas con IDs fuera de esos valores."
      ]
    },
    {
      "cell_type": "code",
      "execution_count": 379,
      "metadata": {},
      "outputs": [
        {
          "name": "stdout",
          "output_type": "stream",
          "text": [
            "Unique users: \n",
            "\n",
            "[  1   4   6   7  10  15  17  18  19  20  21  22  23  24  27  28  32  33\n",
            "  39  40  41  42  43  45  47  50  51  52  57  58  59  62  63  64  66  68\n",
            "  73  74  76  80  82  83  84  89  91  95 100 103 104 105 109 111 113 115\n",
            " 117 119 122 125 129 132 135 136 137 139 140 141 144 153 156 160 166 167\n",
            " 169 177 181 182 184 186 187 195 198 199 200 201 202 210 212 216 217 219\n",
            " 220 221 222 226 230 232 233 234 239 240 246 247 249 254 256 260 263 265\n",
            " 266 268 274 275 279 280 282 286 287 288 290 292 294 298 301 304 305 306\n",
            " 307 308 309 312 313 314 317 318 322 325 326 328 330 331 332 334 339 346\n",
            " 351 352 354 356 357 362 365 367 368 369 372 373 376 377 380 381 382 385\n",
            " 387 391 393 405 408 409 410 411 412 414 419 420 424 425 428 432 434 436\n",
            " 437 438 448 452 453 462 464 465 466 469 474 475 477 479 480 482 483 484\n",
            " 488 489 490 492 495 509 510 514 517 520 522 524 525 527 534 542 551 552\n",
            " 555 559 560 561 562 563 564 567 570 571 572 573 577 580 586 587 590 593\n",
            " 594 596 597 599 600 601 602 603 604 605 606 607 608 610]\n",
            "Unique movies: \n",
            "\n",
            "[    1     6    47    50   110   223   231   260   296   316   356   367\n",
            "   457   480   500   527   590   592   593   608   648   733   736   780\n",
            "   919  1073  1080  1089  1097  1136  1196  1197  1198  1206  1208  1210\n",
            "  1213  1214  1219  1220  1222  1240  1258  1265  1270  1291  1517  1573\n",
            "  1580  1617  1676  1732  2000  2012  2028  2115  2174  2291  2329  2502\n",
            "  2571  2617  2628  2700  2716  2797  2858  2916  2959  2985  2987  2997\n",
            "  3052  3147  3578  3793    32   357   539   588   595   904   912  1079\n",
            "  1259  1391  1704  1923  1968  2683  2762  2791  3996  4027  4226  4896\n",
            "     2    10    19    34   104   150   153   165   185   208   293   318\n",
            "   344   364   377   380   587   589   597   750   924  1101  1246  1584\n",
            "  1610  1682  1784  1917  3114  3994  4306  4886  4963  4993  4995  5218\n",
            "  5349  5378  5445  5618  5816  5952  5989  6333  6365  6539  6934  7153\n",
            "  8360  8368  8636  8665  8961 32587 33493 33794 48516 49272  1028  1307\n",
            "  6377 51662 58559 68954 72998   858  1200  1527  1653  2011  3949  4022\n",
            "  6874  7438 48780 59315 60069 79132   111   541  1036  1193  1221   586\n",
            "   778  1721  1961  2706  2918  4011  4973  5418  7361 44191 69122   551\n",
            "  2355  2396  3948  4878  1387  8874    39  1393]\n"
          ]
        }
      ],
      "source": [
        "unique_users = df['userId'].unique()\n",
        "unique_movies = df['movieId'].unique()\n",
        "print('Unique users: \\n')\n",
        "print(unique_users)\n",
        "print('Unique movies: \\n')\n",
        "print(unique_movies)"
      ]
    },
    {
      "cell_type": "markdown",
      "metadata": {},
      "source": [
        "Para eso entonces tenemos que mapear los valores reindexados a los valores originales y viceversa."
      ]
    },
    {
      "cell_type": "code",
      "execution_count": 393,
      "metadata": {},
      "outputs": [],
      "source": [
        "# Guardar los IDs originales\n",
        "original_user_ids = df['userId'].unique()\n",
        "original_movie_ids = df['movieId'].unique()\n",
        "\n",
        "# Crear mapeo de userId y movieId a nuevos IDs\n",
        "user_id_map = {original_id: index for index, original_id in enumerate(original_user_ids)}\n",
        "movie_id_map = {original_id: index for index, original_id in enumerate(original_movie_ids)}\n",
        "\n",
        "# Reindexar userId y movieId en el DataFrame original\n",
        "reindexed_df = df.copy()\n",
        "reindexed_df['userId'] = df['userId'].map(user_id_map)\n",
        "reindexed_df['movieId'] = df['movieId'].map(movie_id_map)\n",
        "\n",
        "# Crear la función inversa del mapeo\n",
        "reverse_user_id_map = {index: original_id for original_id, index in user_id_map.items()}\n",
        "reverse_movie_id_map = {index: original_id for original_id, index in movie_id_map.items()}\n"
      ]
    },
    {
      "cell_type": "markdown",
      "metadata": {},
      "source": [
        "Dividimos el dataset en train y test para monitorear el entrenamiento del modelo y evitar overfitting."
      ]
    },
    {
      "cell_type": "code",
      "execution_count": 381,
      "metadata": {},
      "outputs": [],
      "source": [
        "train_df, test_df = train_test_split(reindexed_df, test_size=0.2, random_state=42)"
      ]
    },
    {
      "cell_type": "markdown",
      "metadata": {},
      "source": [
        "Ya teniendo los mapas, podemos crear el modelo, convertir los datos a tensores PyTorch y crear el DataLoader."
      ]
    },
    {
      "cell_type": "code",
      "execution_count": 416,
      "metadata": {},
      "outputs": [],
      "source": [
        "# Crear el modelo\n",
        "model = MovieRatingPredictor(len(unique_users), len(unique_movies))\n",
        "model.to(device)\n",
        "\n",
        "# Convertir los datos a tensores\n",
        "train_user_ids = torch.tensor(train_df['userId'].values, dtype=torch.long, device=device)\n",
        "test_user_ids = torch.tensor(test_df['userId'].values, dtype=torch.long, device=device)\n",
        "train_movie_ids = torch.tensor(train_df['movieId'].values, dtype=torch.long, device=device)\n",
        "test_movie_ids = torch.tensor(test_df['movieId'].values, dtype=torch.long, device=device)\n",
        "train_ratings = torch.tensor(train_df['rating'].values, dtype=torch.float32, device=device)\n",
        "test_ratings = torch.tensor(test_df['rating'].values, dtype=torch.float32, device=device)\n",
        "\n",
        "# Crear el TensorDataset y DataLoader\n",
        "train_dataset = TensorDataset(train_user_ids, train_movie_ids, train_ratings)\n",
        "test_dataset = TensorDataset(test_user_ids, test_movie_ids, test_ratings)\n",
        "train_dataloader = DataLoader(train_dataset, batch_size=64, shuffle=True)\n",
        "test_dataloader = DataLoader(test_dataset, batch_size=64, shuffle=False)\n"
      ]
    },
    {
      "cell_type": "markdown",
      "metadata": {},
      "source": [
        "Finalizando el proceso del modelo, cerramos con su entrenamiento. Definimos una funcion de perdida (MSE), un optimizador (ADAM) y una cantidad de epocas para entrenarlo (300)."
      ]
    },
    {
      "cell_type": "code",
      "execution_count": 417,
      "metadata": {},
      "outputs": [
        {
          "name": "stdout",
          "output_type": "stream",
          "text": [
            "Epoch 1/100, Train Loss: 4.857936260558791, Test Loss: 1.3030917331323786\n",
            "Epoch 2/100, Train Loss: 2.3573245315228477, Test Loss: 1.1400453367475736\n",
            "Epoch 3/100, Train Loss: 2.0864851358583416, Test Loss: 1.054726359197649\n",
            "Epoch 4/100, Train Loss: 1.8968757512205738, Test Loss: 0.998724765696768\n",
            "Epoch 5/100, Train Loss: 1.7850852745064234, Test Loss: 0.9181299462156781\n",
            "Epoch 6/100, Train Loss: 1.6372050178253044, Test Loss: 0.8975947388147903\n",
            "Epoch 7/100, Train Loss: 1.5603259614968703, Test Loss: 0.8736029964382366\n",
            "Epoch 8/100, Train Loss: 1.4751493054426323, Test Loss: 0.8930110446477341\n",
            "Epoch 9/100, Train Loss: 1.386336298312171, Test Loss: 0.8730264013096437\n",
            "Epoch 10/100, Train Loss: 1.3593452269748105, Test Loss: 0.8654782903396477\n",
            "Epoch 11/100, Train Loss: 1.2946263632531894, Test Loss: 0.8388691478866642\n",
            "Epoch 12/100, Train Loss: 1.2715306817475012, Test Loss: 0.866575020854756\n",
            "Epoch 13/100, Train Loss: 1.2291669623326447, Test Loss: 0.8111849139302464\n",
            "Epoch 14/100, Train Loss: 1.1992086699958575, Test Loss: 0.8283940073797258\n",
            "Epoch 15/100, Train Loss: 1.1593662674649288, Test Loss: 0.800677524784864\n",
            "Epoch 16/100, Train Loss: 1.1147032566999986, Test Loss: 0.8025998442859973\n",
            "Epoch 17/100, Train Loss: 1.0827943748336728, Test Loss: 0.7988193004818286\n",
            "Epoch 18/100, Train Loss: 1.0365585073576136, Test Loss: 0.7815328028242466\n",
            "Epoch 19/100, Train Loss: 1.0085041457313602, Test Loss: 0.7643250504792747\n",
            "Epoch 20/100, Train Loss: 0.968745203846592, Test Loss: 0.7460050795037868\n",
            "Epoch 21/100, Train Loss: 0.9494654569080321, Test Loss: 0.7465469397730746\n",
            "Epoch 22/100, Train Loss: 0.9271873058909077, Test Loss: 0.7240248549792726\n",
            "Epoch 23/100, Train Loss: 0.9013928796275187, Test Loss: 0.71168135283357\n",
            "Epoch 24/100, Train Loss: 0.8877597234006656, Test Loss: 0.7047023929781833\n",
            "Epoch 25/100, Train Loss: 0.8519860994765314, Test Loss: 0.7077464340096813\n",
            "Epoch 26/100, Train Loss: 0.8304585620003232, Test Loss: 0.6959078599840908\n",
            "Epoch 27/100, Train Loss: 0.8252814755601398, Test Loss: 0.6978556917885602\n",
            "Epoch 28/100, Train Loss: 0.8008188067351357, Test Loss: 0.6785431756811627\n",
            "Epoch 29/100, Train Loss: 0.7887624815358953, Test Loss: 0.6713055286367061\n",
            "Epoch 30/100, Train Loss: 0.77505543512308, Test Loss: 0.6638829571715856\n",
            "Epoch 31/100, Train Loss: 0.7609469826191159, Test Loss: 0.6662356408975892\n",
            "Epoch 32/100, Train Loss: 0.7488270715131597, Test Loss: 0.6624538059961997\n",
            "Epoch 33/100, Train Loss: 0.7379679769530134, Test Loss: 0.6614507199343989\n",
            "Epoch 34/100, Train Loss: 0.7372805889127618, Test Loss: 0.6600961942793959\n",
            "Epoch 35/100, Train Loss: 0.7261051117616185, Test Loss: 0.6545665486384247\n",
            "Epoch 36/100, Train Loss: 0.7163162869164499, Test Loss: 0.6556695426924753\n",
            "Epoch 37/100, Train Loss: 0.7148367145051391, Test Loss: 0.6522752874988621\n",
            "Epoch 38/100, Train Loss: 0.7047861566988088, Test Loss: 0.6584521486597547\n",
            "Epoch 39/100, Train Loss: 0.6989846227027602, Test Loss: 0.6497518344450806\n",
            "Epoch 40/100, Train Loss: 0.696288222983732, Test Loss: 0.653505998142695\n",
            "Epoch 41/100, Train Loss: 0.6950533194309574, Test Loss: 0.6462554865974491\n",
            "Epoch 42/100, Train Loss: 0.6913048035259974, Test Loss: 0.6468846904019178\n",
            "Epoch 43/100, Train Loss: 0.6863583850405984, Test Loss: 0.6436781580165282\n",
            "Epoch 44/100, Train Loss: 0.6821972764397072, Test Loss: 0.6448721496735589\n",
            "Epoch 45/100, Train Loss: 0.6819693960123143, Test Loss: 0.6520073363336466\n",
            "Epoch 46/100, Train Loss: 0.6744623540316598, Test Loss: 0.6408774100117764\n",
            "Epoch 47/100, Train Loss: 0.670305077933659, Test Loss: 0.6422028541564941\n",
            "Epoch 48/100, Train Loss: 0.6723686662518372, Test Loss: 0.6406953900547351\n",
            "Epoch 49/100, Train Loss: 0.6679651581887471, Test Loss: 0.6405348499952737\n",
            "Epoch 50/100, Train Loss: 0.6698529745562601, Test Loss: 0.6448355377730677\n",
            "Epoch 51/100, Train Loss: 0.6654813977873931, Test Loss: 0.6402445097090834\n",
            "Epoch 52/100, Train Loss: 0.666929617524147, Test Loss: 0.6477653131646625\n",
            "Epoch 53/100, Train Loss: 0.6629707900396848, Test Loss: 0.6409366686465376\n",
            "Epoch 54/100, Train Loss: 0.6616568378472732, Test Loss: 0.6361863466642671\n",
            "Epoch 55/100, Train Loss: 0.6572457000108088, Test Loss: 0.6389777392654096\n",
            "Epoch 56/100, Train Loss: 0.6596205591902895, Test Loss: 0.6398629313808376\n",
            "Epoch 57/100, Train Loss: 0.6599237513491663, Test Loss: 0.6442659764976825\n",
            "Epoch 58/100, Train Loss: 0.6576564568331686, Test Loss: 0.6374434505478811\n",
            "Epoch 59/100, Train Loss: 0.6557094973780341, Test Loss: 0.6408359140662824\n",
            "Epoch 60/100, Train Loss: 0.6575316808233826, Test Loss: 0.6373609829757173\n",
            "Epoch 61/100, Train Loss: 0.6506272265214031, Test Loss: 0.6395104673959441\n",
            "Epoch 62/100, Train Loss: 0.6529407013775939, Test Loss: 0.6416567609471789\n",
            "Epoch 63/100, Train Loss: 0.6554171780155877, Test Loss: 0.6424813139236579\n",
            "Epoch 64/100, Train Loss: 0.6481796933685319, Test Loss: 0.641965309947224\n",
            "Epoch 65/100, Train Loss: 0.6507869955089133, Test Loss: 0.6437353552398035\n",
            "Epoch 66/100, Train Loss: 0.6495761967311471, Test Loss: 0.6387821057085263\n",
            "Epoch 67/100, Train Loss: 0.6487541803616589, Test Loss: 0.6393875136213788\n",
            "Epoch 68/100, Train Loss: 0.6455854815194162, Test Loss: 0.6396377879684254\n",
            "Epoch 69/100, Train Loss: 0.6453479184942731, Test Loss: 0.6395698790833101\n",
            "Epoch 70/100, Train Loss: 0.6464497169195595, Test Loss: 0.6396768002186791\n",
            "Epoch 71/100, Train Loss: 0.6446869114445428, Test Loss: 0.63935013847836\n",
            "Epoch 72/100, Train Loss: 0.647396967951524, Test Loss: 0.6385611038086778\n",
            "Epoch 73/100, Train Loss: 0.6434295889684709, Test Loss: 0.6398395991931527\n",
            "Epoch 74/100, Train Loss: 0.6408057973041372, Test Loss: 0.6417393487388805\n",
            "Epoch 75/100, Train Loss: 0.6356551150901842, Test Loss: 0.639852365699865\n",
            "Epoch 76/100, Train Loss: 0.6350624005673295, Test Loss: 0.638852437673989\n",
            "Epoch 77/100, Train Loss: 0.6335455844715491, Test Loss: 0.6408797386339156\n",
            "Epoch 78/100, Train Loss: 0.6331111652366186, Test Loss: 0.6373981535434723\n",
            "Epoch 79/100, Train Loss: 0.6364438141048965, Test Loss: 0.6397923458430727\n",
            "Epoch 80/100, Train Loss: 0.6392024021785138, Test Loss: 0.6396150634450427\n",
            "Epoch 81/100, Train Loss: 0.633092112839222, Test Loss: 0.6401374112751524\n",
            "Epoch 82/100, Train Loss: 0.631545509827339, Test Loss: 0.6392193992259139\n",
            "Epoch 83/100, Train Loss: 0.6352446007273965, Test Loss: 0.6407033841488725\n",
            "Epoch 84/100, Train Loss: 0.6348635364892119, Test Loss: 0.6400313468302711\n",
            "Epoch 85/100, Train Loss: 0.6297508994654074, Test Loss: 0.6419224769382154\n",
            "Epoch 86/100, Train Loss: 0.6314134789725482, Test Loss: 0.6434788375587787\n",
            "Epoch 87/100, Train Loss: 0.6325722016015295, Test Loss: 0.6397382056309004\n",
            "Epoch 88/100, Train Loss: 0.6315320326741469, Test Loss: 0.6427270340717445\n",
            "Epoch 89/100, Train Loss: 0.629075339916399, Test Loss: 0.644379035396091\n",
            "Epoch 90/100, Train Loss: 0.6270783613041296, Test Loss: 0.6416403307753095\n",
            "Epoch 91/100, Train Loss: 0.621937861508232, Test Loss: 0.6407523604772859\n",
            "Epoch 92/100, Train Loss: 0.6243384076377093, Test Loss: 0.6404121644416098\n",
            "Epoch 93/100, Train Loss: 0.627194914272276, Test Loss: 0.6413414917759976\n",
            "Epoch 94/100, Train Loss: 0.6254013868964324, Test Loss: 0.642061729047258\n",
            "Epoch 95/100, Train Loss: 0.6258751718422114, Test Loss: 0.6379576689105922\n",
            "Epoch 96/100, Train Loss: 0.6148196014307313, Test Loss: 0.6434075751547086\n",
            "Epoch 97/100, Train Loss: 0.6179314483020265, Test Loss: 0.6402387664479724\n",
            "Epoch 98/100, Train Loss: 0.6160225190095983, Test Loss: 0.6420017536413871\n",
            "Epoch 99/100, Train Loss: 0.6171605338231992, Test Loss: 0.6451396032915278\n",
            "Epoch 100/100, Train Loss: 0.6196707953083314, Test Loss: 0.6417298145213369\n"
          ]
        }
      ],
      "source": [
        "# Definir el optimizador y la función de perdida\n",
        "criterion = nn.MSELoss()\n",
        "#optimizer = optim.Adam(model.parameters(), lr=0.001)\n",
        "optimizer = optim.Adam(model.parameters(), lr=0.001, weight_decay=1e-5)\n",
        "\n",
        "# Guardar la perdida del modelo en una variable\n",
        "global_loss = []\n",
        "\n",
        "# Entrenar el modelo\n",
        "num_epochs = 100\n",
        "\n",
        "for epoch in range(num_epochs):\n",
        "    model.train()\n",
        "    running_loss = 0.0\n",
        "    for user_id, movie_id, rating in train_dataloader:\n",
        "        optimizer.zero_grad()\n",
        "        outputs = model(user_id, movie_id).squeeze()\n",
        "        loss = criterion(outputs, rating)\n",
        "        loss.backward()\n",
        "        optimizer.step()\n",
        "        running_loss += loss.item()\n",
        "    avg_train_loss = running_loss / len(train_dataloader)\n",
        "\n",
        "    model.eval()\n",
        "    test_loss = 0.0\n",
        "    with torch.no_grad():\n",
        "        for user_id, movie_id, rating in test_dataloader:\n",
        "            outputs = model(user_id, movie_id).squeeze()\n",
        "            loss = criterion(outputs, rating)\n",
        "            test_loss += loss.item()\n",
        "    avg_test_loss = test_loss / len(test_dataloader)\n",
        "    \n",
        "    print(f'Epoch {epoch+1}/{num_epochs}, Train Loss: {avg_train_loss}, Test Loss: {avg_test_loss}')\n",
        "    global_loss.append((avg_train_loss, avg_test_loss))"
      ]
    },
    {
      "cell_type": "code",
      "execution_count": 418,
      "metadata": {},
      "outputs": [
        {
          "data": {
            "image/png": "[encoded data removed]",
            "text/plain": [
              "<Figure size 1000x600 with 1 Axes>"
            ]
          },
          "metadata": {},
          "output_type": "display_data"
        }
      ],
      "source": [
        "# Graficar la pérdida a lo largo de las epochs\n",
        "train_losses, test_losses = zip(*global_loss)\n",
        "plt.figure(figsize=(10, 6))\n",
        "sns.lineplot(x=range(1, num_epochs + 1), y=train_losses, label='Train Loss')\n",
        "sns.lineplot(x=range(1, num_epochs + 1), y=test_losses, label='Test Loss')\n",
        "plt.xlabel('Epoch')\n",
        "plt.ylabel('Loss')\n",
        "plt.title('Training and Test Loss over Epochs')\n",
        "plt.legend()\n",
        "plt.show()"
      ]
    },
    {
      "cell_type": "markdown",
      "metadata": {},
      "source": [
        "#### Parte 3\n",
        "\n",
        "Con el modelo ya entrenado, es facil realizar predicciones (recomendaciones) a un usuario: se selecciona un usuario al azar y una pelicula que ese usuario haya puntuado (para poder comparar la prediccion con la realidad)."
      ]
    },
    {
      "cell_type": "code",
      "execution_count": 496,
      "metadata": {},
      "outputs": [],
      "source": [
        "def predict_rating(data, user_id=None, movie_id=None):\n",
        "    # Seleccionar un usuario aleatorio si no se suministra\n",
        "    if user_id is None:\n",
        "        user_id = random.choice(data['userId'].unique())\n",
        "    # Seleccionar una película aleatoria si no se suministra\n",
        "    if movie_id is None:\n",
        "        movie_id = random.choice(data['movieId'].unique())\n",
        "        \n",
        "    # Check if the user has rated the movie\n",
        "    actual_rating = data[(data['userId'] == user_id) & (data['movieId'] == movie_id)]['rating']\n",
        "    if not actual_rating.empty:\n",
        "        actual_rating = actual_rating.values[0]\n",
        "    else:\n",
        "        actual_rating = None\n",
        "    \n",
        "    # Get the predicted rating from the model\n",
        "    model.eval()\n",
        "    with torch.no_grad():\n",
        "        user_tensor = torch.tensor([user_id], dtype=torch.long, device=device)\n",
        "        movie_tensor = torch.tensor([movie_id], dtype=torch.long, device=device)\n",
        "        predicted_rating = model(user_tensor, movie_tensor).item()\n",
        "        predicted_rating = min(predicted_rating, 5.0)\n",
        "    \n",
        "    print(f\"User ID: {reverse_user_id_map[user_id]}\")\n",
        "    print(f\"Movie ID: {reverse_movie_id_map[movie_id]}\")\n",
        "    print(f\"Actual Rating: {actual_rating}\")\n",
        "    print(f\"Predicted Rating: {predicted_rating:.1f}\")\n",
        "    \n",
        "    # Return the results\n",
        "    return {\n",
        "        'real_user_id': reverse_user_id_map[user_id],\n",
        "        'real_movie_id': reverse_movie_id_map[movie_id],\n",
        "        'actual_rating': actual_rating,\n",
        "        'predicted_rating': predicted_rating\n",
        "    }"
      ]
    },
    {
      "cell_type": "code",
      "execution_count": 447,
      "metadata": {},
      "outputs": [
        {
          "name": "stdout",
          "output_type": "stream",
          "text": [
            "User ID: 448\n",
            "Movie ID: 377\n",
            "Actual Rating: 4.0\n",
            "Predicted Rating: 3.0\n"
          ]
        }
      ],
      "source": [
        "# Elegir un usuario al azar\n",
        "random_user_id = random.choice(reindexed_df['userId'].unique())\n",
        "\n",
        "# Recomendar una película\n",
        "prediction = predict_rating(reindexed_df, user_id=random_user_id)"
      ]
    },
    {
      "cell_type": "markdown",
      "metadata": {},
      "source": [
        "#### Parte 4\n",
        "\n",
        "Para hacer una predicción, disponemos de dos opciones:\n",
        "\n",
        "1. Buscar un usuario similar al seleccionado, y recomendarle la película mejor puntuada de ese usuario.\n",
        "2. Buscar una película similar a las mejores puntuadas por el usuario seleccionado y recomendarla.\n",
        "\n",
        "Ambos metodos requieren que se busque similitud entre embeddings: en la primera opción buscamos embeddings de usuarios similares y en la segunda opción buscamos embeddings de películas similares. El metodo que utilizaré para medir esta similitud es la similitud del coseno (https://es.wikipedia.org/wiki/Similitud_coseno), el cual estó implementado en pytorch (https://pytorch.org/docs/stable/generated/torch.nn.CosineSimilarity.html)."
      ]
    },
    {
      "cell_type": "markdown",
      "metadata": {},
      "source": [
        "##### Metodo 1 de recomendación: por embedding de usuario"
      ]
    },
    {
      "cell_type": "code",
      "execution_count": 515,
      "metadata": {},
      "outputs": [
        {
          "name": "stdout",
          "output_type": "stream",
          "text": [
            "El usuario más similar al usuario 279 es el usuario 322 (similitud de 89.86%).\n",
            "\n",
            "Basandonos en el usuario más similar, se recomienda que la persona vea la película 296.\n",
            "En caso de ya haberla visto, puede ver 1136, 1080, 912 o 608.\n",
            "\n",
            "User ID: 279\n",
            "Movie ID: 296\n",
            "Actual Rating: 5.0\n",
            "Predicted Rating: 3.9\n"
          ]
        }
      ],
      "source": [
        "# Elegir un usuario al azar\n",
        "random_user_id = random.choice(reindexed_df['userId'].unique())\n",
        "\n",
        "# Obtener el embedding del usuario seleccionado al azar y los embeddings de todos los usuarios\n",
        "user_embeddings = model.user_embedding.weight.data\n",
        "random_user_embedding = model.user_embedding.weight.data[random_user_id]\n",
        "\n",
        "# Calcular la similitud coseno entre el embedding del usuario seleccionado y todos los embeddings de usuarios\n",
        "cosine_similarity = nn.CosineSimilarity()\n",
        "similarities = cosine_similarity(user_embeddings, random_user_embedding)\n",
        "\n",
        "# Establecer la similitud del usuario consigo mismo a -1 para evitar auto-recomendación\n",
        "similarities[random_user_id] = -1\n",
        "\n",
        "# Encontrar el índice del usuario más similar\n",
        "most_similar_user = similarities.argmax().item()\n",
        "print(f'El usuario más similar al usuario {reverse_user_id_map[random_user_id]} \\\n",
        "es el usuario {reverse_user_id_map[most_similar_user]} \\\n",
        "(similitud de {100 * similarities[most_similar_user]:.2f}%).\\n')\n",
        "\n",
        "# Encontrar las peliculas evaluadas por el usuario mas similar\n",
        "most_similar_user_rated_movies = reindexed_df[reindexed_df['userId'] == most_similar_user]\n",
        "most_similar_user_top_5_rated_movies = most_similar_user_rated_movies.sort_values(by='rating', ascending=False).head(5)\n",
        "most_similar_user_top_5_rated_movies = most_similar_user_top_5_rated_movies.reset_index(drop=True)\n",
        "\n",
        "print(f\"Basandonos en el usuario más similar, se recomienda que la persona vea la película {reverse_movie_id_map[most_similar_user_top_5_rated_movies['movieId'][0]]}.\")\n",
        "print(f\"En caso de ya haberla visto, puede ver \\\n",
        "{reverse_movie_id_map[most_similar_user_top_5_rated_movies['movieId'][1]]}, \\\n",
        "{reverse_movie_id_map[most_similar_user_top_5_rated_movies['movieId'][2]]}, \\\n",
        "{reverse_movie_id_map[most_similar_user_top_5_rated_movies['movieId'][3]]} o \\\n",
        "{reverse_movie_id_map[most_similar_user_top_5_rated_movies['movieId'][4]]}.\\\n",
        "\\n\")\n",
        "\n",
        "prediction = predict_rating(reindexed_df, user_id=random_user_id, movie_id=most_similar_user_top_5_rated_movies['movieId'][0])"
      ]
    },
    {
      "cell_type": "markdown",
      "metadata": {},
      "source": [
        "##### Metodo 2 de recomendación: por embedding de película"
      ]
    },
    {
      "cell_type": "code",
      "execution_count": 549,
      "metadata": {},
      "outputs": [
        {
          "name": "stdout",
          "output_type": "stream",
          "text": [
            "El usuario 286, cuya pelicula con mayor rating fue 47 con puntaje de 5.0, deberia ver la pelicula 8961, que es la mas parecida (similitud de 84.71%).\n",
            "\n",
            "User ID: 286\n",
            "Movie ID: 8961\n",
            "Actual Rating: 4.0\n",
            "Predicted Rating: 3.9\n"
          ]
        }
      ],
      "source": [
        "# Elegir un usuario al azar\n",
        "random_user_id = random.choice(reindexed_df['userId'].unique())\n",
        "\n",
        "# Obtener el embedding de la película con mayor rating del usuario seleccionado al azar\n",
        "user_ratings = reindexed_df[reindexed_df['userId'] == random_user_id]\n",
        "movie_embeddings = model.movie_embedding.weight.data\n",
        "highest_rated_movie_id = user_ratings.loc[user_ratings['rating'].idxmax()]['movieId']\n",
        "highest_rated_movie_rating = user_ratings.loc[user_ratings['rating'].idxmax()]['rating']\n",
        "highest_rated_movie_embedding = movie_embeddings[int(highest_rated_movie_id)]\n",
        "\n",
        "# Calcular la similitud coseno entre el embedding de la película con mayor rating del usuario seleccionado y todos los embeddings de las peliculas\n",
        "cosine_similarity = nn.CosineSimilarity()\n",
        "similarities = cosine_similarity(movie_embeddings, highest_rated_movie_embedding)\n",
        "\n",
        "# Establecer la similitud de la película con mayor rating del usuario seleccionado consigo misma a -1 para evitar auto-recomendación\n",
        "similarities[int(highest_rated_movie_id)] = -1\n",
        "\n",
        "# Encontrar la película más similar a la de mejor rating del usuario seleccionado\n",
        "most_similar_movie = similarities.argmax().item()\n",
        "print(f\"El usuario {reverse_user_id_map[random_user_id]}, \\\n",
        "cuya pelicula con mayor rating fue {reverse_movie_id_map[highest_rated_movie_id]} \\\n",
        "con puntaje de {highest_rated_movie_rating}, \\\n",
        "deberia ver la pelicula {reverse_movie_id_map[most_similar_movie]}, \\\n",
        "que es la mas parecida (similitud de {100*similarities[most_similar_movie]:.2f}%).\\\n",
        "\\n\")\n",
        "\n",
        "prediction = predict_rating(reindexed_df, user_id=random_user_id, movie_id=most_similar_movie)"
      ]
    }
  ],
  "metadata": {
    "colab": {
      "provenance": []
    },
    "kernelspec": {
      "display_name": "Python 3",
      "name": "python3"
    },
    "language_info": {
      "codemirror_mode": {
        "name": "ipython",
        "version": 3
      },
      "file_extension": ".py",
      "mimetype": "text/x-python",
      "name": "python",
      "nbconvert_exporter": "python",
      "pygments_lexer": "ipython3",
      "version": "3.11.8"
    }
  },
  "nbformat": 4,
  "nbformat_minor": 0
}
