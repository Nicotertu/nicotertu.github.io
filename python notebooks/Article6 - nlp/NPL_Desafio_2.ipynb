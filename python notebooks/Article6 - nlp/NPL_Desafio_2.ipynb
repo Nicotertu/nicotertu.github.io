{
 "cells": [
  {
   "cell_type": "markdown",
   "metadata": {
    "id": "sZd5yLnnHOK0"
   },
   "source": [
    "<img src=\"https://github.com/hernancontigiani/ceia_memorias_especializacion/raw/master/Figures/logoFIUBA.jpg\" width=\"500\" align=\"center\">\n",
    "\n"
   ]
  },
  {
   "cell_type": "markdown",
   "metadata": {},
   "source": [
    "\n",
    "# Procesamiento de lenguaje natural\n"
   ]
  },
  {
   "cell_type": "markdown",
   "metadata": {},
   "source": [
    "\n",
    "## Custom embedddings con Gensim\n",
    "\n"
   ]
  },
  {
   "cell_type": "markdown",
   "metadata": {
    "id": "vA7nqkumo9z9"
   },
   "source": [
    "### Objetivo\n",
    "El objetivo es utilizar documentos / corpus para crear embeddings de palabras basado en ese contexto. Se utilizará canciones de bandas para generar los embeddings, es decir, que los vectores tendrán la forma en función de como esa banda haya utilizado las palabras en sus canciones."
   ]
  },
  {
   "cell_type": "code",
   "execution_count": null,
   "metadata": {
    "id": "lFToQs5FK5uZ"
   },
   "outputs": [],
   "source": [
    "import pandas as pd\n",
    "import matplotlib.pyplot as plt\n",
    "import seaborn as sns\n",
    "import multiprocessing\n",
    "from gensim.models import Word2Vec"
   ]
  },
  {
   "cell_type": "markdown",
   "metadata": {
    "id": "g07zJxG7H9vG"
   },
   "source": [
    "### Datos\n",
    "Utilizaremos como dataset canciones de bandas de habla inglesa."
   ]
  },
  {
   "cell_type": "code",
   "execution_count": 4,
   "metadata": {
    "id": "l7z4CSBfpR3X"
   },
   "outputs": [],
   "source": [
    "import zipfile\n",
    "# Descargar la carpeta de dataset\n",
    "import os\n",
    "import platform\n",
    "if os.access('./songs_dataset', os.F_OK) is False:\n",
    "    if os.access('songs_dataset.zip', os.F_OK) is False:\n",
    "        if platform.system() == 'Windows':\n",
    "            !curl https://raw.githubusercontent.com/FIUBA-Posgrado-Inteligencia-Artificial/procesamiento_lenguaje_natural/main/datasets/songs_dataset.zip -o songs_dataset.zip\n",
    "        else:\n",
    "            !wget songs_dataset.zip https://github.com/FIUBA-Posgrado-Inteligencia-Artificial/procesamiento_lenguaje_natural/raw/main/datasets/songs_dataset.zip\n",
    "    #!unzip -q songs_dataset.zip   \n",
    "    with zipfile.ZipFile('songs_dataset.zip', 'r') as zip_ref:\n",
    "        zip_ref.extractall('./')\n",
    "else:\n",
    "    print(\"El dataset ya se encuentra descargado\")"
   ]
  },
  {
   "cell_type": "code",
   "execution_count": null,
   "metadata": {
    "id": "mysGrIw9ljC2"
   },
   "outputs": [],
   "source": [
    "# Posibles bandas\n",
    "os.listdir(\"./songs_dataset/\")"
   ]
  },
  {
   "cell_type": "code",
   "execution_count": null,
   "metadata": {
    "id": "ticoqYD1Z3I7"
   },
   "outputs": [],
   "source": [
    "# Armar el dataset utilizando salto de línea para separar las oraciones/docs\n",
    "df = pd.read_csv('songs_dataset/beatles.txt', sep='/n', header=None)\n",
    "df.head()"
   ]
  },
  {
   "cell_type": "code",
   "execution_count": null,
   "metadata": {
    "id": "LEpKubK9XzXN"
   },
   "outputs": [],
   "source": [
    "print(\"Cantidad de documentos:\", df.shape[0])"
   ]
  },
  {
   "cell_type": "markdown",
   "metadata": {
    "id": "ab94qaFlrA1G"
   },
   "source": [
    "### 1 - Preprocesamiento"
   ]
  },
  {
   "cell_type": "code",
   "execution_count": 17,
   "metadata": {
    "id": "rIsmMWmjrDHd"
   },
   "outputs": [],
   "source": [
    "from tensorflow.keras.preprocessing.text import text_to_word_sequence\n",
    "\n",
    "sentence_tokens = []\n",
    "# Recorrer todas las filas y transformar las oraciones\n",
    "# en una secuencia de palabras (esto podría realizarse con NLTK o spaCy también)\n",
    "for _, row in df[:None].iterrows():\n",
    "    sentence_tokens.append(text_to_word_sequence(row[0]))"
   ]
  },
  {
   "cell_type": "code",
   "execution_count": null,
   "metadata": {
    "id": "CHepi_DGrbhq"
   },
   "outputs": [],
   "source": [
    "# Demos un vistazo\n",
    "sentence_tokens[:2]"
   ]
  },
  {
   "cell_type": "markdown",
   "metadata": {
    "id": "BaXV6nlHr5Aa"
   },
   "source": [
    "### 2 - Crear los vectores (word2vec)"
   ]
  },
  {
   "cell_type": "code",
   "execution_count": 35,
   "metadata": {
    "id": "OSb0v7h8r7hK"
   },
   "outputs": [],
   "source": [
    "from gensim.models.callbacks import CallbackAny2Vec\n",
    "# Durante el entrenamiento gensim por defecto no informa el \"loss\" en cada época\n",
    "# Sobrecargamos el callback para poder tener esta información\n",
    "class callback(CallbackAny2Vec):\n",
    "    \"\"\"\n",
    "    Callback to print loss after each epoch\n",
    "    \"\"\"\n",
    "    def __init__(self):\n",
    "        self.epoch = 0\n",
    "\n",
    "    def on_epoch_end(self, model):\n",
    "        loss = model.get_latest_training_loss()\n",
    "        if self.epoch == 0:\n",
    "            print('Loss after epoch {}: {}'.format(self.epoch, loss))\n",
    "        else:\n",
    "            print('Loss after epoch {}: {}'.format(self.epoch, loss- self.loss_previous_step))\n",
    "        self.epoch += 1\n",
    "        self.loss_previous_step = loss"
   ]
  },
  {
   "cell_type": "code",
   "execution_count": 36,
   "metadata": {
    "id": "i0wnDdv9sJ47"
   },
   "outputs": [],
   "source": [
    "# Crearmos el modelo generador de vectores\n",
    "# En este caso utilizaremos la estructura modelo Skipgram\n",
    "w2v_model = Word2Vec(min_count=5,    # frecuencia mínima de palabra para incluirla en el vocabulario\n",
    "                     window=2,       # cant de palabras antes y desp de la predicha\n",
    "                     vector_size=300,       # dimensionalidad de los vectores \n",
    "                     negative=20,    # cantidad de negative samples... 0 es no se usa\n",
    "                     workers=1,      # si tienen más cores pueden cambiar este valor\n",
    "                     sg=1)           # modelo 0:CBOW  1:skipgram"
   ]
  },
  {
   "cell_type": "code",
   "execution_count": 37,
   "metadata": {
    "id": "5lTt8wErsf17"
   },
   "outputs": [],
   "source": [
    "# Obtener el vocabulario con los tokens\n",
    "w2v_model.build_vocab(sentence_tokens)"
   ]
  },
  {
   "cell_type": "code",
   "execution_count": null,
   "metadata": {
    "id": "TNc9qt4os5AT"
   },
   "outputs": [],
   "source": [
    "# Cantidad de filas/docs encontradas en el corpus\n",
    "print(\"Cantidad de docs en el corpus:\", w2v_model.corpus_count)"
   ]
  },
  {
   "cell_type": "code",
   "execution_count": null,
   "metadata": {
    "id": "idw9cHF3tSMl"
   },
   "outputs": [],
   "source": [
    "# Cantidad de words encontradas en el corpus\n",
    "print(\"Cantidad de words distintas en el corpus:\", len(w2v_model.wv.index_to_key))"
   ]
  },
  {
   "cell_type": "markdown",
   "metadata": {
    "id": "fC9mZ8DPk-UC"
   },
   "source": [
    "### 3 - Entrenar embeddings"
   ]
  },
  {
   "cell_type": "code",
   "execution_count": null,
   "metadata": {
    "id": "QSp-x0PAsq56"
   },
   "outputs": [],
   "source": [
    "# Entrenamos el modelo generador de vectores\n",
    "# Utilizamos nuestro callback\n",
    "w2v_model.train(sentence_tokens,\n",
    "                 total_examples=w2v_model.corpus_count,\n",
    "                 epochs=100,\n",
    "                 compute_loss = True,\n",
    "                 callbacks=[callback()]\n",
    "                 )"
   ]
  },
  {
   "cell_type": "markdown",
   "metadata": {
    "id": "ddT9NVuNlCAe"
   },
   "source": [
    "### 4 - Ensayar"
   ]
  },
  {
   "cell_type": "code",
   "execution_count": null,
   "metadata": {
    "id": "6cHN9xGLuPEm"
   },
   "outputs": [],
   "source": [
    "# Palabras que MÁS se relacionan con...:\n",
    "w2v_model.wv.most_similar(positive=[\"darling\"], topn=10)"
   ]
  },
  {
   "cell_type": "code",
   "execution_count": null,
   "metadata": {
    "id": "47HiU5gdkdMq"
   },
   "outputs": [],
   "source": [
    "# Palabras que MENOS se relacionan con...:\n",
    "w2v_model.wv.most_similar(negative=[\"love\"], topn=10)"
   ]
  },
  {
   "cell_type": "code",
   "execution_count": null,
   "metadata": {
    "id": "DT4Rvno2mD65"
   },
   "outputs": [],
   "source": [
    "# Palabras que MÁS se relacionan con...:\n",
    "w2v_model.wv.most_similar(positive=[\"four\"], topn=10)"
   ]
  },
  {
   "cell_type": "code",
   "execution_count": null,
   "metadata": {
    "id": "XPLDPgzBmQXt"
   },
   "outputs": [],
   "source": [
    "# Palabras que MÁS se relacionan con...:\n",
    "w2v_model.wv.most_similar(positive=[\"money\"], topn=5)"
   ]
  },
  {
   "cell_type": "code",
   "execution_count": null,
   "metadata": {
    "id": "L_UvHPMMklOr"
   },
   "outputs": [],
   "source": [
    "# Ensayar con una palabra que no está en el vocabulario:\n",
    "w2v_model.wv.most_similar(negative=[\"diedaa\"])"
   ]
  },
  {
   "cell_type": "code",
   "execution_count": null,
   "metadata": {},
   "outputs": [],
   "source": [
    "# el método `get_vector` permite obtener los vectores:\n",
    "vector_love = w2v_model.wv.get_vector(\"love\")\n",
    "print(vector_love)"
   ]
  },
  {
   "cell_type": "code",
   "execution_count": null,
   "metadata": {},
   "outputs": [],
   "source": [
    "# el método `most_similar` también permite comparar a partir de vectores\n",
    "w2v_model.wv.most_similar(vector_love)"
   ]
  },
  {
   "cell_type": "code",
   "execution_count": null,
   "metadata": {},
   "outputs": [],
   "source": [
    "# Palabras que MÁS se relacionan con...:\n",
    "w2v_model.wv.most_similar(positive=[\"love\"], topn=10)"
   ]
  },
  {
   "cell_type": "markdown",
   "metadata": {
    "id": "_g8UVWe6lFmh"
   },
   "source": [
    "### 5 - Visualizar agrupación de vectores"
   ]
  },
  {
   "cell_type": "code",
   "execution_count": 49,
   "metadata": {
    "id": "pDxEVXAivjr9"
   },
   "outputs": [],
   "source": [
    "from sklearn.decomposition import IncrementalPCA    \n",
    "from sklearn.manifold import TSNE                   \n",
    "import numpy as np                                  \n",
    "\n",
    "def reduce_dimensions(model, num_dimensions = 2 ):\n",
    "     \n",
    "    vectors = np.asarray(model.wv.vectors)\n",
    "    labels = np.asarray(model.wv.index_to_key)  \n",
    "\n",
    "    tsne = TSNE(n_components=num_dimensions, random_state=0)\n",
    "    vectors = tsne.fit_transform(vectors)\n",
    "\n",
    "    return vectors, labels"
   ]
  },
  {
   "cell_type": "code",
   "execution_count": null,
   "metadata": {
    "id": "NCCXtDpcugmd"
   },
   "outputs": [],
   "source": [
    "# Graficar los embedddings en 2D\n",
    "import plotly.graph_objects as go\n",
    "import plotly.express as px\n",
    "\n",
    "vecs, labels = reduce_dimensions(w2v_model)\n",
    "\n",
    "MAX_WORDS=200\n",
    "fig = px.scatter(x=vecs[:MAX_WORDS,0], y=vecs[:MAX_WORDS,1], text=labels[:MAX_WORDS])\n",
    "fig.show()\n",
    "#fig.show(renderer=\"colab\") # esto para plotly en colab"
   ]
  },
  {
   "cell_type": "code",
   "execution_count": null,
   "metadata": {},
   "outputs": [],
   "source": [
    "# Graficar los embedddings en 3D\n",
    "\n",
    "vecs, labels = reduce_dimensions(w2v_model,3)\n",
    "\n",
    "fig = px.scatter_3d(x=vecs[:MAX_WORDS,0], y=vecs[:MAX_WORDS,1], z=vecs[:MAX_WORDS,2],text=labels[:MAX_WORDS])\n",
    "fig.update_traces(marker_size = 2)\n",
    "#fig.show(renderer=\"colab\") # esto para plotly en colab"
   ]
  },
  {
   "cell_type": "code",
   "execution_count": 56,
   "metadata": {},
   "outputs": [],
   "source": [
    "# También se pueden guardar los vectores y labels como tsv para graficar en\n",
    "# http://projector.tensorflow.org/\n",
    "\n",
    "\n",
    "vectors = np.asarray(w2v_model.wv.vectors)\n",
    "labels = list(w2v_model.wv.index_to_key)\n",
    "\n",
    "np.savetxt(\"vectors.tsv\", vectors, delimiter=\"\\t\")\n",
    "\n",
    "with open(\"labels.tsv\", \"w\") as fp:\n",
    "    for item in labels:\n",
    "        fp.write(\"%s\\n\" % item)"
   ]
  },
  {
   "cell_type": "markdown",
   "metadata": {
    "id": "yMM_SHSaZ9N-"
   },
   "source": [
    "### Alumno"
   ]
  },
  {
   "cell_type": "markdown",
   "metadata": {
    "id": "WivQZ3ZCZ9N_"
   },
   "source": [
    "- Crear sus propios vectores con Gensim basado en lo visto en clase con otro dataset.\n",
    "- Probar términos de interés y explicar similitudes en el espacio de embeddings (sacar conclusiones entre palabras similitudes y diferencias).\n",
    "- Graficarlos.\n",
    "- Obtener conclusiones."
   ]
  },
  {
   "cell_type": "markdown",
   "metadata": {},
   "source": [
    "# Solución propuesta"
   ]
  },
  {
   "cell_type": "markdown",
   "metadata": {},
   "source": [
    "El dataset seleccionado es un libro en ingles llamado \"Odyssey of the Dragonlords\". Este libro es una aventura prediseñada para Dungeons Masters y la version 5.0 de Dungeons & Dragons. El documento original está en formato .pdf y se utilizaron herramientas online para transformarlo a .txt.\n",
    "\n",
    "A grandes rasgos, este libro desarrolla el camino que emprende un grupo de aventureros en un entorno similar a la mitologia griega (con dioses e historia específicos del setting del libro) para salvar a su mundo de la perdición, y cómo ellos logran ascender a la divinidad en el proceso."
   ]
  },
  {
   "cell_type": "markdown",
   "metadata": {},
   "source": [
    "Como el libro original esta en dos columnas, gran parte del texto esta separado y se requiere una libreria adicional para facilitar la tokenizacion de las oraciones (nltk). Adicionalmente, en caso de un libro (que no ocurre en canciones normalmente), se debe separar oraciones no solo por puntos, sino tambien por signos de interrogracion y exclamacion. \n",
    "\n",
    "Algunas desventajas de este metodo:\n",
    "\n",
    " - Nombres como por ejemplo Michal E. Cross separan oraciones\n",
    " - La conversion de pdf a texto no es perfecta. Aparecen algunos artefactos como palabras separadas (_T he_ en vez de _The_)"
   ]
  },
  {
   "cell_type": "code",
   "execution_count": 29,
   "metadata": {},
   "outputs": [
    {
     "name": "stderr",
     "output_type": "stream",
     "text": [
      "[nltk_data] Downloading package punkt to\n",
      "[nltk_data]     C:\\Users\\Nicolas\\AppData\\Roaming\\nltk_data...\n",
      "[nltk_data]   Package punkt is already up-to-date!\n"
     ]
    }
   ],
   "source": [
    "import pandas as pd\n",
    "import numpy as np \n",
    "import matplotlib.pyplot as plt\n",
    "import seaborn as sns\n",
    "import multiprocessing\n",
    "from gensim.models import Word2Vec\n",
    "import zipfile\n",
    "import os\n",
    "import platform\n",
    "import plotly.graph_objects as go\n",
    "import plotly.express as px\n",
    "from tensorflow.keras.preprocessing.text import text_to_word_sequence\n",
    "from gensim.models.callbacks import CallbackAny2Vec\n",
    "from sklearn.decomposition import IncrementalPCA    \n",
    "from sklearn.manifold import TSNE\n",
    "import re\n",
    "import nltk\n",
    "nltk.download('punkt')\n",
    "from nltk.tokenize.punkt import PunktSentenceTokenizer, PunktParameters "
   ]
  },
  {
   "cell_type": "code",
   "execution_count": 2,
   "metadata": {},
   "outputs": [
    {
     "data": {
      "text/html": [
       "<div>\n",
       "<style scoped>\n",
       "    .dataframe tbody tr th:only-of-type {\n",
       "        vertical-align: middle;\n",
       "    }\n",
       "\n",
       "    .dataframe tbody tr th {\n",
       "        vertical-align: top;\n",
       "    }\n",
       "\n",
       "    .dataframe thead th {\n",
       "        text-align: right;\n",
       "    }\n",
       "</style>\n",
       "<table border=\"1\" class=\"dataframe\">\n",
       "  <thead>\n",
       "    <tr style=\"text-align: right;\">\n",
       "      <th></th>\n",
       "      <th>Sentence</th>\n",
       "    </tr>\n",
       "  </thead>\n",
       "  <tbody>\n",
       "    <tr>\n",
       "      <th>0</th>\n",
       "      <td>Welcome to Odyssey of the Dragonlords.</td>\n",
       "    </tr>\n",
       "    <tr>\n",
       "      <th>1</th>\n",
       "      <td>This booklet will provide you with everything ...</td>\n",
       "    </tr>\n",
       "    <tr>\n",
       "      <th>2</th>\n",
       "      <td>Odyssey of the Dragonlords is heavily inspired...</td>\n",
       "    </tr>\n",
       "    <tr>\n",
       "      <th>3</th>\n",
       "      <td>As we designed the campaign, we sought to incl...</td>\n",
       "    </tr>\n",
       "    <tr>\n",
       "      <th>4</th>\n",
       "      <td>However, Thylea is not ancient Greece.</td>\n",
       "    </tr>\n",
       "    <tr>\n",
       "      <th>5</th>\n",
       "      <td>You will not find Zeus, Athena, or Apollo amon...</td>\n",
       "    </tr>\n",
       "    <tr>\n",
       "      <th>6</th>\n",
       "      <td>As you explore Thylea, you will encounter fami...</td>\n",
       "    </tr>\n",
       "    <tr>\n",
       "      <th>7</th>\n",
       "      <td>Mortals have only recently come to these lands.</td>\n",
       "    </tr>\n",
       "    <tr>\n",
       "      <th>8</th>\n",
       "      <td>The world of Thylea blends high fantasy with t...</td>\n",
       "    </tr>\n",
       "    <tr>\n",
       "      <th>9</th>\n",
       "      <td>Elves, dwarves, and halflings now live alongsi...</td>\n",
       "    </tr>\n",
       "  </tbody>\n",
       "</table>\n",
       "</div>"
      ],
      "text/plain": [
       "                                            Sentence\n",
       "0             Welcome to Odyssey of the Dragonlords.\n",
       "1  This booklet will provide you with everything ...\n",
       "2  Odyssey of the Dragonlords is heavily inspired...\n",
       "3  As we designed the campaign, we sought to incl...\n",
       "4             However, Thylea is not ancient Greece.\n",
       "5  You will not find Zeus, Athena, or Apollo amon...\n",
       "6  As you explore Thylea, you will encounter fami...\n",
       "7    Mortals have only recently come to these lands.\n",
       "8  The world of Thylea blends high fantasy with t...\n",
       "9  Elves, dwarves, and halflings now live alongsi..."
      ]
     },
     "execution_count": 2,
     "metadata": {},
     "output_type": "execute_result"
    }
   ],
   "source": [
    "punkt_param = PunktParameters()\n",
    "punkt_param.abbrev_types = set()\n",
    "sentence_tokenizer = PunktSentenceTokenizer(punkt_param)\n",
    "\n",
    "def custom_tokenize(text):\n",
    "    # Split text on the specified punctuation marks\n",
    "    sentences = re.split(r'(?<!\\w\\.\\w.)(?<![A-Z][a-z]\\.)(?<=\\.|\\?|!)\\s', text)\n",
    "    return sentences\n",
    "\n",
    "\n",
    "with open(\"Odyssey of the Dragonlords.txt\", \"r\") as file:\n",
    "    lines = file.readlines()\n",
    "    text = \" \".join(line.strip() for line in lines)\n",
    "    \n",
    "sentences = custom_tokenize(text)\n",
    "\n",
    "# Create a DataFrame from the sentences\n",
    "df = pd.DataFrame(sentences, columns=['Sentence'])\n",
    "\n",
    "df.head(10)"
   ]
  },
  {
   "cell_type": "code",
   "execution_count": 3,
   "metadata": {},
   "outputs": [
    {
     "name": "stdout",
     "output_type": "stream",
     "text": [
      "Cantidad de documentos: 17618\n"
     ]
    }
   ],
   "source": [
    "print(\"Cantidad de documentos:\", df.shape[0])"
   ]
  },
  {
   "cell_type": "code",
   "execution_count": 4,
   "metadata": {},
   "outputs": [
    {
     "name": "stderr",
     "output_type": "stream",
     "text": [
      "C:\\Users\\Nicolas\\AppData\\Local\\Temp\\ipykernel_13728\\4086292549.py:4: FutureWarning: Series.__getitem__ treating keys as positions is deprecated. In a future version, integer keys will always be treated as labels (consistent with DataFrame behavior). To access a value by position, use `ser.iloc[pos]`\n",
      "  sentence_tokens.append(text_to_word_sequence(row[0]))\n"
     ]
    },
    {
     "data": {
      "text/plain": [
       "['a',\n",
       " 'fearsome',\n",
       " 'minotaur',\n",
       " 'and',\n",
       " 'a',\n",
       " 'massive',\n",
       " 'gygan',\n",
       " 'warrior',\n",
       " 'are',\n",
       " 'fighting',\n",
       " 'each',\n",
       " 'other',\n",
       " 'honing',\n",
       " 'their',\n",
       " 'skills',\n",
       " 'for',\n",
       " 'battle']"
      ]
     },
     "execution_count": 4,
     "metadata": {},
     "output_type": "execute_result"
    }
   ],
   "source": [
    "sentence_tokens = []\n",
    "\n",
    "for _, row in df[:None].iterrows():\n",
    "    sentence_tokens.append(text_to_word_sequence(row[0]))\n",
    "\n",
    "sentence_tokens[8783]"
   ]
  },
  {
   "cell_type": "code",
   "execution_count": 5,
   "metadata": {},
   "outputs": [],
   "source": [
    "from gensim.models.callbacks import CallbackAny2Vec\n",
    "# Durante el entrenamiento gensim por defecto no informa el \"loss\" en cada época\n",
    "# Sobrecargamos el callback para poder tener esta información\n",
    "class callback(CallbackAny2Vec):\n",
    "    \"\"\"\n",
    "    Callback to print loss after each epoch\n",
    "    \"\"\"\n",
    "    def __init__(self):\n",
    "        self.epoch = 0\n",
    "\n",
    "    def on_epoch_end(self, model):\n",
    "        loss = model.get_latest_training_loss()\n",
    "        if self.epoch == 0:\n",
    "            print('Loss after epoch {}: {}'.format(self.epoch, loss))\n",
    "        else:\n",
    "            print('Loss after epoch {}: {}'.format(self.epoch, loss- self.loss_previous_step))\n",
    "        self.epoch += 1\n",
    "        self.loss_previous_step = loss\n"
   ]
  },
  {
   "cell_type": "code",
   "execution_count": 6,
   "metadata": {},
   "outputs": [],
   "source": [
    "# Crearmos el modelo generador de vectores\n",
    "# En este caso utilizaremos la estructura modelo Skipgram\n",
    "w2v_model = Word2Vec(min_count=5,    # frecuencia mínima de palabra para incluirla en el vocabulario\n",
    "                     window=5,       # cant de palabras antes y desp de la predicha\n",
    "                     vector_size=1000,       # dimensionalidad de los vectores \n",
    "                     negative=20,    # cantidad de negative samples... 0 es no se usa\n",
    "                     workers=12,      # si tienen más cores pueden cambiar este valor\n",
    "                     sg=1)           # modelo 0:CBOW  1:skipgram"
   ]
  },
  {
   "cell_type": "code",
   "execution_count": 7,
   "metadata": {},
   "outputs": [],
   "source": [
    "# Obtener el vocabulario con los tokens\n",
    "w2v_model.build_vocab(sentence_tokens)"
   ]
  },
  {
   "cell_type": "code",
   "execution_count": 8,
   "metadata": {},
   "outputs": [
    {
     "name": "stdout",
     "output_type": "stream",
     "text": [
      "Cantidad de docs en el corpus: 17618\n",
      "Cantidad de words distintas en el corpus: 5454\n"
     ]
    }
   ],
   "source": [
    "# Cantidad de filas/docs encontradas en el corpus\n",
    "print(\"Cantidad de docs en el corpus:\", w2v_model.corpus_count)\n",
    "# Cantidad de words encontradas en el corpus\n",
    "print(\"Cantidad de words distintas en el corpus:\", len(w2v_model.wv.index_to_key))"
   ]
  },
  {
   "cell_type": "code",
   "execution_count": 9,
   "metadata": {},
   "outputs": [],
   "source": [
    "train = False\n",
    "if (train):\n",
    "    # Entrenamos el modelo generador de vectores\n",
    "    # Utilizamos nuestro callback\n",
    "    w2v_model.train(sentence_tokens,\n",
    "                    total_examples=w2v_model.corpus_count,\n",
    "                    epochs=100,\n",
    "                    compute_loss = True,\n",
    "                    callbacks=[callback()]\n",
    "                    )\n",
    "    # Guardar el modelo\n",
    "    w2v_model.save(\"w2v_model.model\")\n",
    "else:\n",
    "    w2v_model = Word2Vec.load(\"w2v_model.model\")"
   ]
  },
  {
   "cell_type": "markdown",
   "metadata": {},
   "source": [
    "## Relaciones de palabras"
   ]
  },
  {
   "cell_type": "markdown",
   "metadata": {},
   "source": [
    "### Lutheria"
   ]
  },
  {
   "cell_type": "code",
   "execution_count": 10,
   "metadata": {},
   "outputs": [
    {
     "data": {
      "text/plain": [
       "[('twin', 0.32119855284690857),\n",
       " ('dominion', 0.29322871565818787),\n",
       " ('mistress', 0.29278141260147095),\n",
       " ('humor', 0.29062914848327637),\n",
       " ('m20', 0.29052576422691345),\n",
       " ('sydon', 0.2856642007827759),\n",
       " ('confronting', 0.2844409644603729),\n",
       " ('scythe', 0.27126264572143555),\n",
       " ('pellenia', 0.2703191041946411),\n",
       " ('ascended', 0.2695517838001251)]"
      ]
     },
     "execution_count": 10,
     "metadata": {},
     "output_type": "execute_result"
    }
   ],
   "source": [
    "# Palabras que MÁS se relacionan con...:\n",
    "w2v_model.wv.most_similar(positive=[\"lutheria\"], topn=10)"
   ]
  },
  {
   "cell_type": "markdown",
   "metadata": {},
   "source": [
    "Lutheria, junto con Sydon, son los antagonistas principales de la historia, en la que ellos son mellizos. Sin embargo, en la aventura Sydon juega un rol mas activo, y por ende se suele llamar a Lutheria mas por su rol como melliza (twin) que como su propia persona. Su arma caracteristica es una guadaña (scythe). El lugar donde los aventureros se la encuentran para enfrentarla esta denotado como M20. Pellenia es un personaje a quien Lutheria capturó durante la guerra, y logró escaparse acoplandose al humor oscuro de Lutheria."
   ]
  },
  {
   "cell_type": "markdown",
   "metadata": {},
   "source": [
    "### Sydon"
   ]
  },
  {
   "cell_type": "code",
   "execution_count": 11,
   "metadata": {},
   "outputs": [
    {
     "data": {
      "text/plain": [
       "[('demanded', 0.3137003779411316),\n",
       " ('visage', 0.30404555797576904),\n",
       " ('lutheria', 0.28566423058509827),\n",
       " ('prayer', 0.2799292504787445),\n",
       " ('obedience', 0.2785988748073578),\n",
       " ('enslaved', 0.27811679244041443),\n",
       " ('chalcia', 0.27806198596954346),\n",
       " ('valued', 0.2769514322280884),\n",
       " ('goloron', 0.2692423462867737),\n",
       " ('letters', 0.2684606909751892)]"
      ]
     },
     "execution_count": 11,
     "metadata": {},
     "output_type": "execute_result"
    }
   ],
   "source": [
    "w2v_model.wv.most_similar(positive=[\"sydon\"], topn=10)"
   ]
  },
  {
   "cell_type": "markdown",
   "metadata": {},
   "source": [
    "Sydon, como antagonista principal de la historia, se comunica con sus vasallos por medio de exigencias (demanded, prayer, obedience, enslaved). Tiene varios hijos, como Goloron y Chalcia."
   ]
  },
  {
   "cell_type": "markdown",
   "metadata": {},
   "source": [
    "### Dragonlord"
   ]
  },
  {
   "cell_type": "code",
   "execution_count": 34,
   "metadata": {},
   "outputs": [
    {
     "data": {
      "text/plain": [
       "[('—rizon', 0.40449315309524536),\n",
       " ('phobas', 0.3691289722919464),\n",
       " ('rizon', 0.36301249265670776),\n",
       " ('huorath', 0.3129887282848358),\n",
       " ('da', 0.30400747060775757),\n",
       " ('options', 0.29541727900505066),\n",
       " ('inscription', 0.28474023938179016),\n",
       " ('telamok', 0.28195810317993164),\n",
       " ('wyrmling', 0.2817297875881195),\n",
       " ('dr', 0.28172892332077026)]"
      ]
     },
     "execution_count": 34,
     "metadata": {},
     "output_type": "execute_result"
    }
   ],
   "source": [
    "w2v_model.wv.most_similar(positive=[\"dragonlord\"], topn=10)"
   ]
  },
  {
   "cell_type": "markdown",
   "metadata": {},
   "source": [
    "En la aventura, hace 500 años el mundo peligraba mucho por la furia de los Dioses antagonistas. Ese yugo fue destruido por 5 Dragonlords (Rizon Phobas siendo dos de ellos). Actualmente sus cuerpos yacen en Telamok, una necropolis."
   ]
  },
  {
   "cell_type": "markdown",
   "metadata": {},
   "source": [
    "### Telamok"
   ]
  },
  {
   "cell_type": "code",
   "execution_count": 35,
   "metadata": {},
   "outputs": [
    {
     "data": {
      "text/plain": [
       "[('necropolis', 0.5355798006057739),\n",
       " ('isadore', 0.42447105050086975),\n",
       " ('recognizes', 0.400800496339798),\n",
       " ('ochos', 0.3859226703643799),\n",
       " ('oathsworn', 0.3764425814151764),\n",
       " ('savage', 0.3762202560901642),\n",
       " ('interred', 0.3749942183494568),\n",
       " ('damon', 0.37309616804122925),\n",
       " ('arkelander', 0.3687095046043396),\n",
       " ('maintained', 0.3405444920063019)]"
      ]
     },
     "execution_count": 35,
     "metadata": {},
     "output_type": "execute_result"
    }
   ],
   "source": [
    "w2v_model.wv.most_similar(positive=[\"telamok\"], topn=10)"
   ]
  },
  {
   "cell_type": "markdown",
   "metadata": {},
   "source": [
    "Telamok es una necropolis en la cual yacen los cuerpos de los Dragonlords y sus descendientes (Ochos Arkelander y Isadore Arkelander). La custodia y mantiene Damon."
   ]
  },
  {
   "cell_type": "markdown",
   "metadata": {},
   "source": [
    "### Arkelander"
   ]
  },
  {
   "cell_type": "code",
   "execution_count": 36,
   "metadata": {},
   "outputs": [
    {
     "data": {
      "text/plain": [
       "[('estor', 0.6508475542068481),\n",
       " ('ochos', 0.4653950035572052),\n",
       " ('atrocities', 0.4040852189064026),\n",
       " ('lysis', 0.39857515692710876),\n",
       " ('savage', 0.3852740228176117),\n",
       " ('ghost', 0.3820172846317291),\n",
       " ('mast', 0.3796650469303131),\n",
       " ('telamok', 0.3687095046043396),\n",
       " ('descendant', 0.3686769902706146),\n",
       " ('bloodthirsty', 0.36141887307167053)]"
      ]
     },
     "execution_count": 36,
     "metadata": {},
     "output_type": "execute_result"
    }
   ],
   "source": [
    "w2v_model.wv.most_similar(positive=[\"arkelander\"], topn=10)"
   ]
  },
  {
   "cell_type": "markdown",
   "metadata": {},
   "source": [
    "Arkelander es el apellido de Estor, el capitan de los Dragonlords. Ochos y Lysis con descendientes de el. Traicionó a sus compañeros, cometiendo atrocidades (atrocities). Ronda el mundo como un fantasma (ghost) con sed de venganza (bloodthirsty)."
   ]
  },
  {
   "cell_type": "markdown",
   "metadata": {},
   "source": [
    "### Estoria"
   ]
  },
  {
   "cell_type": "code",
   "execution_count": 37,
   "metadata": {},
   "outputs": [
    {
     "data": {
      "text/plain": [
       "[('e7', 0.38028454780578613),\n",
       " ('reliquary', 0.32181617617607117),\n",
       " ('roads', 0.3163324296474457),\n",
       " ('leyland', 0.2993161082267761),\n",
       " ('retired', 0.29784077405929565),\n",
       " ('arkelon', 0.28519758582115173),\n",
       " ('commerce', 0.2828056514263153),\n",
       " ('estorian', 0.28231507539749146),\n",
       " ('vintage', 0.28136008977890015),\n",
       " ('aresia', 0.2811938226222992)]"
      ]
     },
     "execution_count": 37,
     "metadata": {},
     "output_type": "execute_result"
    }
   ],
   "source": [
    "w2v_model.wv.most_similar(positive=[\"estoria\"], topn=10)"
   ]
  },
  {
   "cell_type": "markdown",
   "metadata": {},
   "source": [
    "Estoria es una de las tres ciudades mas grandes y presentes en la historia. Sus habitantes son llamados estorian. Su economia se basa en el comercio, y su ubicacion mas iconica es un templo (denotado como zona E7) en el cual hay una reliquia (reliquary). Actualmente está en guerra con otra ciudad: Aresia."
   ]
  },
  {
   "cell_type": "markdown",
   "metadata": {},
   "source": [
    "### Vallus"
   ]
  },
  {
   "cell_type": "code",
   "execution_count": 38,
   "metadata": {},
   "outputs": [
    {
     "data": {
      "text/plain": [
       "[('kyrah', 0.343248188495636),\n",
       " ('married', 0.3371690809726715),\n",
       " ('miracle', 0.31950101256370544),\n",
       " ('performing', 0.2918865978717804),\n",
       " ('volkan', 0.2873549163341522),\n",
       " ('goddess', 0.28729772567749023),\n",
       " ('sulla', 0.28409093618392944),\n",
       " ('argyn', 0.2812820076942444),\n",
       " ('cleric', 0.27932360768318176),\n",
       " ('bathhouse', 0.27904176712036133)]"
      ]
     },
     "execution_count": 38,
     "metadata": {},
     "output_type": "execute_result"
    }
   ],
   "source": [
    "w2v_model.wv.most_similar(positive=[\"vallus\"], topn=10)"
   ]
  },
  {
   "cell_type": "markdown",
   "metadata": {},
   "source": [
    "Vallus (goddess), junto con otros 4 Dioses (Kyrah y Volkan siendo dos de ellos), son los deuteragonistas de la historia, ya que están del lado de los aventureros para luchar contra los Dioses antagonistas Sydon y Lutheria. Está casada (married) con el rey de una de las ciudades."
   ]
  },
  {
   "cell_type": "markdown",
   "metadata": {},
   "source": [
    "### Oracle"
   ]
  },
  {
   "cell_type": "code",
   "execution_count": 39,
   "metadata": {},
   "outputs": [
    {
     "data": {
      "text/plain": [
       "[('versi', 0.4209427237510681),\n",
       " ('hook', 0.38196486234664917),\n",
       " ('prophesied', 0.35330653190612793),\n",
       " ('oracle’s', 0.3395397365093231),\n",
       " ('destiny', 0.3268973231315613),\n",
       " ('heleka', 0.3086612820625305),\n",
       " ('attendants', 0.302988201379776),\n",
       " ('fabled', 0.2922656536102295),\n",
       " ('boiling', 0.28950029611587524),\n",
       " ('encourages', 0.2870042026042938)]"
      ]
     },
     "execution_count": 39,
     "metadata": {},
     "output_type": "execute_result"
    }
   ],
   "source": [
    "w2v_model.wv.most_similar(positive=[\"oracle\"], topn=10)"
   ]
  },
  {
   "cell_type": "markdown",
   "metadata": {},
   "source": [
    "El oraculo (Versi) es quien profetiza (prophesied) que el mundo está en peligro, y convoca a heroespara que hagan un juramento (destiny) y lo salven. Utiliza los vapores del agua hirviente (boiling) de un rio volcanico como medio para sus visiones. Cuando los aventureros la encuentran, está aprisionada por una bruja llamada Heleka. "
   ]
  },
  {
   "cell_type": "markdown",
   "metadata": {},
   "source": [
    "### Centaur"
   ]
  },
  {
   "cell_type": "code",
   "execution_count": 40,
   "metadata": {},
   "outputs": [
    {
     "data": {
      "text/plain": [
       "[('druid', 0.42028653621673584),\n",
       " ('chieftain', 0.3463837206363678),\n",
       " ('hostages', 0.3432929813861847),\n",
       " ('coalition', 0.33578360080718994),\n",
       " ('scorpion', 0.29452553391456604),\n",
       " ('strongest', 0.29204317927360535),\n",
       " ('truce', 0.29186272621154785),\n",
       " ('warband', 0.28972527384757996),\n",
       " (\"zakroth's\", 0.28656506538391113),\n",
       " ('carcass', 0.2611949145793915)]"
      ]
     },
     "execution_count": 40,
     "metadata": {},
     "output_type": "execute_result"
    }
   ],
   "source": [
    "w2v_model.wv.most_similar(positive=[\"centaur\"], topn=10)"
   ]
  },
  {
   "cell_type": "markdown",
   "metadata": {},
   "source": [
    "En esta historia, los centauros se agrupan en tribus lideradas por un capitan (chieftain), están aliados (coalition) con druidas (druid), se mueven en patrullas (warbands) para matar y mantener su territorio. "
   ]
  },
  {
   "cell_type": "markdown",
   "metadata": {},
   "source": [
    "### Dragon"
   ]
  },
  {
   "cell_type": "code",
   "execution_count": 41,
   "metadata": {},
   "outputs": [
    {
     "data": {
      "text/plain": [
       "[('egg', 0.3522506654262543),\n",
       " ('brass', 0.3498973846435547),\n",
       " ('clone', 0.34094443917274475),\n",
       " ('eggs', 0.33431243896484375),\n",
       " ('wyrmling', 0.33144429326057434),\n",
       " ('e7', 0.3285750448703766),\n",
       " ('turtles', 0.3274625241756439),\n",
       " ('adult', 0.31750428676605225),\n",
       " ('hatch', 0.3130284547805786),\n",
       " ('huorath', 0.30567899346351624)]"
      ]
     },
     "execution_count": 41,
     "metadata": {},
     "output_type": "execute_result"
    }
   ],
   "source": [
    "w2v_model.wv.most_similar(positive=[\"dragon\"], topn=10)"
   ]
  },
  {
   "cell_type": "markdown",
   "metadata": {},
   "source": [
    "Uno de los objetivos que deben cumplir los aventureros para salvar el mundo, es convertirse en Dragonlords. Para eso, requieren un dragon. Los dragones se encuentran en forma de huevo (egg), el cual deben cuidar hasta que se abra (hatch). Los dragones se clasifican por tipos (brass siendo uno de ellos) y por su edad, siendo Wyrmling y Adult dos de ellas."
   ]
  },
  {
   "cell_type": "markdown",
   "metadata": {},
   "source": [
    "### Hear"
   ]
  },
  {
   "cell_type": "code",
   "execution_count": 42,
   "metadata": {},
   "outputs": [
    {
     "data": {
      "text/plain": [
       "[('sounds', 0.36909207701683044),\n",
       " ('faint', 0.3643706440925598),\n",
       " ('whispering', 0.3575986325740814),\n",
       " ('beats', 0.3358883857727051),\n",
       " ('chorus', 0.32671448588371277),\n",
       " ('echoing', 0.29963380098342896),\n",
       " ('voices', 0.29205086827278137),\n",
       " (\"isn't\", 0.2824938893318176),\n",
       " ('inspire', 0.27686917781829834),\n",
       " ('farther', 0.27272072434425354)]"
      ]
     },
     "execution_count": 42,
     "metadata": {},
     "output_type": "execute_result"
    }
   ],
   "source": [
    "w2v_model.wv.most_similar(positive=[\"hear\"], topn=10)"
   ]
  },
  {
   "cell_type": "markdown",
   "metadata": {},
   "source": [
    "Hear es una palabra muy utilizada para describir a los aventureros lo que escuchan cuando investigan los distintos lugares del mundo. Vemos que todas las palabras estan relacionadas a adjetivos que describen sonidos."
   ]
  },
  {
   "cell_type": "markdown",
   "metadata": {},
   "source": [
    "### Trap"
   ]
  },
  {
   "cell_type": "code",
   "execution_count": 43,
   "metadata": {},
   "outputs": [
    {
     "data": {
      "text/plain": [
       "[('lever', 0.3447284698486328),\n",
       " ('trigger', 0.30654585361480713),\n",
       " ('triggers', 0.3064015209674835),\n",
       " ('mechanism', 0.28719663619995117),\n",
       " ('dimension', 0.28359702229499817),\n",
       " ('saddle', 0.27254432439804077),\n",
       " ('pulling', 0.2694096267223358),\n",
       " ('opening', 0.2643486261367798),\n",
       " ('outcropping', 0.2638585567474365),\n",
       " ('portcullis', 0.26384368538856506)]"
      ]
     },
     "execution_count": 43,
     "metadata": {},
     "output_type": "execute_result"
    }
   ],
   "source": [
    "w2v_model.wv.most_similar(positive=[\"trap\"], topn=10)"
   ]
  },
  {
   "cell_type": "markdown",
   "metadata": {},
   "source": [
    "Los aventureros se enfrentan a muchas trampas a lo largo de la historia, algunas relacionadas con palancas (lever), puertas (portcullis), u otros mecanismos (mechanism) que las desencadenan (trigger y triggers)."
   ]
  },
  {
   "cell_type": "markdown",
   "metadata": {},
   "source": [
    "## Relaciones de vectores"
   ]
  },
  {
   "cell_type": "markdown",
   "metadata": {},
   "source": [
    "Definimos algunos vectores para ver como se comportan cuando los relacionamos por operaciones aritmeticas como suma y resta."
   ]
  },
  {
   "cell_type": "code",
   "execution_count": 50,
   "metadata": {},
   "outputs": [
    {
     "name": "stdout",
     "output_type": "stream",
     "text": [
      "[('lutheria', 1.0000001192092896), ('twin', 0.32119855284690857), ('dominion', 0.29322871565818787), ('mistress', 0.29278141260147095), ('humor', 0.29062914848327637), ('m20', 0.29052576422691345), ('sydon', 0.2856642007827759), ('confronting', 0.2844409644603729), ('scythe', 0.27126264572143555), ('pellenia', 0.2703191041946411)]\n",
      "[('sydon', 1.0), ('demanded', 0.3137003779411316), ('visage', 0.30404555797576904), ('lutheria', 0.2856642007827759), ('prayer', 0.2799292504787445), ('obedience', 0.2785989046096802), ('enslaved', 0.27811679244041443), ('chalcia', 0.27806198596954346), ('valued', 0.2769514322280884), ('goloron', 0.2692423462867737)]\n",
      "[('kyrah', 1.0), (\"kyrah's\", 0.38376134634017944), ('vallus', 0.3432481586933136), ('murphy', 0.3006424605846405), ('poet', 0.29154619574546814), ('music', 0.2902476489543915), ('pythor', 0.2825680673122406), ('recognizes', 0.2737751603126526), ('trickery', 0.2707512676715851), ('euria', 0.26841118931770325)]\n",
      "[('pythor', 1.0), ('tortoise', 0.34136253595352173), ('volkan', 0.30890241265296936), ('god', 0.2900052070617676), ('onward', 0.28801581263542175), ('overthrew', 0.28498703241348267), ('kyrah', 0.282568097114563), ('married', 0.275479257106781), ('demi', 0.2662397027015686), ('lysis', 0.26490524411201477)]\n",
      "[('necropolis', 1.0), ('telamok', 0.5355798006057739), ('isadore', 0.3639894723892212), ('ashore', 0.3417281210422516), ('recognizes', 0.32851603627204895), ('peninsula', 0.3273332715034485), ('construction', 0.3263661861419678), ('campaigns', 0.323922336101532), ('maintained', 0.3206174075603485), ('canyon', 0.313857764005661)]\n",
      "[('damon', 1.0), ('wizard', 0.42616036534309387), ('lich', 0.4026995599269867), ('telamok', 0.37309613823890686), ('joey', 0.3483125567436218), ('isadore', 0.3357185125350952), ('laura', 0.3281346559524536), ('kelly', 0.3264356851577759), ('charlie', 0.32352137565612793), ('adonis', 0.3231041729450226)]\n"
     ]
    }
   ],
   "source": [
    "vector1 = w2v_model.wv.get_vector(\"lutheria\")\n",
    "vector2 = w2v_model.wv.get_vector(\"sydon\")\n",
    "vector3 = w2v_model.wv.get_vector(\"kyrah\")\n",
    "vector4 = w2v_model.wv.get_vector(\"pythor\")\n",
    "vector5 = w2v_model.wv.get_vector(\"necropolis\")\n",
    "vector6 = w2v_model.wv.get_vector(\"damon\")\n",
    "print(w2v_model.wv.most_similar(vector1))\n",
    "print(w2v_model.wv.most_similar(vector2))\n",
    "print(w2v_model.wv.most_similar(vector3))\n",
    "print(w2v_model.wv.most_similar(vector4))\n",
    "print(w2v_model.wv.most_similar(vector5))\n",
    "print(w2v_model.wv.most_similar(vector6))"
   ]
  },
  {
   "cell_type": "markdown",
   "metadata": {},
   "source": [
    "Al sumar dos vectores, las palabras de cada vector van a ser las principales, por lo que las eliminamos para estudiar los terminos que quedan."
   ]
  },
  {
   "cell_type": "code",
   "execution_count": 23,
   "metadata": {},
   "outputs": [
    {
     "data": {
      "text/plain": [
       "[('twin', 0.3413958251476288),\n",
       " ('m20', 0.32334211468696594),\n",
       " ('confronting', 0.319794237613678),\n",
       " ('enslaved', 0.31925731897354126),\n",
       " ('talieus', 0.3191412091255188),\n",
       " ('dominion', 0.3145463466644287),\n",
       " ('schemes', 0.31349533796310425),\n",
       " ('visage', 0.31207963824272156)]"
      ]
     },
     "execution_count": 23,
     "metadata": {},
     "output_type": "execute_result"
    }
   ],
   "source": [
    "w2v_model.wv.most_similar(vector1 + vector2)[2:]"
   ]
  },
  {
   "cell_type": "markdown",
   "metadata": {},
   "source": [
    "Sumar el vector Lutheria y el vector Sydon nos da palabras como twin (son gemelos), m20 (zona donde se pueden encontrar a ambos personajes), schemes (ambos confabulan contra los aventureros)."
   ]
  },
  {
   "cell_type": "code",
   "execution_count": 24,
   "metadata": {},
   "outputs": [
    {
     "data": {
      "text/plain": [
       "[('vallus', 0.37169426679611206),\n",
       " (\"kyrah's\", 0.35637420415878296),\n",
       " ('volkan', 0.3387851119041443),\n",
       " ('married', 0.32192543148994446),\n",
       " ('murphy', 0.3085871934890747),\n",
       " ('miracle', 0.2962086498737335),\n",
       " ('ivory', 0.29618969559669495),\n",
       " ('onward', 0.2960524260997772)]"
      ]
     },
     "execution_count": 24,
     "metadata": {},
     "output_type": "execute_result"
    }
   ],
   "source": [
    "w2v_model.wv.most_similar(vector3 + vector4)[2:]"
   ]
  },
  {
   "cell_type": "markdown",
   "metadata": {},
   "source": [
    "Sumar el vector Kyrah y Pythor (dos de los 5 dioses aliados) nos da palabras como Vallus (1 de los 5 Dioses), Volkan (otro de los 5 Dioses), miracle (todos los Dioses quieren el milagro de salvar el mundo), onward (todos los Dioses ayudan a que la historia se mueva hacia adelante)."
   ]
  },
  {
   "cell_type": "code",
   "execution_count": 51,
   "metadata": {},
   "outputs": [
    {
     "data": {
      "text/plain": [
       "[('telamok', 0.5626704096794128),\n",
       " ('lich', 0.44291505217552185),\n",
       " ('isadore', 0.43433693051338196),\n",
       " ('recognizes', 0.39297401905059814),\n",
       " ('laura', 0.3877762258052826),\n",
       " ('payment', 0.3783584535121918),\n",
       " ('manned', 0.36919304728507996),\n",
       " ('wizard', 0.3624146580696106)]"
      ]
     },
     "execution_count": 51,
     "metadata": {},
     "output_type": "execute_result"
    }
   ],
   "source": [
    "w2v_model.wv.most_similar(vector5 + vector6)[2:]"
   ]
  },
  {
   "cell_type": "markdown",
   "metadata": {},
   "source": [
    "Sumar el vector necropolis y Damon nos da palabras como lich (Damon es un lich y se encuentra en la necropolis), Telamok (el nombre de la necropolis), wizard (antes de ser un lich, damon era un mago)."
   ]
  },
  {
   "cell_type": "markdown",
   "metadata": {},
   "source": [
    "## Graficas"
   ]
  },
  {
   "cell_type": "code",
   "execution_count": 27,
   "metadata": {},
   "outputs": [],
   "source": [
    "def reduce_dimensions(model, num_dimensions = 2 ):\n",
    "     \n",
    "    vectors = np.asarray(model.wv.vectors)\n",
    "    labels = np.asarray(model.wv.index_to_key)  \n",
    "\n",
    "    tsne = TSNE(n_components=num_dimensions, random_state=0)\n",
    "    vectors = tsne.fit_transform(vectors)\n",
    "\n",
    "    return vectors, labels"
   ]
  },
  {
   "cell_type": "code",
   "execution_count": 53,
   "metadata": {},
   "outputs": [
    {
     "data": {
      "application/vnd.plotly.v1+json": {
       "config": {
        "plotlyServerURL": "https://plot.ly"
       },
       "data": [
        {
         "hovertemplate": "x=%{x}<br>y=%{y}<br>text=%{text}<extra></extra>",
         "legendgroup": "",
         "marker": {
          "color": "#636efa",
          "symbol": "circle"
         },
         "mode": "markers+text",
         "name": "",
         "orientation": "v",
         "showlegend": false,
         "text": [
          "r",
          "gains",
          "merrow",
          "gargantuan",
          "immune",
          "doesn’t",
          "complete",
          "jancan",
          "ask",
          "explore",
          "easily",
          "terrifying",
          "whether",
          "hag",
          "extra",
          "nuckle",
          "unlike",
          "opportunity",
          "seem",
          "approach",
          "said",
          "captured",
          "stephen",
          "completely",
          "us",
          "don’t",
          "rage",
          "initiative",
          "vanished",
          "right",
          "total",
          "temples",
          "shadows",
          "locations",
          "sphere",
          "taking",
          "required",
          "priest",
          "civilization",
          "gift",
          "keeps",
          "entirely",
          "components",
          "bottom",
          "hexia",
          "material",
          "“the",
          "works",
          "oaths",
          "charles",
          "smell",
          "2nd",
          "mount",
          "hidden",
          "learned",
          "monsters",
          "breastplate",
          "alive",
          "discover",
          "towards",
          "addition",
          "depths",
          "wants",
          "believes",
          "protected",
          "moves",
          "famous",
          "word",
          "access",
          "tunnel",
          "possess",
          "honor",
          "merchants",
          "result",
          "surrounded",
          "twenty",
          "settlements",
          "die",
          "forged",
          "lotus",
          "innate",
          "thesilea",
          "labors",
          "maximum",
          "map",
          "steros",
          "served",
          "lever",
          "actually",
          "hits",
          "perform",
          "jeremy",
          "raised",
          "shields",
          "wooden",
          "vast",
          "original",
          "front",
          "grows",
          "earth",
          "follow",
          "j",
          "third",
          "higher",
          "aesop",
          "continue",
          "ne",
          "lutheria's",
          "mad",
          "asks",
          "brown",
          "roots",
          "maenads",
          "likely",
          "hunt",
          "aurae",
          "normal",
          "coral",
          "hundreds",
          "failed",
          "sense",
          "doomed",
          "pool",
          "desire",
          "recently",
          "levels",
          "haunted",
          "demi",
          "mountains",
          "civilized",
          "cult",
          "copper",
          "fear",
          "karpathos",
          "snake",
          "minutes",
          "prisoners",
          "cause",
          "did",
          "list",
          "week",
          "currently",
          "bite",
          "miles",
          "thylean",
          "why",
          "our",
          "x",
          "monstrous",
          "tom",
          "gardens",
          "major",
          "stories",
          "wild",
          "rumors",
          "roleplaying",
          "enters",
          "it’s",
          "settlers",
          "reward",
          "yet",
          "forever",
          "wishes",
          "swear",
          "telamok",
          "features",
          "nick",
          "ten",
          "le",
          "scorpion",
          "1st",
          "answer",
          "seeking",
          "service",
          "priests",
          "height",
          "coming",
          "arrival",
          "surrounding",
          "rules",
          "animal",
          "think",
          "player",
          "noble",
          "anthony",
          "ambrosia",
          "husband",
          "done",
          "am",
          "olive",
          "tarrasque",
          "movement",
          "hill",
          "sealed",
          "tools",
          "agree",
          "22",
          "gifted",
          "window",
          "witch"
         ],
         "type": "scatter",
         "x": [
          5.5569682121276855,
          0.8171736598014832,
          0.9060223698616028,
          -0.9719647765159607,
          1.093554139137268,
          -1.2887886762619019,
          -2.2916548252105713,
          4.86814546585083,
          -3.2587480545043945,
          -2.620109796524048,
          -3.114856243133545,
          -4.176342487335205,
          -3.458871603012085,
          -0.0977676585316658,
          2.677706241607666,
          -3.6727187633514404,
          -2.2695915699005127,
          -2.4398510456085205,
          -4.426879405975342,
          -1.979131817817688,
          -3.423093795776367,
          -5.613511085510254,
          5.3409104347229,
          -5.9759674072265625,
          -3.2140088081359863,
          -6.914340972900391,
          0.856463611125946,
          1.267676591873169,
          -2.0468590259552,
          -4.025827884674072,
          -6.13454532623291,
          -1.1091896295547485,
          -2.8731319904327393,
          -6.547479152679443,
          -8.44957447052002,
          0.8489210605621338,
          1.754136323928833,
          1.7671757936477661,
          -6.552819728851318,
          -4.970816135406494,
          -1.667341947555542,
          -4.558015823364258,
          3.028245449066162,
          -4.034570693969727,
          -4.441756248474121,
          4.506835460662842,
          -7.71599006652832,
          -4.949319839477539,
          -4.571196556091309,
          6.069575309753418,
          3.1608340740203857,
          3.520740032196045,
          -1.5593856573104858,
          -3.6028811931610107,
          -2.378124237060547,
          -2.3615102767944336,
          2.790074348449707,
          -3.041548728942871,
          -2.3031435012817383,
          -3.7329344749450684,
          -2.5540878772735596,
          -4.301968097686768,
          -1.8878973722457886,
          -3.0623390674591064,
          -6.410665512084961,
          2.138061046600342,
          1.6195805072784424,
          -0.16231775283813477,
          0.9565646648406982,
          -5.270892143249512,
          -6.101862907409668,
          -4.231818199157715,
          -6.9856648445129395,
          1.3024276494979858,
          -5.489120960235596,
          -2.356645107269287,
          -0.0862133726477623,
          -2.7959721088409424,
          -3.160099506378174,
          8.161543846130371,
          5.401054859161377,
          -1.2537075281143188,
          -4.412030220031738,
          1.7430649995803833,
          -6.045284748077393,
          5.097970962524414,
          -0.2330521196126938,
          -2.177025079727173,
          -2.256791830062866,
          1.5302873849868774,
          -7.4825568199157715,
          6.478123188018799,
          -4.049627304077148,
          0.5984097719192505,
          -1.2054474353790283,
          -4.067716121673584,
          0.2398933470249176,
          -2.6372883319854736,
          -5.6468706130981445,
          -5.459644317626953,
          -3.234802484512329,
          5.110818862915039,
          2.550240993499756,
          -8.635462760925293,
          0.316354900598526,
          -2.563828229904175,
          1.8282238245010376,
          -7.447216033935547,
          -5.217833042144775,
          -6.700422763824463,
          7.274801731109619,
          -7.180798053741455,
          -1.6465811729431152,
          -4.268830299377441,
          6.314067363739014,
          0.16903501749038696,
          -1.8152600526809692,
          -2.8008646965026855,
          -3.290030002593994,
          2.1761715412139893,
          -3.198720693588257,
          -3.0197222232818604,
          -3.1846277713775635,
          -3.6653032302856445,
          -4.3723602294921875,
          -1.556787371635437,
          -0.8684631586074829,
          3.464073896408081,
          0.19285725057125092,
          -6.645005702972412,
          -4.785543918609619,
          -0.6297134757041931,
          -2.4831466674804688,
          -6.347635269165039,
          -4.784107208251953,
          -0.9097991585731506,
          -2.591923952102661,
          -5.173334121704102,
          -4.383205890655518,
          3.2842888832092285,
          -1.3522412776947021,
          -6.153909206390381,
          1.267982840538025,
          5.242587089538574,
          -5.527731895446777,
          -2.6161766052246094,
          -2.9023516178131104,
          7.697835445404053,
          -2.8757150173187256,
          5.185925483703613,
          1.4563159942626953,
          -1.7833055257797241,
          -2.8340959548950195,
          4.4519805908203125,
          -1.0732312202453613,
          -5.257591724395752,
          -1.1437439918518066,
          -2.9680871963500977,
          -4.4691081047058105,
          -1.0844199657440186,
          -4.649135112762451,
          -3.307684898376465,
          -2.8219361305236816,
          -4.499199867248535,
          0.9177860617637634,
          -2.9037108421325684,
          6.216934680938721,
          3.0433568954467773,
          5.91132926940918,
          -6.207980632781982,
          3.1136562824249268,
          -4.695837020874023,
          -2.5829734802246094,
          -4.636417865753174,
          -0.8013834953308105,
          -3.5463473796844482,
          -3.28063702583313,
          -1.2432671785354614,
          -0.9315760731697083,
          -0.7571990489959717,
          3.506671667098999,
          -3.972883939743042,
          -2.3255763053894043,
          2.1366145610809326,
          6.008318901062012,
          1.4673360586166382,
          -3.5313169956207275,
          -2.6917026042938232,
          -4.3869147300720215,
          1.4701764583587646,
          -4.943997859954834,
          3.312169075012207,
          6.757923603057861,
          -2.672046661376953,
          2.6002182960510254,
          -3.143556833267212,
          3.3387625217437744,
          0.08112822473049164,
          -0.6053670048713684,
          8.163562774658203
         ],
         "xaxis": "x",
         "y": [
          -4.507228851318359,
          1.0188119411468506,
          3.475393056869507,
          1.6506354808807373,
          1.4609463214874268,
          0.25241753458976746,
          -4.985327243804932,
          3.8315703868865967,
          -3.0866146087646484,
          -1.8235208988189697,
          0.5639942288398743,
          0.913966953754425,
          -0.8501550555229187,
          1.4225142002105713,
          1.883286952972412,
          1.6097867488861084,
          3.320456027984619,
          -0.4495494067668915,
          -0.6641449332237244,
          0.6870602965354919,
          -1.0564559698104858,
          -1.5026546716690063,
          -1.1341402530670166,
          -0.4804289638996124,
          -1.1359074115753174,
          -1.0883663892745972,
          2.3797717094421387,
          1.309458613395691,
          -0.576321542263031,
          0.35538339614868164,
          -4.955794334411621,
          -2.4856696128845215,
          2.782641649246216,
          4.849031925201416,
          4.103020668029785,
          2.1320903301239014,
          -6.2361226081848145,
          -1.8805968761444092,
          -1.0417097806930542,
          2.0026822090148926,
          1.1322312355041504,
          0.503728985786438,
          -4.532053470611572,
          4.7013702392578125,
          -0.9598500728607178,
          -3.619910717010498,
          3.7265546321868896,
          -0.897494375705719,
          -4.613420009613037,
          -0.18829357624053955,
          0.13304507732391357,
          -4.392979621887207,
          1.0638521909713745,
          0.982884407043457,
          -1.5878678560256958,
          -3.4078524112701416,
          2.723586320877075,
          0.5944178700447083,
          -1.5176019668579102,
          3.484924793243408,
          -5.0473432540893555,
          4.247838973999023,
          -0.7503955960273743,
          -1.9790089130401611,
          1.4372758865356445,
          2.8460934162139893,
          -1.3421555757522583,
          -1.571311354637146,
          -6.477384090423584,
          2.9735896587371826,
          -2.792140245437622,
          -3.988926410675049,
          0.10374995321035385,
          1.0114649534225464,
          4.202995300292969,
          -8.521718978881836,
          -3.9444191455841064,
          -0.2586277723312378,
          2.2016570568084717,
          2.90751051902771,
          -6.661088466644287,
          -6.517893314361572,
          -2.3168270587921143,
          2.1418073177337646,
          -0.8094141483306885,
          3.822117805480957,
          -2.043470859527588,
          3.640240430831909,
          0.7584164142608643,
          2.7912628650665283,
          -2.491546630859375,
          -0.588527500629425,
          0.07481949031352997,
          6.176732063293457,
          5.28224515914917,
          2.022151231765747,
          1.4840861558914185,
          2.583635091781616,
          2.6382710933685303,
          2.8203248977661133,
          0.832460880279541,
          -2.5144660472869873,
          -1.5693670511245728,
          0.18737120926380157,
          1.971208930015564,
          1.1230939626693726,
          -2.1242244243621826,
          2.8332090377807617,
          3.307455539703369,
          -1.3358501195907593,
          -0.854997992515564,
          2.4525909423828125,
          1.3808650970458984,
          -0.5251886248588562,
          0.3386428952217102,
          -3.134004592895508,
          2.136636972427368,
          8.274085998535156,
          0.813360869884491,
          1.6038528680801392,
          5.710405349731445,
          -0.5173349976539612,
          4.6739583015441895,
          -0.8350180983543396,
          1.3788578510284424,
          -5.376297473907471,
          -4.4811577796936035,
          -1.980570673942566,
          -3.207599401473999,
          -1.8408774137496948,
          7.722944736480713,
          1.4439314603805542,
          -1.274459719657898,
          1.4631388187408447,
          7.717885494232178,
          -0.4546359181404114,
          1.8131582736968994,
          -1.1834481954574585,
          -0.09529554098844528,
          -5.019170761108398,
          0.0685853436589241,
          2.739628314971924,
          2.8351547718048096,
          1.178376317024231,
          -4.9754862785339355,
          -2.8709678649902344,
          -1.4797719717025757,
          -3.624187469482422,
          -6.1209235191345215,
          -0.9761864542961121,
          -3.828563690185547,
          -4.274631977081299,
          -2.8146517276763916,
          -4.8614606857299805,
          -3.793386459350586,
          -3.5008623600006104,
          1.9814121723175049,
          1.2124484777450562,
          -2.9417612552642822,
          -0.8966824412345886,
          -1.936545729637146,
          -0.939367413520813,
          -2.340348958969116,
          -4.310481548309326,
          4.429843425750732,
          2.5762760639190674,
          -0.018538063392043114,
          -1.2133259773254395,
          -1.6859312057495117,
          0.6399466395378113,
          -4.036354064941406,
          -3.586979866027832,
          -1.131923794746399,
          -4.400390625,
          -2.1329333782196045,
          3.6400911808013916,
          2.0940654277801514,
          -3.0170483589172363,
          -0.7442622780799866,
          -1.5942054986953735,
          -4.411237716674805,
          -1.2840148210525513,
          -4.348958492279053,
          -2.4273035526275635,
          -1.511243224143982,
          4.587924957275391,
          -0.6122519373893738,
          -0.6032594442367554,
          -3.825932741165161,
          4.748076438903809,
          0.7671521902084351,
          2.6583492755889893,
          -1.7516632080078125,
          1.5952141284942627,
          0.417370080947876,
          -1.5378354787826538,
          1.543396234512329,
          1.5917212963104248,
          3.6379969120025635,
          2.9084668159484863
         ],
         "yaxis": "y"
        }
       ],
       "layout": {
        "legend": {
         "tracegroupgap": 0
        },
        "margin": {
         "t": 60
        },
        "template": {
         "data": {
          "bar": [
           {
            "error_x": {
             "color": "#2a3f5f"
            },
            "error_y": {
             "color": "#2a3f5f"
            },
            "marker": {
             "line": {
              "color": "#E5ECF6",
              "width": 0.5
             },
             "pattern": {
              "fillmode": "overlay",
              "size": 10,
              "solidity": 0.2
             }
            },
            "type": "bar"
           }
          ],
          "barpolar": [
           {
            "marker": {
             "line": {
              "color": "#E5ECF6",
              "width": 0.5
             },
             "pattern": {
              "fillmode": "overlay",
              "size": 10,
              "solidity": 0.2
             }
            },
            "type": "barpolar"
           }
          ],
          "carpet": [
           {
            "aaxis": {
             "endlinecolor": "#2a3f5f",
             "gridcolor": "white",
             "linecolor": "white",
             "minorgridcolor": "white",
             "startlinecolor": "#2a3f5f"
            },
            "baxis": {
             "endlinecolor": "#2a3f5f",
             "gridcolor": "white",
             "linecolor": "white",
             "minorgridcolor": "white",
             "startlinecolor": "#2a3f5f"
            },
            "type": "carpet"
           }
          ],
          "choropleth": [
           {
            "colorbar": {
             "outlinewidth": 0,
             "ticks": ""
            },
            "type": "choropleth"
           }
          ],
          "contour": [
           {
            "colorbar": {
             "outlinewidth": 0,
             "ticks": ""
            },
            "colorscale": [
             [
              0,
              "#0d0887"
             ],
             [
              0.1111111111111111,
              "#46039f"
             ],
             [
              0.2222222222222222,
              "#7201a8"
             ],
             [
              0.3333333333333333,
              "#9c179e"
             ],
             [
              0.4444444444444444,
              "#bd3786"
             ],
             [
              0.5555555555555556,
              "#d8576b"
             ],
             [
              0.6666666666666666,
              "#ed7953"
             ],
             [
              0.7777777777777778,
              "#fb9f3a"
             ],
             [
              0.8888888888888888,
              "#fdca26"
             ],
             [
              1,
              "#f0f921"
             ]
            ],
            "type": "contour"
           }
          ],
          "contourcarpet": [
           {
            "colorbar": {
             "outlinewidth": 0,
             "ticks": ""
            },
            "type": "contourcarpet"
           }
          ],
          "heatmap": [
           {
            "colorbar": {
             "outlinewidth": 0,
             "ticks": ""
            },
            "colorscale": [
             [
              0,
              "#0d0887"
             ],
             [
              0.1111111111111111,
              "#46039f"
             ],
             [
              0.2222222222222222,
              "#7201a8"
             ],
             [
              0.3333333333333333,
              "#9c179e"
             ],
             [
              0.4444444444444444,
              "#bd3786"
             ],
             [
              0.5555555555555556,
              "#d8576b"
             ],
             [
              0.6666666666666666,
              "#ed7953"
             ],
             [
              0.7777777777777778,
              "#fb9f3a"
             ],
             [
              0.8888888888888888,
              "#fdca26"
             ],
             [
              1,
              "#f0f921"
             ]
            ],
            "type": "heatmap"
           }
          ],
          "heatmapgl": [
           {
            "colorbar": {
             "outlinewidth": 0,
             "ticks": ""
            },
            "colorscale": [
             [
              0,
              "#0d0887"
             ],
             [
              0.1111111111111111,
              "#46039f"
             ],
             [
              0.2222222222222222,
              "#7201a8"
             ],
             [
              0.3333333333333333,
              "#9c179e"
             ],
             [
              0.4444444444444444,
              "#bd3786"
             ],
             [
              0.5555555555555556,
              "#d8576b"
             ],
             [
              0.6666666666666666,
              "#ed7953"
             ],
             [
              0.7777777777777778,
              "#fb9f3a"
             ],
             [
              0.8888888888888888,
              "#fdca26"
             ],
             [
              1,
              "#f0f921"
             ]
            ],
            "type": "heatmapgl"
           }
          ],
          "histogram": [
           {
            "marker": {
             "pattern": {
              "fillmode": "overlay",
              "size": 10,
              "solidity": 0.2
             }
            },
            "type": "histogram"
           }
          ],
          "histogram2d": [
           {
            "colorbar": {
             "outlinewidth": 0,
             "ticks": ""
            },
            "colorscale": [
             [
              0,
              "#0d0887"
             ],
             [
              0.1111111111111111,
              "#46039f"
             ],
             [
              0.2222222222222222,
              "#7201a8"
             ],
             [
              0.3333333333333333,
              "#9c179e"
             ],
             [
              0.4444444444444444,
              "#bd3786"
             ],
             [
              0.5555555555555556,
              "#d8576b"
             ],
             [
              0.6666666666666666,
              "#ed7953"
             ],
             [
              0.7777777777777778,
              "#fb9f3a"
             ],
             [
              0.8888888888888888,
              "#fdca26"
             ],
             [
              1,
              "#f0f921"
             ]
            ],
            "type": "histogram2d"
           }
          ],
          "histogram2dcontour": [
           {
            "colorbar": {
             "outlinewidth": 0,
             "ticks": ""
            },
            "colorscale": [
             [
              0,
              "#0d0887"
             ],
             [
              0.1111111111111111,
              "#46039f"
             ],
             [
              0.2222222222222222,
              "#7201a8"
             ],
             [
              0.3333333333333333,
              "#9c179e"
             ],
             [
              0.4444444444444444,
              "#bd3786"
             ],
             [
              0.5555555555555556,
              "#d8576b"
             ],
             [
              0.6666666666666666,
              "#ed7953"
             ],
             [
              0.7777777777777778,
              "#fb9f3a"
             ],
             [
              0.8888888888888888,
              "#fdca26"
             ],
             [
              1,
              "#f0f921"
             ]
            ],
            "type": "histogram2dcontour"
           }
          ],
          "mesh3d": [
           {
            "colorbar": {
             "outlinewidth": 0,
             "ticks": ""
            },
            "type": "mesh3d"
           }
          ],
          "parcoords": [
           {
            "line": {
             "colorbar": {
              "outlinewidth": 0,
              "ticks": ""
             }
            },
            "type": "parcoords"
           }
          ],
          "pie": [
           {
            "automargin": true,
            "type": "pie"
           }
          ],
          "scatter": [
           {
            "fillpattern": {
             "fillmode": "overlay",
             "size": 10,
             "solidity": 0.2
            },
            "type": "scatter"
           }
          ],
          "scatter3d": [
           {
            "line": {
             "colorbar": {
              "outlinewidth": 0,
              "ticks": ""
             }
            },
            "marker": {
             "colorbar": {
              "outlinewidth": 0,
              "ticks": ""
             }
            },
            "type": "scatter3d"
           }
          ],
          "scattercarpet": [
           {
            "marker": {
             "colorbar": {
              "outlinewidth": 0,
              "ticks": ""
             }
            },
            "type": "scattercarpet"
           }
          ],
          "scattergeo": [
           {
            "marker": {
             "colorbar": {
              "outlinewidth": 0,
              "ticks": ""
             }
            },
            "type": "scattergeo"
           }
          ],
          "scattergl": [
           {
            "marker": {
             "colorbar": {
              "outlinewidth": 0,
              "ticks": ""
             }
            },
            "type": "scattergl"
           }
          ],
          "scattermapbox": [
           {
            "marker": {
             "colorbar": {
              "outlinewidth": 0,
              "ticks": ""
             }
            },
            "type": "scattermapbox"
           }
          ],
          "scatterpolar": [
           {
            "marker": {
             "colorbar": {
              "outlinewidth": 0,
              "ticks": ""
             }
            },
            "type": "scatterpolar"
           }
          ],
          "scatterpolargl": [
           {
            "marker": {
             "colorbar": {
              "outlinewidth": 0,
              "ticks": ""
             }
            },
            "type": "scatterpolargl"
           }
          ],
          "scatterternary": [
           {
            "marker": {
             "colorbar": {
              "outlinewidth": 0,
              "ticks": ""
             }
            },
            "type": "scatterternary"
           }
          ],
          "surface": [
           {
            "colorbar": {
             "outlinewidth": 0,
             "ticks": ""
            },
            "colorscale": [
             [
              0,
              "#0d0887"
             ],
             [
              0.1111111111111111,
              "#46039f"
             ],
             [
              0.2222222222222222,
              "#7201a8"
             ],
             [
              0.3333333333333333,
              "#9c179e"
             ],
             [
              0.4444444444444444,
              "#bd3786"
             ],
             [
              0.5555555555555556,
              "#d8576b"
             ],
             [
              0.6666666666666666,
              "#ed7953"
             ],
             [
              0.7777777777777778,
              "#fb9f3a"
             ],
             [
              0.8888888888888888,
              "#fdca26"
             ],
             [
              1,
              "#f0f921"
             ]
            ],
            "type": "surface"
           }
          ],
          "table": [
           {
            "cells": {
             "fill": {
              "color": "#EBF0F8"
             },
             "line": {
              "color": "white"
             }
            },
            "header": {
             "fill": {
              "color": "#C8D4E3"
             },
             "line": {
              "color": "white"
             }
            },
            "type": "table"
           }
          ]
         },
         "layout": {
          "annotationdefaults": {
           "arrowcolor": "#2a3f5f",
           "arrowhead": 0,
           "arrowwidth": 1
          },
          "autotypenumbers": "strict",
          "coloraxis": {
           "colorbar": {
            "outlinewidth": 0,
            "ticks": ""
           }
          },
          "colorscale": {
           "diverging": [
            [
             0,
             "#8e0152"
            ],
            [
             0.1,
             "#c51b7d"
            ],
            [
             0.2,
             "#de77ae"
            ],
            [
             0.3,
             "#f1b6da"
            ],
            [
             0.4,
             "#fde0ef"
            ],
            [
             0.5,
             "#f7f7f7"
            ],
            [
             0.6,
             "#e6f5d0"
            ],
            [
             0.7,
             "#b8e186"
            ],
            [
             0.8,
             "#7fbc41"
            ],
            [
             0.9,
             "#4d9221"
            ],
            [
             1,
             "#276419"
            ]
           ],
           "sequential": [
            [
             0,
             "#0d0887"
            ],
            [
             0.1111111111111111,
             "#46039f"
            ],
            [
             0.2222222222222222,
             "#7201a8"
            ],
            [
             0.3333333333333333,
             "#9c179e"
            ],
            [
             0.4444444444444444,
             "#bd3786"
            ],
            [
             0.5555555555555556,
             "#d8576b"
            ],
            [
             0.6666666666666666,
             "#ed7953"
            ],
            [
             0.7777777777777778,
             "#fb9f3a"
            ],
            [
             0.8888888888888888,
             "#fdca26"
            ],
            [
             1,
             "#f0f921"
            ]
           ],
           "sequentialminus": [
            [
             0,
             "#0d0887"
            ],
            [
             0.1111111111111111,
             "#46039f"
            ],
            [
             0.2222222222222222,
             "#7201a8"
            ],
            [
             0.3333333333333333,
             "#9c179e"
            ],
            [
             0.4444444444444444,
             "#bd3786"
            ],
            [
             0.5555555555555556,
             "#d8576b"
            ],
            [
             0.6666666666666666,
             "#ed7953"
            ],
            [
             0.7777777777777778,
             "#fb9f3a"
            ],
            [
             0.8888888888888888,
             "#fdca26"
            ],
            [
             1,
             "#f0f921"
            ]
           ]
          },
          "colorway": [
           "#636efa",
           "#EF553B",
           "#00cc96",
           "#ab63fa",
           "#FFA15A",
           "#19d3f3",
           "#FF6692",
           "#B6E880",
           "#FF97FF",
           "#FECB52"
          ],
          "font": {
           "color": "#2a3f5f"
          },
          "geo": {
           "bgcolor": "white",
           "lakecolor": "white",
           "landcolor": "#E5ECF6",
           "showlakes": true,
           "showland": true,
           "subunitcolor": "white"
          },
          "hoverlabel": {
           "align": "left"
          },
          "hovermode": "closest",
          "mapbox": {
           "style": "light"
          },
          "paper_bgcolor": "white",
          "plot_bgcolor": "#E5ECF6",
          "polar": {
           "angularaxis": {
            "gridcolor": "white",
            "linecolor": "white",
            "ticks": ""
           },
           "bgcolor": "#E5ECF6",
           "radialaxis": {
            "gridcolor": "white",
            "linecolor": "white",
            "ticks": ""
           }
          },
          "scene": {
           "xaxis": {
            "backgroundcolor": "#E5ECF6",
            "gridcolor": "white",
            "gridwidth": 2,
            "linecolor": "white",
            "showbackground": true,
            "ticks": "",
            "zerolinecolor": "white"
           },
           "yaxis": {
            "backgroundcolor": "#E5ECF6",
            "gridcolor": "white",
            "gridwidth": 2,
            "linecolor": "white",
            "showbackground": true,
            "ticks": "",
            "zerolinecolor": "white"
           },
           "zaxis": {
            "backgroundcolor": "#E5ECF6",
            "gridcolor": "white",
            "gridwidth": 2,
            "linecolor": "white",
            "showbackground": true,
            "ticks": "",
            "zerolinecolor": "white"
           }
          },
          "shapedefaults": {
           "line": {
            "color": "#2a3f5f"
           }
          },
          "ternary": {
           "aaxis": {
            "gridcolor": "white",
            "linecolor": "white",
            "ticks": ""
           },
           "baxis": {
            "gridcolor": "white",
            "linecolor": "white",
            "ticks": ""
           },
           "bgcolor": "#E5ECF6",
           "caxis": {
            "gridcolor": "white",
            "linecolor": "white",
            "ticks": ""
           }
          },
          "title": {
           "x": 0.05
          },
          "xaxis": {
           "automargin": true,
           "gridcolor": "white",
           "linecolor": "white",
           "ticks": "",
           "title": {
            "standoff": 15
           },
           "zerolinecolor": "white",
           "zerolinewidth": 2
          },
          "yaxis": {
           "automargin": true,
           "gridcolor": "white",
           "linecolor": "white",
           "ticks": "",
           "title": {
            "standoff": 15
           },
           "zerolinecolor": "white",
           "zerolinewidth": 2
          }
         }
        },
        "xaxis": {
         "anchor": "y",
         "domain": [
          0,
          1
         ],
         "title": {
          "text": "x"
         }
        },
        "yaxis": {
         "anchor": "x",
         "domain": [
          0,
          1
         ],
         "title": {
          "text": "y"
         }
        }
       }
      }
     },
     "metadata": {},
     "output_type": "display_data"
    }
   ],
   "source": [
    "vecs, labels = reduce_dimensions(w2v_model)\n",
    "\n",
    "START_INDEX = 1000\n",
    "MAX_WORDS=200\n",
    "fig = px.scatter(x=vecs[START_INDEX:START_INDEX + MAX_WORDS,0], y=vecs[START_INDEX:START_INDEX + MAX_WORDS,1], text=labels[START_INDEX:START_INDEX + MAX_WORDS])\n",
    "fig.show()"
   ]
  },
  {
   "cell_type": "code",
   "execution_count": 52,
   "metadata": {},
   "outputs": [
    {
     "data": {
      "application/vnd.plotly.v1+json": {
       "config": {
        "plotlyServerURL": "https://plot.ly"
       },
       "data": [
        {
         "hovertemplate": "x=%{x}<br>y=%{y}<br>z=%{z}<br>text=%{text}<extra></extra>",
         "legendgroup": "",
         "marker": {
          "color": "#636efa",
          "size": 2,
          "symbol": "circle"
         },
         "mode": "markers+text",
         "name": "",
         "scene": "scene",
         "showlegend": false,
         "text": [
          "the",
          "of",
          "to",
          "a",
          "and",
          "is",
          "in",
          "are",
          "that",
          "",
          "they",
          "with",
          "this",
          "you",
          "for",
          "it",
          "as",
          "by",
          "will",
          "be",
          "on",
          "from",
          "he",
          "their",
          "heroes",
          "can",
          "one",
          "his",
          "at",
          "have",
          "has",
          "if",
          "or",
          "an",
          "her",
          "she",
          "but",
          "into",
          "your",
          "who",
          "them",
          "all",
          "its",
          "when",
          "•",
          "each",
          "sydon",
          "thylea",
          "attack",
          "not",
          "hit",
          "been",
          "there",
          "must",
          "was",
          "damage",
          "1",
          "any",
          "dragon",
          "city",
          "two",
          "may",
          "great",
          "island",
          "other",
          "these",
          "then",
          "ft",
          "mytros",
          "creature",
          "lutheria",
          "10",
          "5",
          "time",
          "level",
          "room",
          "only",
          "use",
          "gods",
          "party",
          "once",
          "no",
          "most",
          "make",
          "target",
          "spell",
          "him",
          "sea",
          "out",
          "dc",
          "against",
          "were",
          "saving",
          "creatures",
          "which",
          "2",
          "than",
          "so",
          "many",
          "also",
          "first",
          "king",
          "more",
          "3",
          "through",
          "temple",
          "three",
          "dragonlords",
          "before",
          "new",
          "up",
          "throw",
          "weapon",
          "ch",
          "magic",
          "some",
          "five",
          "battle",
          "ship",
          "long",
          "apter",
          "queen",
          "while",
          "bronze",
          "titans",
          "used",
          "over",
          "here",
          "even",
          "should",
          "down",
          "anyone",
          "where",
          "after",
          "see",
          "about",
          "within",
          "”",
          "attacks",
          "chamber",
          "water",
          "feet",
          "order",
          "points",
          "like",
          "tower",
          "spells",
          "hero",
          "god",
          "day",
          "i",
          "take",
          "15",
          "20",
          "such",
          "would",
          "armor",
          "large",
          "oath",
          "end",
          "death",
          "until",
          "upon",
          "gp",
          "world",
          "power",
          "magical",
          "turn",
          "every",
          "4",
          "appendix",
          "way",
          "ancient",
          "choose",
          "now",
          "pythor",
          "action",
          "years",
          "takes",
          "goddess",
          "perception",
          "come",
          "epic",
          "wisdom",
          "small",
          "do",
          "war",
          "8",
          "fire",
          "however",
          "mortals",
          "6",
          "back",
          "centaurs",
          "12",
          "reach",
          "makes",
          "powerful",
          "stone",
          "during"
         ],
         "type": "scatter3d",
         "x": [
          -1220.2767333984375,
          -706.123291015625,
          -21.830856323242188,
          -60.98768615722656,
          -237.3207550048828,
          9.367935180664062,
          -0.06391480565071106,
          -2.4335286617279053,
          -49.75114440917969,
          -13.965413093566895,
          -0.20737305283546448,
          -0.3564848005771637,
          -5.889152526855469,
          3.1764721870422363,
          -8.079514503479004,
          2.08377742767334,
          -3.4009430408477783,
          -5.8519086837768555,
          3.710571765899658,
          -2.493922472000122,
          3.859617233276367,
          -1.5028595924377441,
          -2.6027510166168213,
          2.119403839111328,
          -2.2248525619506836,
          0.35908088088035583,
          6.056298732757568,
          2.1817922592163086,
          0.30671441555023193,
          -4.811798572540283,
          -9.886192321777344,
          6.798442363739014,
          4.801861763000488,
          -5.8775954246521,
          5.719027519226074,
          1.205196499824524,
          -4.850582599639893,
          4.74611759185791,
          7.812756538391113,
          -9.362157821655273,
          0.21167615056037903,
          3.3371639251708984,
          8.330300331115723,
          10.414711952209473,
          19.36400032043457,
          1.1916202306747437,
          1.1951271295547485,
          -30.649091720581055,
          52.366424560546875,
          -1.29979407787323,
          31.998640060424805,
          -7.397522449493408,
          -11.632824897766113,
          32.083641052246094,
          -14.321654319763184,
          46.39803695678711,
          62.73067092895508,
          8.530875205993652,
          15.440461158752441,
          -43.025691986083984,
          2.434236526489258,
          6.217939853668213,
          13.702414512634277,
          -21.75717544555664,
          -27.96346664428711,
          -6.961668491363525,
          10.234953880310059,
          31.26718521118164,
          -43.486881256103516,
          48.99134826660156,
          13.692578315734863,
          55.198158264160156,
          58.500301361083984,
          -2.8315348625183105,
          -23.2753963470459,
          37.421966552734375,
          3.310969114303589,
          17.14826011657715,
          -20.598310470581055,
          10.037444114685059,
          -0.8905510306358337,
          -22.682497024536133,
          -12.873533248901367,
          18.942371368408203,
          64.71651458740234,
          39.871280670166016,
          5.299345970153809,
          -0.7536720633506775,
          -26.74091911315918,
          57.880062103271484,
          -12.442808151245117,
          -12.405729293823242,
          64.2176513671875,
          -0.635117769241333,
          -11.68027400970459,
          52.98536682128906,
          -26.70804786682129,
          -5.8420023918151855,
          -5.428048133850098,
          -20.297578811645508,
          -15.202964782714844,
          38.79911422729492,
          -23.20279884338379,
          52.56521987915039,
          16.990856170654297,
          29.07671546936035,
          -28.55596351623535,
          -10.838064193725586,
          8.16811752319336,
          -61.2650032043457,
          9.353829383850098,
          62.512413024902344,
          53.254234313964844,
          -9.173818588256836,
          -31.72282600402832,
          13.92149829864502,
          -14.2556791305542,
          -23.402463912963867,
          -15.404521942138672,
          70.7752456665039,
          -9.141642570495605,
          4.902706146240234,
          -13.348278999328613,
          8.600302696228027,
          -30.772401809692383,
          7.045869827270508,
          -0.82050621509552,
          -22.8754825592041,
          -11.803049087524414,
          17.431493759155273,
          -8.083492279052734,
          26.876644134521484,
          1.0928791761398315,
          -11.190167427062988,
          21.88071632385254,
          -8.071918487548828,
          17.591800689697266,
          -2.7686147689819336,
          67.09082794189453,
          45.8519287109375,
          13.921186447143555,
          38.50058364868164,
          23.64046287536621,
          30.86417579650879,
          -14.689592361450195,
          9.482909202575684,
          -18.757686614990234,
          21.930795669555664,
          34.9709358215332,
          -10.700713157653809,
          -35.240543365478516,
          28.050317764282227,
          59.711185455322266,
          48.21672821044922,
          -24.614643096923828,
          7.868557929992676,
          12.82260799407959,
          63.55244445800781,
          -13.232977867126465,
          -31.03067970275879,
          -23.534080505371094,
          10.41282844543457,
          -2.8969788551330566,
          25.461528778076172,
          -27.154624938964844,
          0.38106629252433777,
          -24.73362922668457,
          43.33917999267578,
          -56.45815658569336,
          51.84017562866211,
          -34.90037155151367,
          -11.223590850830078,
          -18.029977798461914,
          16.393657684326172,
          -17.670799255371094,
          -0.2647562026977539,
          54.86970520019531,
          -17.242643356323242,
          30.047348022460938,
          25.441560745239258,
          45.62739181518555,
          -35.01250076293945,
          13.644632339477539,
          57.66181564331055,
          1.6141942739486694,
          -2.5215930938720703,
          -19.554912567138672,
          58.57746505737305,
          -8.675262451171875,
          0.4888102412223816,
          -20.152568817138672,
          55.721778869628906,
          24.911731719970703,
          20.398361206054688,
          49.956886291503906,
          28.53744888305664,
          -1.7592655420303345,
          -0.07994278520345688,
          73.7496109008789,
          11.111261367797852
         ],
         "y": [
          274.606689453125,
          94.27591705322266,
          6.588142395019531,
          141.37347412109375,
          106.1678695678711,
          -8.26075553894043,
          19.523107528686523,
          37.92680740356445,
          8.270777702331543,
          8.425002098083496,
          31.443418502807617,
          22.766782760620117,
          21.140674591064453,
          26.22389030456543,
          27.02621841430664,
          22.206296920776367,
          28.129127502441406,
          22.875211715698242,
          31.2301082611084,
          25.885845184326172,
          20.826290130615234,
          20.07762336730957,
          31.45644760131836,
          28.35752296447754,
          31.420541763305664,
          28.65264129638672,
          26.499839782714844,
          30.596799850463867,
          25.19187355041504,
          32.08327102661133,
          32.9588737487793,
          35.696170806884766,
          31.8541259765625,
          26.683940887451172,
          33.09464645385742,
          35.30891799926758,
          34.182899475097656,
          20.791162490844727,
          27.263935089111328,
          29.820194244384766,
          35.832176208496094,
          40.474822998046875,
          21.837520599365234,
          32.88258743286133,
          1.73579740524292,
          54.5052490234375,
          41.987327575683594,
          42.13019943237305,
          18.17691421508789,
          37.41819381713867,
          -19.679052352905273,
          37.44121170043945,
          69.28241729736328,
          34.4329719543457,
          49.04264831542969,
          -11.587157249450684,
          -24.123783111572266,
          32.54524612426758,
          -25.987407684326172,
          22.377653121948242,
          67.39703369140625,
          26.458608627319336,
          44.199886322021484,
          -5.197986125946045,
          56.301170349121094,
          58.0225715637207,
          30.676084518432617,
          -28.318187713623047,
          26.30825424194336,
          10.744518280029297,
          41.60084533691406,
          -30.539005279541016,
          -33.616981506347656,
          30.41452407836914,
          -46.6096305847168,
          17.114789962768555,
          56.49998092651367,
          38.79906463623047,
          44.128482818603516,
          41.35664749145508,
          68.55558776855469,
          38.61840057373047,
          70.89779663085938,
          61.185203552246094,
          -14.404986381530762,
          -5.170165538787842,
          38.31565475463867,
          -9.995418548583984,
          58.62427520751953,
          -15.09054946899414,
          54.80010986328125,
          62.22230529785156,
          -9.935018539428711,
          61.4960823059082,
          71.04710388183594,
          -47.54631805419922,
          70.109619140625,
          65.98725128173828,
          66.17115783691406,
          64.13402557373047,
          64.4393310546875,
          47.36653137207031,
          66.70883178710938,
          -42.49358367919922,
          46.53821563720703,
          34.67657470703125,
          58.979530334472656,
          42.282352447509766,
          57.3824577331543,
          15.146927833557129,
          65.50527954101562,
          -11.296204566955566,
          -0.8093906044960022,
          -65.04759216308594,
          61.83832550048828,
          37.79301071166992,
          63.57032012939453,
          58.9302978515625,
          22.674524307250977,
          28.767728805541992,
          -62.685699462890625,
          -34.91921615600586,
          73.42034149169922,
          -29.491193771362305,
          48.39984130859375,
          59.840206146240234,
          77.0063247680664,
          72.40298461914062,
          58.78337097167969,
          61.833351135253906,
          53.97343826293945,
          40.913177490234375,
          68.56372833251953,
          57.79243087768555,
          67.46055603027344,
          74.60309600830078,
          70.48503112792969,
          50.653587341308594,
          25.3668212890625,
          48.702877044677734,
          -21.625669479370117,
          16.160585403442383,
          62.18054962158203,
          -16.95661163330078,
          60.81288528442383,
          -37.972633361816406,
          -49.47624588012695,
          52.819175720214844,
          -3.5836308002471924,
          28.357606887817383,
          -9.169425964355469,
          36.58122634887695,
          -18.415922164916992,
          -54.87067794799805,
          55.954071044921875,
          53.366580963134766,
          -59.98569107055664,
          42.589839935302734,
          39.738399505615234,
          45.960018157958984,
          23.145219802856445,
          42.33557891845703,
          71.39692687988281,
          -43.01861572265625,
          49.192562103271484,
          55.494136810302734,
          50.86953353881836,
          36.281742095947266,
          43.14973068237305,
          -39.3006591796875,
          -6.607035160064697,
          66.53286743164062,
          74.44893646240234,
          43.80894470214844,
          68.10891723632812,
          61.43048095703125,
          -24.97804832458496,
          45.862823486328125,
          -10.59250259399414,
          60.91862869262695,
          -28.379499435424805,
          53.04769515991211,
          2.4931788444519043,
          -31.294023513793945,
          47.363773345947266,
          68.23401641845703,
          61.60274124145508,
          -41.139671325683594,
          -43.02528762817383,
          59.55496597290039,
          56.750328063964844,
          -34.44001770019531,
          67.6341781616211,
          55.08924865722656,
          -36.29245376586914,
          -4.63268518447876,
          55.381195068359375,
          58.388607025146484,
          19.471004486083984,
          67.22586059570312
         ],
         "z": [
          139.50001525878906,
          -39.069664001464844,
          10.863136291503906,
          94.348388671875,
          -233.37530517578125,
          -47.007164001464844,
          1.5607070922851562,
          -31.83074188232422,
          -10.880498886108398,
          -12.931798934936523,
          -7.480662822723389,
          -2.9145960807800293,
          -11.3496675491333,
          -7.801577091217041,
          -8.554186820983887,
          -12.19363021850586,
          -4.186893463134766,
          -4.85675048828125,
          -17.382509231567383,
          -9.304625511169434,
          -6.230762481689453,
          -8.1641206741333,
          0.8252080082893372,
          -2.562514066696167,
          -17.862957000732422,
          -12.921773910522461,
          -13.54731273651123,
          3.121913433074951,
          -17.79039764404297,
          -11.446321487426758,
          -8.293198585510254,
          -14.702692985534668,
          -10.317597389221191,
          -14.3067626953125,
          -3.748594045639038,
          -2.41797137260437,
          -4.505784511566162,
          -17.63381576538086,
          -6.300722599029541,
          -2.8651599884033203,
          -14.098315238952637,
          1.458229660987854,
          -10.26556396484375,
          -8.339766502380371,
          -74.76580047607422,
          -4.730533599853516,
          -4.540555000305176,
          0.8651443719863892,
          -17.486719131469727,
          -8.44839859008789,
          -28.586746215820312,
          -10.596868515014648,
          1.923671007156372,
          -17.497516632080078,
          -4.430108070373535,
          -13.449166297912598,
          -7.993630886077881,
          -31.644182205200195,
          -44.72968673706055,
          1.9502003192901611,
          22.218238830566406,
          -20.374120712280273,
          25.01131248474121,
          -44.686649322509766,
          30.414093017578125,
          30.441312789916992,
          -14.985206604003906,
          -26.61635971069336,
          -3.329455614089966,
          -37.927589416503906,
          -3.6865527629852295,
          -17.210050582885742,
          -11.245240211486816,
          -33.754791259765625,
          -11.577950477600098,
          -26.58933448791504,
          -27.865774154663086,
          -28.938966751098633,
          -8.306548118591309,
          -13.33790111541748,
          -21.236499786376953,
          -18.435794830322266,
          15.899391174316406,
          27.867767333984375,
          -13.13593864440918,
          30.846277236938477,
          -34.601531982421875,
          -56.48633575439453,
          -42.70234680175781,
          7.388966083526611,
          25.119421005249023,
          15.075249671936035,
          3.0001375675201416,
          26.633590698242188,
          -8.387589454650879,
          -1.7816166877746582,
          3.231034755706787,
          -13.313437461853027,
          34.96001434326172,
          17.02257537841797,
          -25.759668350219727,
          -17.118932723999023,
          2.5265352725982666,
          1.657957911491394,
          -42.3653678894043,
          -25.172334671020508,
          39.489524841308594,
          -34.1053466796875,
          -35.651527404785156,
          12.988983154296875,
          -32.85517120361328,
          1.1499322652816772,
          19.408987045288086,
          -8.254898071289062,
          4.975742816925049,
          5.153529167175293,
          23.29113006591797,
          4.570425987243652,
          -44.454524993896484,
          1.8714842796325684,
          -9.463244438171387,
          62.8984375,
          -23.505638122558594,
          -48.617183685302734,
          2.918029546737671,
          -4.952291488647461,
          -20.03645896911621,
          13.717611312866211,
          -30.17255401611328,
          4.81640100479126,
          -53.07117462158203,
          -44.188899993896484,
          -35.689945220947266,
          -45.5095100402832,
          -0.8600622415542603,
          -15.196393966674805,
          -30.26203727722168,
          -37.1743049621582,
          -14.866494178771973,
          -5.386929512023926,
          -38.63559341430664,
          -49.14137268066406,
          -38.886043548583984,
          -28.16587257385254,
          31.21563720703125,
          -48.550331115722656,
          38.12532043457031,
          -38.405704498291016,
          -48.26106643676758,
          -70.32443237304688,
          -43.69725799560547,
          -61.08555221557617,
          6.024946689605713,
          -9.07001781463623,
          18.159605026245117,
          -8.217659950256348,
          -16.692176818847656,
          -4.840132713317871,
          -3.5349669456481934,
          -32.893699645996094,
          -38.30995178222656,
          -62.31696701049805,
          10.307122230529785,
          -15.157787322998047,
          -43.89067077636719,
          -42.54112243652344,
          -14.173788070678711,
          -39.872718811035156,
          -29.794736862182617,
          -5.7557830810546875,
          -9.946622848510742,
          -35.126182556152344,
          6.492766380310059,
          -9.959246635437012,
          -3.526176691055298,
          -1.4759827852249146,
          -39.3139533996582,
          -35.6604118347168,
          -68.4809341430664,
          2.7664120197296143,
          8.9771089553833,
          6.621685981750488,
          -54.30238723754883,
          20.414749145507812,
          61.17845916748047,
          2.2569003105163574,
          -19.396398544311523,
          -10.136547088623047,
          -50.452754974365234,
          -35.14990234375,
          -13.403329849243164,
          -4.092286586761475,
          -20.80326271057129,
          40.123138427734375,
          -24.73845863342285,
          -53.17765426635742,
          44.43257141113281,
          35.68680953979492,
          -10.64557933807373,
          -24.10259437561035
         ]
        }
       ],
       "layout": {
        "legend": {
         "tracegroupgap": 0
        },
        "margin": {
         "t": 60
        },
        "scene": {
         "domain": {
          "x": [
           0,
           1
          ],
          "y": [
           0,
           1
          ]
         },
         "xaxis": {
          "title": {
           "text": "x"
          }
         },
         "yaxis": {
          "title": {
           "text": "y"
          }
         },
         "zaxis": {
          "title": {
           "text": "z"
          }
         }
        },
        "template": {
         "data": {
          "bar": [
           {
            "error_x": {
             "color": "#2a3f5f"
            },
            "error_y": {
             "color": "#2a3f5f"
            },
            "marker": {
             "line": {
              "color": "#E5ECF6",
              "width": 0.5
             },
             "pattern": {
              "fillmode": "overlay",
              "size": 10,
              "solidity": 0.2
             }
            },
            "type": "bar"
           }
          ],
          "barpolar": [
           {
            "marker": {
             "line": {
              "color": "#E5ECF6",
              "width": 0.5
             },
             "pattern": {
              "fillmode": "overlay",
              "size": 10,
              "solidity": 0.2
             }
            },
            "type": "barpolar"
           }
          ],
          "carpet": [
           {
            "aaxis": {
             "endlinecolor": "#2a3f5f",
             "gridcolor": "white",
             "linecolor": "white",
             "minorgridcolor": "white",
             "startlinecolor": "#2a3f5f"
            },
            "baxis": {
             "endlinecolor": "#2a3f5f",
             "gridcolor": "white",
             "linecolor": "white",
             "minorgridcolor": "white",
             "startlinecolor": "#2a3f5f"
            },
            "type": "carpet"
           }
          ],
          "choropleth": [
           {
            "colorbar": {
             "outlinewidth": 0,
             "ticks": ""
            },
            "type": "choropleth"
           }
          ],
          "contour": [
           {
            "colorbar": {
             "outlinewidth": 0,
             "ticks": ""
            },
            "colorscale": [
             [
              0,
              "#0d0887"
             ],
             [
              0.1111111111111111,
              "#46039f"
             ],
             [
              0.2222222222222222,
              "#7201a8"
             ],
             [
              0.3333333333333333,
              "#9c179e"
             ],
             [
              0.4444444444444444,
              "#bd3786"
             ],
             [
              0.5555555555555556,
              "#d8576b"
             ],
             [
              0.6666666666666666,
              "#ed7953"
             ],
             [
              0.7777777777777778,
              "#fb9f3a"
             ],
             [
              0.8888888888888888,
              "#fdca26"
             ],
             [
              1,
              "#f0f921"
             ]
            ],
            "type": "contour"
           }
          ],
          "contourcarpet": [
           {
            "colorbar": {
             "outlinewidth": 0,
             "ticks": ""
            },
            "type": "contourcarpet"
           }
          ],
          "heatmap": [
           {
            "colorbar": {
             "outlinewidth": 0,
             "ticks": ""
            },
            "colorscale": [
             [
              0,
              "#0d0887"
             ],
             [
              0.1111111111111111,
              "#46039f"
             ],
             [
              0.2222222222222222,
              "#7201a8"
             ],
             [
              0.3333333333333333,
              "#9c179e"
             ],
             [
              0.4444444444444444,
              "#bd3786"
             ],
             [
              0.5555555555555556,
              "#d8576b"
             ],
             [
              0.6666666666666666,
              "#ed7953"
             ],
             [
              0.7777777777777778,
              "#fb9f3a"
             ],
             [
              0.8888888888888888,
              "#fdca26"
             ],
             [
              1,
              "#f0f921"
             ]
            ],
            "type": "heatmap"
           }
          ],
          "heatmapgl": [
           {
            "colorbar": {
             "outlinewidth": 0,
             "ticks": ""
            },
            "colorscale": [
             [
              0,
              "#0d0887"
             ],
             [
              0.1111111111111111,
              "#46039f"
             ],
             [
              0.2222222222222222,
              "#7201a8"
             ],
             [
              0.3333333333333333,
              "#9c179e"
             ],
             [
              0.4444444444444444,
              "#bd3786"
             ],
             [
              0.5555555555555556,
              "#d8576b"
             ],
             [
              0.6666666666666666,
              "#ed7953"
             ],
             [
              0.7777777777777778,
              "#fb9f3a"
             ],
             [
              0.8888888888888888,
              "#fdca26"
             ],
             [
              1,
              "#f0f921"
             ]
            ],
            "type": "heatmapgl"
           }
          ],
          "histogram": [
           {
            "marker": {
             "pattern": {
              "fillmode": "overlay",
              "size": 10,
              "solidity": 0.2
             }
            },
            "type": "histogram"
           }
          ],
          "histogram2d": [
           {
            "colorbar": {
             "outlinewidth": 0,
             "ticks": ""
            },
            "colorscale": [
             [
              0,
              "#0d0887"
             ],
             [
              0.1111111111111111,
              "#46039f"
             ],
             [
              0.2222222222222222,
              "#7201a8"
             ],
             [
              0.3333333333333333,
              "#9c179e"
             ],
             [
              0.4444444444444444,
              "#bd3786"
             ],
             [
              0.5555555555555556,
              "#d8576b"
             ],
             [
              0.6666666666666666,
              "#ed7953"
             ],
             [
              0.7777777777777778,
              "#fb9f3a"
             ],
             [
              0.8888888888888888,
              "#fdca26"
             ],
             [
              1,
              "#f0f921"
             ]
            ],
            "type": "histogram2d"
           }
          ],
          "histogram2dcontour": [
           {
            "colorbar": {
             "outlinewidth": 0,
             "ticks": ""
            },
            "colorscale": [
             [
              0,
              "#0d0887"
             ],
             [
              0.1111111111111111,
              "#46039f"
             ],
             [
              0.2222222222222222,
              "#7201a8"
             ],
             [
              0.3333333333333333,
              "#9c179e"
             ],
             [
              0.4444444444444444,
              "#bd3786"
             ],
             [
              0.5555555555555556,
              "#d8576b"
             ],
             [
              0.6666666666666666,
              "#ed7953"
             ],
             [
              0.7777777777777778,
              "#fb9f3a"
             ],
             [
              0.8888888888888888,
              "#fdca26"
             ],
             [
              1,
              "#f0f921"
             ]
            ],
            "type": "histogram2dcontour"
           }
          ],
          "mesh3d": [
           {
            "colorbar": {
             "outlinewidth": 0,
             "ticks": ""
            },
            "type": "mesh3d"
           }
          ],
          "parcoords": [
           {
            "line": {
             "colorbar": {
              "outlinewidth": 0,
              "ticks": ""
             }
            },
            "type": "parcoords"
           }
          ],
          "pie": [
           {
            "automargin": true,
            "type": "pie"
           }
          ],
          "scatter": [
           {
            "fillpattern": {
             "fillmode": "overlay",
             "size": 10,
             "solidity": 0.2
            },
            "type": "scatter"
           }
          ],
          "scatter3d": [
           {
            "line": {
             "colorbar": {
              "outlinewidth": 0,
              "ticks": ""
             }
            },
            "marker": {
             "colorbar": {
              "outlinewidth": 0,
              "ticks": ""
             }
            },
            "type": "scatter3d"
           }
          ],
          "scattercarpet": [
           {
            "marker": {
             "colorbar": {
              "outlinewidth": 0,
              "ticks": ""
             }
            },
            "type": "scattercarpet"
           }
          ],
          "scattergeo": [
           {
            "marker": {
             "colorbar": {
              "outlinewidth": 0,
              "ticks": ""
             }
            },
            "type": "scattergeo"
           }
          ],
          "scattergl": [
           {
            "marker": {
             "colorbar": {
              "outlinewidth": 0,
              "ticks": ""
             }
            },
            "type": "scattergl"
           }
          ],
          "scattermapbox": [
           {
            "marker": {
             "colorbar": {
              "outlinewidth": 0,
              "ticks": ""
             }
            },
            "type": "scattermapbox"
           }
          ],
          "scatterpolar": [
           {
            "marker": {
             "colorbar": {
              "outlinewidth": 0,
              "ticks": ""
             }
            },
            "type": "scatterpolar"
           }
          ],
          "scatterpolargl": [
           {
            "marker": {
             "colorbar": {
              "outlinewidth": 0,
              "ticks": ""
             }
            },
            "type": "scatterpolargl"
           }
          ],
          "scatterternary": [
           {
            "marker": {
             "colorbar": {
              "outlinewidth": 0,
              "ticks": ""
             }
            },
            "type": "scatterternary"
           }
          ],
          "surface": [
           {
            "colorbar": {
             "outlinewidth": 0,
             "ticks": ""
            },
            "colorscale": [
             [
              0,
              "#0d0887"
             ],
             [
              0.1111111111111111,
              "#46039f"
             ],
             [
              0.2222222222222222,
              "#7201a8"
             ],
             [
              0.3333333333333333,
              "#9c179e"
             ],
             [
              0.4444444444444444,
              "#bd3786"
             ],
             [
              0.5555555555555556,
              "#d8576b"
             ],
             [
              0.6666666666666666,
              "#ed7953"
             ],
             [
              0.7777777777777778,
              "#fb9f3a"
             ],
             [
              0.8888888888888888,
              "#fdca26"
             ],
             [
              1,
              "#f0f921"
             ]
            ],
            "type": "surface"
           }
          ],
          "table": [
           {
            "cells": {
             "fill": {
              "color": "#EBF0F8"
             },
             "line": {
              "color": "white"
             }
            },
            "header": {
             "fill": {
              "color": "#C8D4E3"
             },
             "line": {
              "color": "white"
             }
            },
            "type": "table"
           }
          ]
         },
         "layout": {
          "annotationdefaults": {
           "arrowcolor": "#2a3f5f",
           "arrowhead": 0,
           "arrowwidth": 1
          },
          "autotypenumbers": "strict",
          "coloraxis": {
           "colorbar": {
            "outlinewidth": 0,
            "ticks": ""
           }
          },
          "colorscale": {
           "diverging": [
            [
             0,
             "#8e0152"
            ],
            [
             0.1,
             "#c51b7d"
            ],
            [
             0.2,
             "#de77ae"
            ],
            [
             0.3,
             "#f1b6da"
            ],
            [
             0.4,
             "#fde0ef"
            ],
            [
             0.5,
             "#f7f7f7"
            ],
            [
             0.6,
             "#e6f5d0"
            ],
            [
             0.7,
             "#b8e186"
            ],
            [
             0.8,
             "#7fbc41"
            ],
            [
             0.9,
             "#4d9221"
            ],
            [
             1,
             "#276419"
            ]
           ],
           "sequential": [
            [
             0,
             "#0d0887"
            ],
            [
             0.1111111111111111,
             "#46039f"
            ],
            [
             0.2222222222222222,
             "#7201a8"
            ],
            [
             0.3333333333333333,
             "#9c179e"
            ],
            [
             0.4444444444444444,
             "#bd3786"
            ],
            [
             0.5555555555555556,
             "#d8576b"
            ],
            [
             0.6666666666666666,
             "#ed7953"
            ],
            [
             0.7777777777777778,
             "#fb9f3a"
            ],
            [
             0.8888888888888888,
             "#fdca26"
            ],
            [
             1,
             "#f0f921"
            ]
           ],
           "sequentialminus": [
            [
             0,
             "#0d0887"
            ],
            [
             0.1111111111111111,
             "#46039f"
            ],
            [
             0.2222222222222222,
             "#7201a8"
            ],
            [
             0.3333333333333333,
             "#9c179e"
            ],
            [
             0.4444444444444444,
             "#bd3786"
            ],
            [
             0.5555555555555556,
             "#d8576b"
            ],
            [
             0.6666666666666666,
             "#ed7953"
            ],
            [
             0.7777777777777778,
             "#fb9f3a"
            ],
            [
             0.8888888888888888,
             "#fdca26"
            ],
            [
             1,
             "#f0f921"
            ]
           ]
          },
          "colorway": [
           "#636efa",
           "#EF553B",
           "#00cc96",
           "#ab63fa",
           "#FFA15A",
           "#19d3f3",
           "#FF6692",
           "#B6E880",
           "#FF97FF",
           "#FECB52"
          ],
          "font": {
           "color": "#2a3f5f"
          },
          "geo": {
           "bgcolor": "white",
           "lakecolor": "white",
           "landcolor": "#E5ECF6",
           "showlakes": true,
           "showland": true,
           "subunitcolor": "white"
          },
          "hoverlabel": {
           "align": "left"
          },
          "hovermode": "closest",
          "mapbox": {
           "style": "light"
          },
          "paper_bgcolor": "white",
          "plot_bgcolor": "#E5ECF6",
          "polar": {
           "angularaxis": {
            "gridcolor": "white",
            "linecolor": "white",
            "ticks": ""
           },
           "bgcolor": "#E5ECF6",
           "radialaxis": {
            "gridcolor": "white",
            "linecolor": "white",
            "ticks": ""
           }
          },
          "scene": {
           "xaxis": {
            "backgroundcolor": "#E5ECF6",
            "gridcolor": "white",
            "gridwidth": 2,
            "linecolor": "white",
            "showbackground": true,
            "ticks": "",
            "zerolinecolor": "white"
           },
           "yaxis": {
            "backgroundcolor": "#E5ECF6",
            "gridcolor": "white",
            "gridwidth": 2,
            "linecolor": "white",
            "showbackground": true,
            "ticks": "",
            "zerolinecolor": "white"
           },
           "zaxis": {
            "backgroundcolor": "#E5ECF6",
            "gridcolor": "white",
            "gridwidth": 2,
            "linecolor": "white",
            "showbackground": true,
            "ticks": "",
            "zerolinecolor": "white"
           }
          },
          "shapedefaults": {
           "line": {
            "color": "#2a3f5f"
           }
          },
          "ternary": {
           "aaxis": {
            "gridcolor": "white",
            "linecolor": "white",
            "ticks": ""
           },
           "baxis": {
            "gridcolor": "white",
            "linecolor": "white",
            "ticks": ""
           },
           "bgcolor": "#E5ECF6",
           "caxis": {
            "gridcolor": "white",
            "linecolor": "white",
            "ticks": ""
           }
          },
          "title": {
           "x": 0.05
          },
          "xaxis": {
           "automargin": true,
           "gridcolor": "white",
           "linecolor": "white",
           "ticks": "",
           "title": {
            "standoff": 15
           },
           "zerolinecolor": "white",
           "zerolinewidth": 2
          },
          "yaxis": {
           "automargin": true,
           "gridcolor": "white",
           "linecolor": "white",
           "ticks": "",
           "title": {
            "standoff": 15
           },
           "zerolinecolor": "white",
           "zerolinewidth": 2
          }
         }
        }
       }
      }
     },
     "metadata": {},
     "output_type": "display_data"
    }
   ],
   "source": [
    "vecs, labels = reduce_dimensions(w2v_model,3)\n",
    "\n",
    "fig = px.scatter_3d(x=vecs[START_INDEX:START_INDEX + MAX_WORDS,0], y=vecs[START_INDEX:START_INDEX + MAX_WORDS,1], z=vecs[START_INDEX:START_INDEX + MAX_WORDS,2],text=labels[START_INDEX:START_INDEX + MAX_WORDS])\n",
    "fig.update_traces(marker_size = 2)"
   ]
  },
  {
   "cell_type": "markdown",
   "metadata": {},
   "source": [
    "Graficar 200 palabras de un vocabulario de 5000 palabras no resulta muy interesante. Y tratar de graficar mas palabras es lento (3 minutos en graficar 200 palabras). Mejor pasamos a la version web de projector tensorflow."
   ]
  },
  {
   "cell_type": "code",
   "execution_count": 54,
   "metadata": {},
   "outputs": [],
   "source": [
    "vectors = np.asarray(w2v_model.wv.vectors)\n",
    "labels = list(w2v_model.wv.index_to_key)\n",
    "\n",
    "np.savetxt(\"vectors.tsv\", vectors, delimiter=\"\\t\")\n",
    "\n",
    "with open(\"labels.tsv\", \"w\") as fp:\n",
    "    for item in labels:\n",
    "        fp.write(\"%s\\n\" % item)"
   ]
  },
  {
   "cell_type": "markdown",
   "metadata": {},
   "source": [
    "Utilizamos T-SNE (35 perplexity, 10 learning rate y 30 supervise) y a las 218 iteraciones encontramos algo interesante:\n",
    "\n",
    "![T-SNE Iteracion 218](./images/images1.png)\n",
    "\n",
    "En la zona roja tenemos palabras de uso muy recurrente como preposiciones (which, at, the, in, for, and, an) y verbos auxiliares (will, have, would, am).\n"
   ]
  },
  {
   "cell_type": "markdown",
   "metadata": {},
   "source": [
    "![T-SNE Iteracion 218](./images/images2.png)\n",
    "\n",
    "Como referencia, la zona anterior se circuló en rojo. La zona azul son palabras de muy poco uso (baker, bell, clayton). En la zona negra están todos los numeros:\n",
    "\n",
    " - Distancias de objetos\n",
    " - Denominaciones de zonas\n",
    " - Cantidades de dados (Dungeons & Dragons se basa en dados, y aqui se encuentran las notaciones de dados como 1d8 [1 dado de 8 caras], 1d20, d16, etc.)"
   ]
  },
  {
   "cell_type": "markdown",
   "metadata": {},
   "source": [
    "![T-SNE Iteracion 350](./images/images3.png)\n",
    "\n",
    "Luego de 350 iteraciones, el patron cambia significativamente. \n",
    "\n",
    " - En la zona negra tenemos todo lo que son nombres propios (Williamson, Davis, Morgan, Zane, Theodore, Julien). \n",
    " - En la zona azul tenemos nombres que aparecen en hechizos (animal de Speak with Animals, illusion de Minor Illusion, suggestion de Mass Suggestion, ray de Scorching Ray)\n",
    " - En la zona roja se mantiene la zona de numeros: todo lo relacionado a distancias, daño, dados.\n",
    "\n",
    "Se dejó cargando hasta 600 iteraciones tratando de introducir perturbaciones ocasionalmente, pero las zonas anteriores se mantuvieron relativamente constantes, y los nucleos nuevos que se formaron eran relativamente pequeños."
   ]
  },
  {
   "cell_type": "markdown",
   "metadata": {},
   "source": [
    "![UMAP](./images/images4.png)\n",
    "\n",
    "Se probó tambien con UMAP e, interesantemente, llegó a agrupaciones similares a las de T-SNE en las iteraciones tempranas:\n",
    "\n",
    " - En rojo están todas las preposiciones y verbos auxiliares o de mucho uso.\n",
    " - En azul están todos los nombres propios.\n",
    " "
   ]
  }
 ],
 "metadata": {
  "colab": {
   "collapsed_sections": [],
   "provenance": []
  },
  "kernelspec": {
   "display_name": "Python 3 (ipykernel)",
   "language": "python",
   "name": "python3"
  },
  "language_info": {
   "codemirror_mode": {
    "name": "ipython",
    "version": 3
   },
   "file_extension": ".py",
   "mimetype": "text/x-python",
   "name": "python",
   "nbconvert_exporter": "python",
   "pygments_lexer": "ipython3",
   "version": "3.11.8"
  }
 },
 "nbformat": 4,
 "nbformat_minor": 4
}
