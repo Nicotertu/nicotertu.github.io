{
  "cells": [
    {
      "cell_type": "markdown",
      "metadata": {
        "id": "g3yeJGnCYxuF"
      },
      "source": [
        "<img src=\"https://github.com/hernancontigiani/ceia_memorias_especializacion/raw/master/Figures/logoFIUBA.jpg\" width=\"500\" align=\"center\">\n",
        "\n",
        "\n",
        "# Procesamiento de lenguaje natural\n",
        "## Modelo de lenguaje con tokenización por palabras"
      ]
    },
    {
      "cell_type": "markdown",
      "metadata": {
        "id": "Iv5PEwGzZA9-"
      },
      "source": [
        "### Consigna\n",
        "- Seleccionar un corpus de texto sobre el cual entrenar el modelo de lenguaje.\n",
        "- Realizar el pre-procesamiento adecuado para tokenizar el corpus, estructurar el dataset y separar entre datos de entrenamiento y validación.\n",
        "- Proponer arquitecturas de redes neuronales basadas en unidades recurrentes para implementar un modelo de lenguaje.\n",
        "- Con el o los modelos que consideren adecuados, generar nuevas secuencias a partir de secuencias de contexto con las estrategias de greedy search y beam search determístico y estocástico. En este último caso observar el efecto de la temperatura en la generación de secuencias.\n",
        "\n",
        "\n",
        "### Sugerencias\n",
        "- Durante el entrenamiento, guiarse por el descenso de la perplejidad en los datos de validación para finalizar el entrenamiento. Para ello se provee un callback.\n",
        "- Explorar utilizar SimpleRNN (celda de Elman), LSTM y GRU.\n",
        "- rmsprop es el optimizador recomendado para la buena convergencia. No obstante se pueden explorar otros.\n"
      ]
    },
    {
      "cell_type": "code",
      "execution_count": 3,
      "metadata": {
        "id": "Y-QdFbHZYj7C"
      },
      "outputs": [],
      "source": [
        "import matplotlib.pyplot as plt\n",
        "import seaborn as sns\n",
        "import numpy as np\n",
        "import pandas as pd\n",
        "import re\n",
        "\n",
        "from sklearn.model_selection import train_test_split\n",
        "from tensorflow.keras.regularizers import l2\n",
        "from tensorflow import keras\n",
        "from tensorflow.keras import layers\n",
        "from keras.utils import to_categorical\n",
        "from keras.models import Sequential\n",
        "from keras.layers import Dense, LSTM, GRU, Embedding, Dropout, BatchNormalization\n",
        "from tensorflow.keras.losses import SparseCategoricalCrossentropy\n",
        "from tensorflow.keras.preprocessing.text import Tokenizer # equivalente a ltokenizer de nltk\n",
        "from tensorflow.keras.preprocessing.text import text_to_word_sequence # equivalente a word_tokenize de nltk\n",
        "from tensorflow.keras.utils import pad_sequences # se utilizará para padding"
      ]
    },
    {
      "cell_type": "markdown",
      "metadata": {
        "id": "xTvXlEKQZdqx"
      },
      "source": [
        "### Datos\n",
        "Como ejemplo se utilizará como corpus un dataset canciones de bandas de habla inglés."
      ]
    },
    {
      "cell_type": "code",
      "execution_count": 4,
      "metadata": {},
      "outputs": [],
      "source": [
        "with open(\"Odyssey of the Dragonlords - word.txt\", \"r\") as file:\n",
        "    lines = file.readlines()\n",
        "    article_text = \" \".join(line.strip() for line in lines)\n",
        "\n",
        "# en article text se encuentra el texto de todo el libro\n",
        "article_text = article_text.lower()\n",
        "sentences = re.split('[?.]', article_text)\n",
        "sentences = [sentence.strip() for sentence in sentences if sentence.strip()]"
      ]
    },
    {
      "cell_type": "markdown",
      "metadata": {
        "id": "VeMpWpiyG5Ya"
      },
      "source": [
        "Consideraremos que cada secuencia para este dataset es un verso.\n",
        "\n",
        "Una de las primeras decisiones que hay que tomar es el tamaño de contexto de tokens máximo que puede consumir el modelo. Este podría ser un hiperparámetro del problema.\n",
        "\n",
        "Para elegir el tamaño de contexto máximo para este problema se puede explorar el dataset, para ello:\n",
        "- se consideran las palabras como términos.\n",
        "- se segmentará el texto de todos los versos del dataset y ses explorará la cantidad de términos presentes.\n",
        "\n"
      ]
    },
    {
      "cell_type": "code",
      "execution_count": 5,
      "metadata": {
        "id": "riT898QlZnmF"
      },
      "outputs": [
        {
          "name": "stdout",
          "output_type": "stream",
          "text": [
            "Cantidad de documentos: 1061\n"
          ]
        }
      ],
      "source": [
        "print(\"Cantidad de documentos:\", len(sentences))"
      ]
    },
    {
      "cell_type": "markdown",
      "metadata": {
        "id": "cP1JdiOIKQWi"
      },
      "source": [
        "### Elegir el tamaño del contexto"
      ]
    },
    {
      "cell_type": "code",
      "execution_count": 57,
      "metadata": {},
      "outputs": [],
      "source": [
        "segmented_sentences=[text_to_word_sequence(sec) for sec in sentences]"
      ]
    },
    {
      "cell_type": "code",
      "execution_count": 58,
      "metadata": {
        "id": "x35rV7QZH49n"
      },
      "outputs": [
        {
          "name": "stdout",
          "output_type": "stream",
          "text": [
            "43\n"
          ]
        }
      ],
      "source": [
        "# calculamos la longitud de cada secuencia\n",
        "length_segmented_sentences = [len(segmented_sentence) for segmented_sentence in segmented_sentences]\n",
        "print(max(length_segmented_sentences))"
      ]
    },
    {
      "cell_type": "code",
      "execution_count": 59,
      "metadata": {
        "id": "R8P8vDXRII4c"
      },
      "outputs": [
        {
          "data": {
            "text/plain": [
              "(array([ 88.,  41.,  42.,  60.,  83.,  90., 129., 104., 111., 101.,  77.,\n",
              "         49.,  31.,  22.,  12.,   9.,   4.,   5.,   1.,   2.]),\n",
              " array([ 1. ,  3.1,  5.2,  7.3,  9.4, 11.5, 13.6, 15.7, 17.8, 19.9, 22. ,\n",
              "        24.1, 26.2, 28.3, 30.4, 32.5, 34.6, 36.7, 38.8, 40.9, 43. ]),\n",
              " <BarContainer object of 20 artists>)"
            ]
          },
          "execution_count": 59,
          "metadata": {},
          "output_type": "execute_result"
        },
        {
          "data": {
            "image/png": "[encoded data removed]",
            "text/plain": [
              "<Figure size 640x480 with 1 Axes>"
            ]
          },
          "metadata": {},
          "output_type": "display_data"
        }
      ],
      "source": [
        "# podemos ver su distribución\n",
        "plt.hist(length_segmented_sentences,bins=20)"
      ]
    },
    {
      "cell_type": "code",
      "execution_count": 60,
      "metadata": {
        "id": "wumBNwdjJM3j"
      },
      "outputs": [
        {
          "name": "stdout",
          "output_type": "stream",
          "text": [
            "max_context_size: 25\n"
          ]
        }
      ],
      "source": [
        "# a partir de la distribución de longitudes de secuencias elegimos algún criterio\n",
        "# para determinar el máximo tamaño de contexto. En este caso es un percentil, pero\n",
        "# otros criterios también pueden ser válidos con la justificación adecuada.\n",
        "# También puede ser una selección \"a mano\"\n",
        "\n",
        "# el -1 es porque el último token será el target\n",
        "max_context_size = int(np.percentile(length_segmented_sentences, 90)-1)\n",
        "\n",
        "# max_context_size = int(np.ceil(np.mean(length_sentences))) # criterio de media\n",
        "# max_context_size = int(np.ceil(np.median(length_sentences))) # criterio de mediana\n",
        "print(f'max_context_size: {max_context_size}')"
      ]
    },
    {
      "cell_type": "markdown",
      "metadata": {
        "id": "2oIUjVU0LB0r"
      },
      "source": [
        "###  Tokenizar"
      ]
    },
    {
      "cell_type": "code",
      "execution_count": 61,
      "metadata": {
        "id": "_XKQIpRiLNbg"
      },
      "outputs": [
        {
          "data": {
            "text/plain": [
              "1061"
            ]
          },
          "execution_count": 61,
          "metadata": {},
          "output_type": "execute_result"
        }
      ],
      "source": [
        "# instanciamos el tokenizador\n",
        "tok = Tokenizer()\n",
        "\n",
        "# El tokenizer \"aprende\" las palabras que se usaran\n",
        "# Se construye (fit) una vez por proyecto, se aplica N veces (tal cual un encoder)\n",
        "# El token 0 es reservado y no es asignado. Se utiliza para designar a palabras\n",
        "# fuera del vocabulario aprendido\n",
        "tok.fit_on_texts(segmented_sentences)\n",
        "\n",
        "# Convertimos las palabras a números\n",
        "# entran palabras -> salen números\n",
        "tokenized_sentences = tok.texts_to_sequences(segmented_sentences)\n",
        "len(tokenized_sentences)"
      ]
    },
    {
      "cell_type": "code",
      "execution_count": 62,
      "metadata": {
        "id": "AK2wfHyslrTz"
      },
      "outputs": [
        {
          "data": {
            "text/plain": [
              "[904, 3, 309, 2, 1, 45]"
            ]
          },
          "execution_count": 62,
          "metadata": {},
          "output_type": "execute_result"
        }
      ],
      "source": [
        "tokenized_sentences[0]"
      ]
    },
    {
      "cell_type": "code",
      "execution_count": 63,
      "metadata": {
        "id": "s-93u9lxlwlP"
      },
      "outputs": [
        {
          "data": {
            "text/plain": [
              "'welcome to odyssey of the dragonlords'"
            ]
          },
          "execution_count": 63,
          "metadata": {},
          "output_type": "execute_result"
        }
      ],
      "source": [
        "sentences[0]"
      ]
    },
    {
      "cell_type": "markdown",
      "metadata": {
        "id": "pfpYcaypKcI9"
      },
      "source": [
        "### Organizando y estructurando el dataset"
      ]
    },
    {
      "cell_type": "markdown",
      "metadata": {
        "id": "gmsoPbV6LxcW"
      },
      "source": [
        "Vamos a splitear las oraciones que tienen tamaño mayor al contexto máximo, para generarnos más secuencias de entrenamiento. Este paso puede obviarse si el tamaño de contexto máximo es muy grande.\n",
        "\n",
        "Por ejemplo, si tenemos el texto *La bella y graciosa moza marchóse a lavar la ropa* y nuestro contexto es de 5 palabras, tendremos:\n",
        "\n",
        "- *La bella y graciosa moza*\n",
        "- *bella y graciosa moza marchóse*\n",
        "- *y graciosa moza marchóse a*\n",
        "- *graciosa moza marchóse a lavar*\n",
        "- *moza marchóse a lavar la*\n",
        "- *marchóse a lavar la ropa*"
      ]
    },
    {
      "cell_type": "code",
      "execution_count": 65,
      "metadata": {
        "id": "E5BPO4qPPnNR"
      },
      "outputs": [],
      "source": [
        "tok_sentences = []\n",
        "\n",
        "for sent in tokenized_sentences:\n",
        "  # si la secuencia tiene más términos que el tamaño de contexto máximo,\n",
        "  # armo varias sub-secuencias de tamaño máximo\n",
        "  if len(sent) > (max_context_size+1):\n",
        "    extra = len(sent)-(max_context_size+1) + 1\n",
        "    for i in range(extra):\n",
        "      tok_sentences.append(sent[i:i+max_context_size+1])\n",
        "  else: # si la secuencia tiene menos términos el tamaño de contexto máximo, dejo la secuencia como está\n",
        "    tok_sentences.append(sent)"
      ]
    },
    {
      "cell_type": "code",
      "execution_count": 66,
      "metadata": {
        "id": "RiEt0AAz_64v"
      },
      "outputs": [
        {
          "name": "stdout",
          "output_type": "stream",
          "text": [
            "1451\n"
          ]
        }
      ],
      "source": [
        "print(len(tok_sentences))"
      ]
    },
    {
      "cell_type": "markdown",
      "metadata": {
        "id": "l3iPTx-UJl6r"
      },
      "source": [
        "En este punto tenemos en la variable `tokenized_sentences` los versos tokenizados. Vamos a quedarnos con un conjunto de validación que utilizaremos para medir la calidad de la generación de secuencias con la métrica de Perplejidad."
      ]
    },
    {
      "cell_type": "code",
      "execution_count": 68,
      "metadata": {
        "id": "cSeqVGyV_wz5"
      },
      "outputs": [],
      "source": [
        "tokenized_sentences_train, tokenized_sentences_val, _, _ = train_test_split(tok_sentences, tok_sentences, test_size=0.2, random_state=42)\n",
        "\n",
        "tok_sentences_pad_train = pad_sequences(tokenized_sentences_train, maxlen=max_context_size+1, padding=\"pre\")\n",
        "tok_sentences_pad_val = pad_sequences(tokenized_sentences_val, maxlen=max_context_size+1, padding=\"pre\")"
      ]
    },
    {
      "cell_type": "code",
      "execution_count": 69,
      "metadata": {
        "id": "o5Uiflnwt10J"
      },
      "outputs": [
        {
          "data": {
            "text/plain": [
              "(1160, 26)"
            ]
          },
          "execution_count": 69,
          "metadata": {},
          "output_type": "execute_result"
        }
      ],
      "source": [
        "tok_sentences_pad_train.shape"
      ]
    },
    {
      "cell_type": "code",
      "execution_count": 71,
      "metadata": {},
      "outputs": [
        {
          "data": {
            "text/plain": [
              "(291, 26)"
            ]
          },
          "execution_count": 71,
          "metadata": {},
          "output_type": "execute_result"
        }
      ],
      "source": [
        "tok_sentences_pad_val.shape"
      ]
    },
    {
      "cell_type": "code",
      "execution_count": 75,
      "metadata": {
        "id": "yprwJHiMBQIS"
      },
      "outputs": [],
      "source": [
        "# y de aquí sacamos las entradas y los targets que consumirá nuestro sistema en\n",
        "# tiempo de entrenamiento\n",
        "X_train = tok_sentences_pad_train[:,:-1]\n",
        "y_train = tok_sentences_pad_train[:,1:]\n",
        "\n",
        "X_val = tok_sentences_pad_val[:,:-1]\n",
        "y_val = tok_sentences_pad_val[:,1:]"
      ]
    },
    {
      "cell_type": "markdown",
      "metadata": {
        "id": "YxuKNI05Ttct"
      },
      "source": [
        "Nótese que estamos estructurando el problema de aprendizaje como *many-to-many*:\n",
        "\n",
        "Entrada: secuencia de tokens [$x_0$, $x_1$, ..., $x_N$]\n",
        "\n",
        "Target: secuencia de tokens [$x_1$, $x_2$, ..., $x_{N+1}$]\n",
        "\n",
        "De manera que la red tiene que aprender que su salida deben ser los tokens desplazados en una posición y un nuevo token predicho (el N+1).\n",
        "\n",
        "La ventaja de estructurar el aprendizaje de esta manera es que para cada token de target se propaga una señal de gradiente por el grafo de cómputo recurrente, que es mejor que estructurar el problema como *many-to-one* en donde sólo una señal de gradiente se propaga."
      ]
    },
    {
      "cell_type": "code",
      "execution_count": 78,
      "metadata": {
        "id": "1D9ESMGyB_QD"
      },
      "outputs": [
        {
          "data": {
            "text/plain": [
              "{1: 'the',\n",
              " 2: 'of',\n",
              " 3: 'to',\n",
              " 4: 'and',\n",
              " 5: 'a',\n",
              " 6: 'in',\n",
              " 7: 'is',\n",
              " 8: 'that',\n",
              " 9: 'are',\n",
              " 10: 'they',\n",
              " 11: 'their',\n",
              " 12: 'heroes',\n",
              " 13: 'one',\n",
              " 14: 'this',\n",
              " 15: 'be',\n",
              " 16: 'will',\n",
              " 17: 'for',\n",
              " 18: 'with',\n",
              " 19: 'by',\n",
              " 20: 'as',\n",
              " 21: 'thylea',\n",
              " 22: 'from',\n",
              " 23: 'it',\n",
              " 24: 'his',\n",
              " 25: 'sydon',\n",
              " 26: 'but',\n",
              " 27: 'gods',\n",
              " 28: 'an',\n",
              " 29: 'can',\n",
              " 30: 'who',\n",
              " 31: 'she',\n",
              " 32: 'on',\n",
              " 33: 'he',\n",
              " 34: 'mytros',\n",
              " 35: 'you',\n",
              " 36: 'has',\n",
              " 37: 'her',\n",
              " 38: 'must',\n",
              " 39: 'have',\n",
              " 40: 'lutheria',\n",
              " 41: 'or',\n",
              " 42: 'when',\n",
              " 43: 'them',\n",
              " 44: 'oath',\n",
              " 45: 'dragonlords',\n",
              " 46: 'your',\n",
              " 47: 'at',\n",
              " 48: 'once',\n",
              " 49: 'into',\n",
              " 50: 'if',\n",
              " 51: 'all',\n",
              " 52: 'city',\n",
              " 53: 'were',\n",
              " 54: 'been',\n",
              " 55: 'was',\n",
              " 56: 'first',\n",
              " 57: 'great',\n",
              " 58: 'titans',\n",
              " 59: 'these',\n",
              " 60: 'only',\n",
              " 61: 'dragon',\n",
              " 62: 'five',\n",
              " 63: 'story',\n",
              " 64: 'should',\n",
              " 65: 'god',\n",
              " 66: 'pythor',\n",
              " 67: 'epic',\n",
              " 68: 'not',\n",
              " 69: 'mortals',\n",
              " 70: 'may',\n",
              " 71: 'cursed',\n",
              " 72: 'curse',\n",
              " 73: 'other',\n",
              " 74: 'each',\n",
              " 75: 'time',\n",
              " 76: 'lost',\n",
              " 77: 'battle',\n",
              " 78: 'no',\n",
              " 79: 'ancient',\n",
              " 80: 'world',\n",
              " 81: 'through',\n",
              " 82: 'mortal',\n",
              " 83: 'also',\n",
              " 84: 'upon',\n",
              " 85: 'sea',\n",
              " 86: 'where',\n",
              " 87: 'many',\n",
              " 88: 'war',\n",
              " 89: 'most',\n",
              " 90: 'against',\n",
              " 91: \"one's\",\n",
              " 92: 'forgotten',\n",
              " 93: 'land',\n",
              " 94: 'players',\n",
              " 95: 'order',\n",
              " 96: 'any',\n",
              " 97: 'before',\n",
              " 98: 'island',\n",
              " 99: 'peace',\n",
              " 100: 'there',\n",
              " 101: 'about',\n",
              " 102: 'king',\n",
              " 103: 'races',\n",
              " 104: 'demi',\n",
              " 105: 'make',\n",
              " 106: 'end',\n",
              " 107: 'oracle',\n",
              " 108: 'even',\n",
              " 109: 'magic',\n",
              " 110: 'every',\n",
              " 111: 'life',\n",
              " 112: 'powerful',\n",
              " 113: 'more',\n",
              " 114: 'oaths',\n",
              " 115: 'after',\n",
              " 116: 'had',\n",
              " 117: 'which',\n",
              " 118: 'prophecy',\n",
              " 119: 'ultros',\n",
              " 120: 'temple',\n",
              " 121: 'haunted',\n",
              " 122: 'now',\n",
              " 123: 'hero',\n",
              " 124: 'then',\n",
              " 125: 'over',\n",
              " 126: 'take',\n",
              " 127: 'acastus',\n",
              " 128: 'goddess',\n",
              " 129: 'so',\n",
              " 130: 'divine',\n",
              " 131: 'paths',\n",
              " 132: 'adventure',\n",
              " 133: 'ship',\n",
              " 134: 'doomed',\n",
              " 135: 'centaurs',\n",
              " 136: 'called',\n",
              " 137: 'do',\n",
              " 138: \"'\",\n",
              " 139: 'fates',\n",
              " 140: 'family',\n",
              " 141: 'gifted',\n",
              " 142: 'however',\n",
              " 143: 'party',\n",
              " 144: 'greatest',\n",
              " 145: 'those',\n",
              " 146: 'three',\n",
              " 147: 'vanished',\n",
              " 148: 'years',\n",
              " 149: 'children',\n",
              " 150: 'fate',\n",
              " 151: 'mythic',\n",
              " 152: 'out',\n",
              " 153: 'storms',\n",
              " 154: 'long',\n",
              " 155: 'people',\n",
              " 156: 'items',\n",
              " 157: 'volkan',\n",
              " 158: 'vallus',\n",
              " 159: 'meeting',\n",
              " 160: 'versi',\n",
              " 161: 'need',\n",
              " 162: 'what',\n",
              " 163: 'very',\n",
              " 164: 'men',\n",
              " 165: 'across',\n",
              " 166: 'such',\n",
              " 167: 'major',\n",
              " 168: 'new',\n",
              " 169: 'player',\n",
              " 170: 'lord',\n",
              " 171: 'known',\n",
              " 172: 'dragons',\n",
              " 173: 'gygans',\n",
              " 174: 'event',\n",
              " 175: 'path',\n",
              " 176: 'treasure',\n",
              " 177: 'come',\n",
              " 178: 'ever',\n",
              " 179: 'within',\n",
              " 180: 'how',\n",
              " 181: 'him',\n",
              " 182: 'than',\n",
              " 183: 'takes',\n",
              " 184: 'creatures',\n",
              " 185: 'found',\n",
              " 186: 'islands',\n",
              " 187: 'centuries',\n",
              " 188: 'some',\n",
              " 189: 'man',\n",
              " 190: 'spell',\n",
              " 191: 'dragonslayer',\n",
              " 192: 'campaign',\n",
              " 193: 'power',\n",
              " 194: 'silver',\n",
              " 195: 'while',\n",
              " 196: 'up',\n",
              " 197: 'reveal',\n",
              " 198: 'native',\n",
              " 199: 'until',\n",
              " 200: 'read',\n",
              " 201: 'mother',\n",
              " 202: 'during',\n",
              " 203: 'its',\n",
              " 204: 'estoria',\n",
              " 205: 'wisdom',\n",
              " 206: 'guest',\n",
              " 207: 'forge',\n",
              " 208: 'explore',\n",
              " 209: 'history',\n",
              " 210: 'under',\n",
              " 211: 'back',\n",
              " 212: 'quest',\n",
              " 213: 'last',\n",
              " 214: 'kings',\n",
              " 215: 'would',\n",
              " 216: 'fame',\n",
              " 217: 'seek',\n",
              " 218: 'book',\n",
              " 219: 'fey',\n",
              " 220: 'dawn',\n",
              " 221: \"thylea's\",\n",
              " 222: 'true',\n",
              " 223: 'voice',\n",
              " 224: 'dead',\n",
              " 225: 'day',\n",
              " 226: 'old',\n",
              " 227: 'cities',\n",
              " 228: 'killed',\n",
              " 229: 'someone',\n",
              " 230: 'friendship',\n",
              " 231: 'harpy',\n",
              " 232: 'nether',\n",
              " 233: 'artifact',\n",
              " 234: 'used',\n",
              " 235: 'different',\n",
              " 236: 'find',\n",
              " 237: 'among',\n",
              " 238: 'lands',\n",
              " 239: 'like',\n",
              " 240: 'two',\n",
              " 241: 'death',\n",
              " 242: 'queen',\n",
              " 243: 'labors',\n",
              " 244: 'being',\n",
              " 245: 'home',\n",
              " 246: 'sworn',\n",
              " 247: 'madness',\n",
              " 248: 'cyclopes',\n",
              " 249: 'tribes',\n",
              " 250: 'confront',\n",
              " 251: 'titan',\n",
              " 252: 'another',\n",
              " 253: 'ocean',\n",
              " 254: 'form',\n",
              " 255: 'few',\n",
              " 256: 'estor',\n",
              " 257: 'cerulean',\n",
              " 258: 'gulf',\n",
              " 259: 'kingdom',\n",
              " 260: 'daughter',\n",
              " 261: 'kyrah',\n",
              " 262: 'begin',\n",
              " 263: 'saving',\n",
              " 264: 'throw',\n",
              " 265: 'character',\n",
              " 266: 'item',\n",
              " 267: 'happen',\n",
              " 268: 'weapon',\n",
              " 269: 'everything',\n",
              " 270: 'we',\n",
              " 271: 'save',\n",
              " 272: 'own',\n",
              " 273: 'just',\n",
              " 274: 'characters',\n",
              " 275: 'know',\n",
              " 276: 'control',\n",
              " 277: 'often',\n",
              " 278: 'sometimes',\n",
              " 279: 'themselves',\n",
              " 280: 'far',\n",
              " 281: 'made',\n",
              " 282: 'warriors',\n",
              " 283: 'both',\n",
              " 284: 'gives',\n",
              " 285: 'loved',\n",
              " 286: 'complete',\n",
              " 287: 'become',\n",
              " 288: 'confronting',\n",
              " 289: 'gm',\n",
              " 290: 'section',\n",
              " 291: 'several',\n",
              " 292: 'appendix',\n",
              " 293: 'beyond',\n",
              " 294: 'humans',\n",
              " 295: 'said',\n",
              " 296: 'whenever',\n",
              " 297: 'tower',\n",
              " 298: 'days',\n",
              " 299: 'summoned',\n",
              " 300: 'defeat',\n",
              " 301: 'travel',\n",
              " 302: 'dc',\n",
              " 303: 'erinyes',\n",
              " 304: 'mithral',\n",
              " 305: 'storm',\n",
              " 306: 'helios',\n",
              " 307: 'boon',\n",
              " 308: 'demetria',\n",
              " 309: 'odyssey',\n",
              " 310: 'greek',\n",
              " 311: 'designed',\n",
              " 312: 'came',\n",
              " 313: 'ago',\n",
              " 314: 'famous',\n",
              " 315: 'set',\n",
              " 316: 'forced',\n",
              " 317: 'evil',\n",
              " 318: 'times',\n",
              " 319: 'might',\n",
              " 320: 'makes',\n",
              " 321: 'always',\n",
              " 322: 'curses',\n",
              " 323: 'goals',\n",
              " 324: 'lives',\n",
              " 325: 'meet',\n",
              " 326: 'return',\n",
              " 327: 'ones',\n",
              " 328: 'along',\n",
              " 329: 'guide',\n",
              " 330: 'could',\n",
              " 331: 'give',\n",
              " 332: 'settlers',\n",
              " 333: \"lutheria's\",\n",
              " 334: 'worship',\n",
              " 335: 'throne',\n",
              " 336: 'damon',\n",
              " 337: 'throughout',\n",
              " 338: 'refer',\n",
              " 339: 'see',\n",
              " 340: 'magical',\n",
              " 341: 'ends',\n",
              " 342: 'person',\n",
              " 343: 'way',\n",
              " 344: 'greater',\n",
              " 345: 'target',\n",
              " 346: 'medusa',\n",
              " 347: 'possession',\n",
              " 348: \"pythor's\",\n",
              " 349: 'egg',\n",
              " 350: 'following',\n",
              " 351: 'ancestor',\n",
              " 352: 'tells',\n",
              " 353: 'run',\n",
              " 354: 'mythology',\n",
              " 355: 'monsters',\n",
              " 356: 'here',\n",
              " 357: 'forever',\n",
              " 358: 'attack',\n",
              " 359: 'hand',\n",
              " 360: 'bronze',\n",
              " 361: 'armies',\n",
              " 362: 'heavens',\n",
              " 363: 'hundred',\n",
              " 364: 'roleplaying',\n",
              " 365: 'took',\n",
              " 366: 'place',\n",
              " 367: 'father',\n",
              " 368: 'sail',\n",
              " 369: 'rest',\n",
              " 370: 'villains',\n",
              " 371: 'cast',\n",
              " 372: 'means',\n",
              " 373: 'part',\n",
              " 374: 'small',\n",
              " 375: 'jealous',\n",
              " 376: 'cannot',\n",
              " 377: 'effect',\n",
              " 378: 'break',\n",
              " 379: 'afflicted',\n",
              " 380: 'turns',\n",
              " 381: 'souls',\n",
              " 382: 'breaking',\n",
              " 383: 'task',\n",
              " 384: 'civilization',\n",
              " 385: 'best',\n",
              " 386: 'arrival',\n",
              " 387: \"oracle's\",\n",
              " 388: 'sister',\n",
              " 389: 'himself',\n",
              " 390: 'since',\n",
              " 391: 'centaur',\n",
              " 392: 'sky',\n",
              " 393: 'offered',\n",
              " 394: 'powers',\n",
              " 395: 'unlike',\n",
              " 396: 'held',\n",
              " 397: 'dreams',\n",
              " 398: 'honor',\n",
              " 399: 'protection',\n",
              " 400: 'down',\n",
              " 401: 'final',\n",
              " 402: 'ships',\n",
              " 403: 'dark',\n",
              " 404: 'eventually',\n",
              " 405: 'treacherous',\n",
              " 406: 'oldwood',\n",
              " 407: 'husband',\n",
              " 408: 'usually',\n",
              " 409: 'drink',\n",
              " 410: 'rare',\n",
              " 411: 'appear',\n",
              " 412: 'including',\n",
              " 413: 'entire',\n",
              " 414: 'creature',\n",
              " 415: 'defeated',\n",
              " 416: 'sends',\n",
              " 417: 'free',\n",
              " 418: 'reveals',\n",
              " 419: 'gaius',\n",
              " 420: 'hour',\n",
              " 421: 'lotus',\n",
              " 422: 'witch',\n",
              " 423: 'provide',\n",
              " 424: 'stories',\n",
              " 425: 'encounter',\n",
              " 426: 'familiar',\n",
              " 427: 'elves',\n",
              " 428: 'dwarves',\n",
              " 429: 'live',\n",
              " 430: 'satyrs',\n",
              " 431: 'does',\n",
              " 432: 'destruction',\n",
              " 433: 'warrior',\n",
              " 434: 'fell',\n",
              " 435: 'completed',\n",
              " 436: 'because',\n",
              " 437: 'almost',\n",
              " 438: 'game',\n",
              " 439: 'seems',\n",
              " 440: 'sorceress',\n",
              " 441: 'fight',\n",
              " 442: 'above',\n",
              " 443: \"it's\",\n",
              " 444: 'action',\n",
              " 445: 'eyes',\n",
              " 446: 'underworld',\n",
              " 447: 'subject',\n",
              " 448: 'gift',\n",
              " 449: 'short',\n",
              " 450: 'glory',\n",
              " 451: 'help',\n",
              " 452: 'guise',\n",
              " 453: 'still',\n",
              " 454: 'requires',\n",
              " 455: 'seeks',\n",
              " 456: 'beauty',\n",
              " 457: 'steppes',\n",
              " 458: 'shores',\n",
              " 459: 'founded',\n",
              " 460: 'shrines',\n",
              " 461: 'half',\n",
              " 462: 'fire',\n",
              " 463: 'blessed',\n",
              " 464: \"don't\",\n",
              " 465: 'includes',\n",
              " 466: 'centurions',\n",
              " 467: 'recover',\n",
              " 468: 'anger',\n",
              " 469: 'sacrificed',\n",
              " 470: 'arkelander',\n",
              " 471: 'priests',\n",
              " 472: 'celebration',\n",
              " 473: 'oceans',\n",
              " 474: 'scythe',\n",
              " 475: 'everyone',\n",
              " 476: 'aresia',\n",
              " 477: 'hours',\n",
              " 478: 'special',\n",
              " 479: 'servants',\n",
              " 480: 'song',\n",
              " 481: 'never',\n",
              " 482: 'lightning',\n",
              " 483: 'swearer',\n",
              " 484: 'answer',\n",
              " 485: 'swear',\n",
              " 486: 'transform',\n",
              " 487: 'transformation',\n",
              " 488: 'praxys',\n",
              " 489: '1',\n",
              " 490: 'chapter',\n",
              " 491: 'destined',\n",
              " 492: 'kill',\n",
              " 493: 'nightmare',\n",
              " 494: 'worried',\n",
              " 495: 'details',\n",
              " 496: 'hammer',\n",
              " 497: 'says',\n",
              " 498: 'full',\n",
              " 499: 'locket',\n",
              " 500: 'typhon',\n",
              " 501: 'jason',\n",
              " 502: 'argonauts',\n",
              " 503: 'recently',\n",
              " 504: 'fantasy',\n",
              " 505: 'change',\n",
              " 506: 'prepare',\n",
              " 507: 'thousands',\n",
              " 508: \"sydon's\",\n",
              " 509: 'sacred',\n",
              " 510: 'passed',\n",
              " 511: 'again',\n",
              " 512: 'legendary',\n",
              " 513: 'sailors',\n",
              " 514: 'between',\n",
              " 515: 'wife',\n",
              " 516: 'refuses',\n",
              " 517: 'succeed',\n",
              " 518: 'next',\n",
              " 519: 'ways',\n",
              " 520: 'dangerous',\n",
              " 521: 'earth',\n",
              " 522: 'join',\n",
              " 523: 'create',\n",
              " 524: 'hubris',\n",
              " 525: 'forces',\n",
              " 526: 'otherwise',\n",
              " 527: 'destroyed',\n",
              " 528: 'highest',\n",
              " 529: 'sacrifices',\n",
              " 530: 'work',\n",
              " 531: 'enemies',\n",
              " 532: 'walk',\n",
              " 533: 'level',\n",
              " 534: 'beginning',\n",
              " 535: 'haunt',\n",
              " 536: 'seas',\n",
              " 537: 'table',\n",
              " 538: 'information',\n",
              " 539: 'lived',\n",
              " 540: 'chosen',\n",
              " 541: 'ruled',\n",
              " 542: 'dominion',\n",
              " 543: 'chapters',\n",
              " 544: 'running',\n",
              " 545: 'located',\n",
              " 546: 'expanse',\n",
              " 547: 'hundreds',\n",
              " 548: 'ruins',\n",
              " 549: 'massive',\n",
              " 550: 'although',\n",
              " 551: 'heart',\n",
              " 552: 'tree',\n",
              " 553: 'twin',\n",
              " 554: 'reaches',\n",
              " 555: 'weapons',\n",
              " 556: 'strange',\n",
              " 557: 'settlements',\n",
              " 558: 'survived',\n",
              " 559: 'visited',\n",
              " 560: 'grew',\n",
              " 561: 'having',\n",
              " 562: 'gygan',\n",
              " 563: 'swore',\n",
              " 564: 'vengeance',\n",
              " 565: 'ascended',\n",
              " 566: 'rescue',\n",
              " 567: 'fleet',\n",
              " 568: 'black',\n",
              " 569: 'single',\n",
              " 570: 'cause',\n",
              " 571: 'sure',\n",
              " 572: 'adventurers',\n",
              " 573: 'things',\n",
              " 574: 'faces',\n",
              " 575: 'believe',\n",
              " 576: 'reach',\n",
              " 577: 'deep',\n",
              " 578: 'believed',\n",
              " 579: 'kentimane',\n",
              " 580: 'water',\n",
              " 581: 'thunder',\n",
              " 582: 'without',\n",
              " 583: 'else',\n",
              " 584: 'off',\n",
              " 585: 'armor',\n",
              " 586: 'much',\n",
              " 587: 'revered',\n",
              " 588: 'restore',\n",
              " 589: 'attacks',\n",
              " 590: 'point',\n",
              " 591: 'knows',\n",
              " 592: 'service',\n",
              " 593: 'required',\n",
              " 594: 'dwells',\n",
              " 595: 'away',\n",
              " 596: 'meets',\n",
              " 597: 'taken',\n",
              " 598: 'army',\n",
              " 599: 'perform',\n",
              " 600: 'destroy',\n",
              " 601: 'opportunity',\n",
              " 602: 'suffer',\n",
              " 603: 'host',\n",
              " 604: 'enough',\n",
              " 605: 'presented',\n",
              " 606: 'anyone',\n",
              " 607: 'possible',\n",
              " 608: 'slowly',\n",
              " 609: 'casting',\n",
              " 610: 'restoration',\n",
              " 611: 'charmed',\n",
              " 612: 'victim',\n",
              " 613: 'successful',\n",
              " 614: 'comes',\n",
              " 615: 'becomes',\n",
              " 616: 'wish',\n",
              " 617: 'die',\n",
              " 618: '20',\n",
              " 619: 'check',\n",
              " 620: 'directly',\n",
              " 621: 'sent',\n",
              " 622: 'learn',\n",
              " 623: 'done',\n",
              " 624: 'offers',\n",
              " 625: 'use',\n",
              " 626: 'necropolis',\n",
              " 627: 'telamok',\n",
              " 628: 'dream',\n",
              " 629: 'antikythera',\n",
              " 630: 'undead',\n",
              " 631: 'yonder',\n",
              " 632: 'narsus',\n",
              " 633: 'prison',\n",
              " 634: 'artifacts',\n",
              " 635: 'unlock',\n",
              " 636: 'roleplay',\n",
              " 637: 'standard',\n",
              " 638: 'specific',\n",
              " 639: 'case',\n",
              " 640: 'tell',\n",
              " 641: 'exploits',\n",
              " 642: 'warband',\n",
              " 643: 'clouds',\n",
              " 644: 'roll',\n",
              " 645: 'something',\n",
              " 646: 'garden',\n",
              " 647: 'term',\n",
              " 648: 'lesser',\n",
              " 649: 'sun',\n",
              " 650: 'child',\n",
              " 651: 'believes',\n",
              " 652: 'offer',\n",
              " 653: 'confronts',\n",
              " 654: 'possess',\n",
              " 655: 'killing',\n",
              " 656: \"dragonslayer's\",\n",
              " 657: 'heavily',\n",
              " 658: 'sought',\n",
              " 659: 'others',\n",
              " 660: 'rules',\n",
              " 661: 'minotaurs',\n",
              " 662: 'our',\n",
              " 663: 'entirely',\n",
              " 664: 'encourage',\n",
              " 665: 'colossal',\n",
              " 666: 'doom',\n",
              " 667: 'rise',\n",
              " 668: 'themis',\n",
              " 669: 'watches',\n",
              " 670: 'sealed',\n",
              " 671: '3',\n",
              " 672: 'band',\n",
              " 673: 'impossible',\n",
              " 674: 'ranks',\n",
              " 675: 'achilles',\n",
              " 676: 'spite',\n",
              " 677: 'challenges',\n",
              " 678: 'masters',\n",
              " 679: 'stop',\n",
              " 680: 'allies',\n",
              " 681: \"he's\",\n",
              " 682: 'lead',\n",
              " 683: 'multiple',\n",
              " 684: 'points',\n",
              " 685: 'terrible',\n",
              " 686: 'golden',\n",
              " 687: 'epics',\n",
              " 688: 'heroic',\n",
              " 689: 'deeds',\n",
              " 690: 'journey',\n",
              " 691: 'quickly',\n",
              " 692: 'hard',\n",
              " 693: 'human',\n",
              " 694: 'large',\n",
              " 695: 'promises',\n",
              " 696: 'conflict',\n",
              " 697: 'matter',\n",
              " 698: 'too',\n",
              " 699: 'influence',\n",
              " 700: 'queens',\n",
              " 701: 'events',\n",
              " 702: 'mind',\n",
              " 703: 'food',\n",
              " 704: 'aid',\n",
              " 705: 'though',\n",
              " 706: 'seeking',\n",
              " 707: 'direct',\n",
              " 708: 'pride',\n",
              " 709: 'abilities',\n",
              " 710: 'us',\n",
              " 711: 'allow',\n",
              " 712: 'rather',\n",
              " 713: 'seem',\n",
              " 714: 'falls',\n",
              " 715: 'throws',\n",
              " 716: 'least',\n",
              " 717: 'expect',\n",
              " 718: '5th',\n",
              " 719: 'edition',\n",
              " 720: '4',\n",
              " 721: 'shape',\n",
              " 722: 'intended',\n",
              " 723: 'secrets',\n",
              " 724: 'worshipped',\n",
              " 725: 'seemed',\n",
              " 726: 'truce',\n",
              " 727: 'preparing',\n",
              " 728: 'central',\n",
              " 729: 'sides',\n",
              " 730: 'miles',\n",
              " 731: 'name',\n",
              " 732: 'dwell',\n",
              " 733: 'failed',\n",
              " 734: 'feasts',\n",
              " 735: 'wine',\n",
              " 736: 'lady',\n",
              " 737: 'fought',\n",
              " 738: 'tirelessly',\n",
              " 739: 'overhead',\n",
              " 740: 'gathering',\n",
              " 741: 'certain',\n",
              " 742: 'leaving',\n",
              " 743: 'fallen',\n",
              " 744: 'ended',\n",
              " 745: 'age',\n",
              " 746: 'spirits',\n",
              " 747: 'sacrifice',\n",
              " 748: 'protect',\n",
              " 749: 'women',\n",
              " 750: 'forbidden',\n",
              " 751: 'forms',\n",
              " 752: 'broken',\n",
              " 753: 'nightmares',\n",
              " 754: 'threatened',\n",
              " 755: 'herself',\n",
              " 756: 'sailed',\n",
              " 757: 'say',\n",
              " 758: 'night',\n",
              " 759: 'suddenly',\n",
              " 760: 'later',\n",
              " 761: '500',\n",
              " 762: 'daily',\n",
              " 763: 'honored',\n",
              " 764: 'established',\n",
              " 765: 'nearly',\n",
              " 766: 'attempt',\n",
              " 767: 'maelstrom',\n",
              " 768: 'terrifying',\n",
              " 769: 'spend',\n",
              " 770: 'crew',\n",
              " 771: 'awaken',\n",
              " 772: 'lose',\n",
              " 773: 'colossus',\n",
              " 774: 'horizon',\n",
              " 775: 'serves',\n",
              " 776: 'existed',\n",
              " 777: 'binding',\n",
              " 778: 'together',\n",
              " 779: 'eternal',\n",
              " 780: 'giving',\n",
              " 781: 'druids',\n",
              " 782: 'poetry',\n",
              " 783: 'punish',\n",
              " 784: 'wrath',\n",
              " 785: 'prayers',\n",
              " 786: 'beautiful',\n",
              " 787: 'crystal',\n",
              " 788: 'uses',\n",
              " 789: 'commands',\n",
              " 790: 'punishment',\n",
              " 791: 'widely',\n",
              " 792: 'protecting',\n",
              " 793: 'settler',\n",
              " 794: 'eye',\n",
              " 795: 'primarily',\n",
              " 796: 'introduction',\n",
              " 797: 'revere',\n",
              " 798: 'center',\n",
              " 799: 'race',\n",
              " 800: 'watch',\n",
              " 801: 'forged',\n",
              " 802: 'dozens',\n",
              " 803: 'aresian',\n",
              " 804: 'spent',\n",
              " 805: 'natives',\n",
              " 806: 'formed',\n",
              " 807: 'less',\n",
              " 808: 'orcs',\n",
              " 809: 'learning',\n",
              " 810: 'background',\n",
              " 811: 'tribe',\n",
              " 812: 'keep',\n",
              " 813: 'raving',\n",
              " 814: 'laws',\n",
              " 815: 'expected',\n",
              " 816: 'bond',\n",
              " 817: 'offending',\n",
              " 818: 'individual',\n",
              " 819: 'menelaus',\n",
              " 820: 'assist',\n",
              " 821: 'call',\n",
              " 822: 'fulfilled',\n",
              " 823: 'failure',\n",
              " 824: 'require',\n",
              " 825: 'curing',\n",
              " 826: 'transformed',\n",
              " 827: 'missing',\n",
              " 828: 'process',\n",
              " 829: 'ability',\n",
              " 830: 'hear',\n",
              " 831: 'singing',\n",
              " 832: 'toward',\n",
              " 833: 'granted',\n",
              " 834: 'fully',\n",
              " 835: 'described',\n",
              " 836: 'get',\n",
              " 837: 'returning',\n",
              " 838: 'stolen',\n",
              " 839: 'manner',\n",
              " 840: 'try',\n",
              " 841: 'oathbreakers',\n",
              " 842: 'area',\n",
              " 843: 'possesses',\n",
              " 844: 'able',\n",
              " 845: 'begins',\n",
              " 846: 'boar',\n",
              " 847: 'explains',\n",
              " 848: 'vision',\n",
              " 849: 'revealed',\n",
              " 850: \"king's\",\n",
              " 851: 'mossy',\n",
              " 852: 'finish',\n",
              " 853: 'labor',\n",
              " 854: 'summons',\n",
              " 855: 'act',\n",
              " 856: '2',\n",
              " 857: 'rewards',\n",
              " 858: 'ghost',\n",
              " 859: 'eggs',\n",
              " 860: 'asks',\n",
              " 861: 'raise',\n",
              " 862: 'voyage',\n",
              " 863: 'already',\n",
              " 864: 'either',\n",
              " 865: 'gear',\n",
              " 866: 'godhood',\n",
              " 867: 'pantheon',\n",
              " 868: 'apokalypsis',\n",
              " 869: 'describes',\n",
              " 870: 'core',\n",
              " 871: 'choose',\n",
              " 872: 'creating',\n",
              " 873: 'relationships',\n",
              " 874: 'rumors',\n",
              " 875: 'notecards',\n",
              " 876: 'chance',\n",
              " 877: 'figure',\n",
              " 878: 'white',\n",
              " 879: 'escape',\n",
              " 880: 'face',\n",
              " 881: 'soul',\n",
              " 882: 'soft',\n",
              " 883: 'knowledge',\n",
              " 884: 'awakens',\n",
              " 885: 'wants',\n",
              " 886: 'recognizes',\n",
              " 887: 'hexia',\n",
              " 888: 'unfinished',\n",
              " 889: 'xander',\n",
              " 890: 'parents',\n",
              " 891: 'joke',\n",
              " 892: 'focus',\n",
              " 893: 'corrupted',\n",
              " 894: 'consulting',\n",
              " 895: 'birth',\n",
              " 896: 'bargain',\n",
              " 897: 'existence',\n",
              " 898: 'grandmother',\n",
              " 899: 'speak',\n",
              " 900: 'fortress',\n",
              " 901: 'hoard',\n",
              " 902: 'forgekeeper',\n",
              " 903: 'cerberus',\n",
              " 904: 'welcome',\n",
              " 905: 'include',\n",
              " 906: 'sources',\n",
              " 907: 'zeus',\n",
              " 908: 'apollo',\n",
              " 909: 'treasures',\n",
              " 910: 'halflings',\n",
              " 911: 'alongside',\n",
              " 912: 'goal',\n",
              " 913: 'feel',\n",
              " 914: 'told',\n",
              " 915: 'embrace',\n",
              " 916: 'reshape',\n",
              " 917: 'mean',\n",
              " 918: 'prophesied',\n",
              " 919: 'blood',\n",
              " 920: 'why',\n",
              " 921: 'included',\n",
              " 922: 'hercules',\n",
              " 923: 'fabled',\n",
              " 924: 'prophecies',\n",
              " 925: 'foretold',\n",
              " 926: 'abandoned',\n",
              " 927: 'soon',\n",
              " 928: 'comedy',\n",
              " 929: 'fellow',\n",
              " 930: \"isn't\",\n",
              " 931: 'self',\n",
              " 932: 'luck',\n",
              " 933: 'step',\n",
              " 934: 'medea',\n",
              " 935: 'clear',\n",
              " 936: 'odysseus',\n",
              " 937: 'real',\n",
              " 938: 'figures',\n",
              " 939: 'fails',\n",
              " 940: 'cunning',\n",
              " 941: 'left',\n",
              " 942: 'western',\n",
              " 943: 'archetypes',\n",
              " 944: 'heroism',\n",
              " 945: 'course',\n",
              " 946: 'cruel',\n",
              " 947: 'generous',\n",
              " 948: 'vengeful',\n",
              " 949: 'kind',\n",
              " 950: 'generally',\n",
              " 951: 'foolish',\n",
              " 952: 'wisest',\n",
              " 953: 'demand',\n",
              " 954: 'hands',\n",
              " 955: 'bound',\n",
              " 956: 'arms',\n",
              " 957: 'wars',\n",
              " 958: 'sound',\n",
              " 959: 'itself',\n",
              " 960: 'screaming',\n",
              " 961: 'reason',\n",
              " 962: 'fear',\n",
              " 963: 'consequences',\n",
              " 964: 'same',\n",
              " 965: 'context',\n",
              " 966: 'route',\n",
              " 967: 'danger',\n",
              " 968: 'equal',\n",
              " 969: 'hidden',\n",
              " 970: 'tragedy',\n",
              " 971: 'rising',\n",
              " 972: 'honoring',\n",
              " 973: 'tragic',\n",
              " 974: 'happier',\n",
              " 975: 'turn',\n",
              " 976: 'words',\n",
              " 977: 'yourself',\n",
              " 978: 'wilderness',\n",
              " 979: 'decades',\n",
              " 980: 'discovering',\n",
              " 981: 'easy',\n",
              " 982: 'dramatic',\n",
              " 983: 'adventures',\n",
              " 984: 'memorable',\n",
              " 985: 'failures',\n",
              " 986: 'driven',\n",
              " 987: 'combines',\n",
              " 988: 'dungeon',\n",
              " 989: 'continent',\n",
              " 990: \"world's\",\n",
              " 991: 'open',\n",
              " 992: 'milestones',\n",
              " 993: 'parts',\n",
              " 994: 'divided',\n",
              " 995: 'prologue',\n",
              " 996: 'finale',\n",
              " 997: 'forests',\n",
              " 998: 'role',\n",
              " 999: 'future',\n",
              " 1000: 'contains',\n",
              " ...}"
            ]
          },
          "execution_count": 78,
          "metadata": {},
          "output_type": "execute_result"
        }
      ],
      "source": [
        "# Palabras del vocabulario\n",
        "tok.index_word"
      ]
    },
    {
      "cell_type": "code",
      "execution_count": 79,
      "metadata": {
        "id": "WtzINYjWCMf1"
      },
      "outputs": [
        {
          "data": {
            "text/plain": [
              "3020"
            ]
          },
          "execution_count": 79,
          "metadata": {},
          "output_type": "execute_result"
        }
      ],
      "source": [
        "# Cantidad de palabras en el vocabulario\n",
        "vocab_size = len(tok.word_counts)\n",
        "vocab_size"
      ]
    },
    {
      "cell_type": "code",
      "execution_count": 80,
      "metadata": {
        "id": "spTBxmFQc6h8"
      },
      "outputs": [
        {
          "name": "stdout",
          "output_type": "stream",
          "text": [
            "{'the': 1, 'of': 2, 'to': 3, 'and': 4, 'a': 5, 'in': 6, 'is': 7, 'that': 8, 'are': 9, 'they': 10, 'their': 11, 'heroes': 12, 'one': 13, 'this': 14, 'be': 15, 'will': 16, 'for': 17, 'with': 18, 'by': 19, 'as': 20, 'thylea': 21, 'from': 22, 'it': 23, 'his': 24, 'sydon': 25, 'but': 26, 'gods': 27, 'an': 28, 'can': 29, 'who': 30, 'she': 31, 'on': 32, 'he': 33, 'mytros': 34, 'you': 35, 'has': 36, 'her': 37, 'must': 38, 'have': 39, 'lutheria': 40, 'or': 41, 'when': 42, 'them': 43, 'oath': 44, 'dragonlords': 45, 'your': 46, 'at': 47, 'once': 48, 'into': 49, 'if': 50, 'all': 51, 'city': 52, 'were': 53, 'been': 54, 'was': 55, 'first': 56, 'great': 57, 'titans': 58, 'these': 59, 'only': 60, 'dragon': 61, 'five': 62, 'story': 63, 'should': 64, 'god': 65, 'pythor': 66, 'epic': 67, 'not': 68, 'mortals': 69, 'may': 70, 'cursed': 71, 'curse': 72, 'other': 73, 'each': 74, 'time': 75, 'lost': 76, 'battle': 77, 'no': 78, 'ancient': 79, 'world': 80, 'through': 81, 'mortal': 82, 'also': 83, 'upon': 84, 'sea': 85, 'where': 86, 'many': 87, 'war': 88, 'most': 89, 'against': 90, \"one's\": 91, 'forgotten': 92, 'land': 93, 'players': 94, 'order': 95, 'any': 96, 'before': 97, 'island': 98, 'peace': 99, 'there': 100, 'about': 101, 'king': 102, 'races': 103, 'demi': 104, 'make': 105, 'end': 106, 'oracle': 107, 'even': 108, 'magic': 109, 'every': 110, 'life': 111, 'powerful': 112, 'more': 113, 'oaths': 114, 'after': 115, 'had': 116, 'which': 117, 'prophecy': 118, 'ultros': 119, 'temple': 120, 'haunted': 121, 'now': 122, 'hero': 123, 'then': 124, 'over': 125, 'take': 126, 'acastus': 127, 'goddess': 128, 'so': 129, 'divine': 130, 'paths': 131, 'adventure': 132, 'ship': 133, 'doomed': 134, 'centaurs': 135, 'called': 136, 'do': 137, \"'\": 138, 'fates': 139, 'family': 140, 'gifted': 141, 'however': 142, 'party': 143, 'greatest': 144, 'those': 145, 'three': 146, 'vanished': 147, 'years': 148, 'children': 149, 'fate': 150, 'mythic': 151, 'out': 152, 'storms': 153, 'long': 154, 'people': 155, 'items': 156, 'volkan': 157, 'vallus': 158, 'meeting': 159, 'versi': 160, 'need': 161, 'what': 162, 'very': 163, 'men': 164, 'across': 165, 'such': 166, 'major': 167, 'new': 168, 'player': 169, 'lord': 170, 'known': 171, 'dragons': 172, 'gygans': 173, 'event': 174, 'path': 175, 'treasure': 176, 'come': 177, 'ever': 178, 'within': 179, 'how': 180, 'him': 181, 'than': 182, 'takes': 183, 'creatures': 184, 'found': 185, 'islands': 186, 'centuries': 187, 'some': 188, 'man': 189, 'spell': 190, 'dragonslayer': 191, 'campaign': 192, 'power': 193, 'silver': 194, 'while': 195, 'up': 196, 'reveal': 197, 'native': 198, 'until': 199, 'read': 200, 'mother': 201, 'during': 202, 'its': 203, 'estoria': 204, 'wisdom': 205, 'guest': 206, 'forge': 207, 'explore': 208, 'history': 209, 'under': 210, 'back': 211, 'quest': 212, 'last': 213, 'kings': 214, 'would': 215, 'fame': 216, 'seek': 217, 'book': 218, 'fey': 219, 'dawn': 220, \"thylea's\": 221, 'true': 222, 'voice': 223, 'dead': 224, 'day': 225, 'old': 226, 'cities': 227, 'killed': 228, 'someone': 229, 'friendship': 230, 'harpy': 231, 'nether': 232, 'artifact': 233, 'used': 234, 'different': 235, 'find': 236, 'among': 237, 'lands': 238, 'like': 239, 'two': 240, 'death': 241, 'queen': 242, 'labors': 243, 'being': 244, 'home': 245, 'sworn': 246, 'madness': 247, 'cyclopes': 248, 'tribes': 249, 'confront': 250, 'titan': 251, 'another': 252, 'ocean': 253, 'form': 254, 'few': 255, 'estor': 256, 'cerulean': 257, 'gulf': 258, 'kingdom': 259, 'daughter': 260, 'kyrah': 261, 'begin': 262, 'saving': 263, 'throw': 264, 'character': 265, 'item': 266, 'happen': 267, 'weapon': 268, 'everything': 269, 'we': 270, 'save': 271, 'own': 272, 'just': 273, 'characters': 274, 'know': 275, 'control': 276, 'often': 277, 'sometimes': 278, 'themselves': 279, 'far': 280, 'made': 281, 'warriors': 282, 'both': 283, 'gives': 284, 'loved': 285, 'complete': 286, 'become': 287, 'confronting': 288, 'gm': 289, 'section': 290, 'several': 291, 'appendix': 292, 'beyond': 293, 'humans': 294, 'said': 295, 'whenever': 296, 'tower': 297, 'days': 298, 'summoned': 299, 'defeat': 300, 'travel': 301, 'dc': 302, 'erinyes': 303, 'mithral': 304, 'storm': 305, 'helios': 306, 'boon': 307, 'demetria': 308, 'odyssey': 309, 'greek': 310, 'designed': 311, 'came': 312, 'ago': 313, 'famous': 314, 'set': 315, 'forced': 316, 'evil': 317, 'times': 318, 'might': 319, 'makes': 320, 'always': 321, 'curses': 322, 'goals': 323, 'lives': 324, 'meet': 325, 'return': 326, 'ones': 327, 'along': 328, 'guide': 329, 'could': 330, 'give': 331, 'settlers': 332, \"lutheria's\": 333, 'worship': 334, 'throne': 335, 'damon': 336, 'throughout': 337, 'refer': 338, 'see': 339, 'magical': 340, 'ends': 341, 'person': 342, 'way': 343, 'greater': 344, 'target': 345, 'medusa': 346, 'possession': 347, \"pythor's\": 348, 'egg': 349, 'following': 350, 'ancestor': 351, 'tells': 352, 'run': 353, 'mythology': 354, 'monsters': 355, 'here': 356, 'forever': 357, 'attack': 358, 'hand': 359, 'bronze': 360, 'armies': 361, 'heavens': 362, 'hundred': 363, 'roleplaying': 364, 'took': 365, 'place': 366, 'father': 367, 'sail': 368, 'rest': 369, 'villains': 370, 'cast': 371, 'means': 372, 'part': 373, 'small': 374, 'jealous': 375, 'cannot': 376, 'effect': 377, 'break': 378, 'afflicted': 379, 'turns': 380, 'souls': 381, 'breaking': 382, 'task': 383, 'civilization': 384, 'best': 385, 'arrival': 386, \"oracle's\": 387, 'sister': 388, 'himself': 389, 'since': 390, 'centaur': 391, 'sky': 392, 'offered': 393, 'powers': 394, 'unlike': 395, 'held': 396, 'dreams': 397, 'honor': 398, 'protection': 399, 'down': 400, 'final': 401, 'ships': 402, 'dark': 403, 'eventually': 404, 'treacherous': 405, 'oldwood': 406, 'husband': 407, 'usually': 408, 'drink': 409, 'rare': 410, 'appear': 411, 'including': 412, 'entire': 413, 'creature': 414, 'defeated': 415, 'sends': 416, 'free': 417, 'reveals': 418, 'gaius': 419, 'hour': 420, 'lotus': 421, 'witch': 422, 'provide': 423, 'stories': 424, 'encounter': 425, 'familiar': 426, 'elves': 427, 'dwarves': 428, 'live': 429, 'satyrs': 430, 'does': 431, 'destruction': 432, 'warrior': 433, 'fell': 434, 'completed': 435, 'because': 436, 'almost': 437, 'game': 438, 'seems': 439, 'sorceress': 440, 'fight': 441, 'above': 442, \"it's\": 443, 'action': 444, 'eyes': 445, 'underworld': 446, 'subject': 447, 'gift': 448, 'short': 449, 'glory': 450, 'help': 451, 'guise': 452, 'still': 453, 'requires': 454, 'seeks': 455, 'beauty': 456, 'steppes': 457, 'shores': 458, 'founded': 459, 'shrines': 460, 'half': 461, 'fire': 462, 'blessed': 463, \"don't\": 464, 'includes': 465, 'centurions': 466, 'recover': 467, 'anger': 468, 'sacrificed': 469, 'arkelander': 470, 'priests': 471, 'celebration': 472, 'oceans': 473, 'scythe': 474, 'everyone': 475, 'aresia': 476, 'hours': 477, 'special': 478, 'servants': 479, 'song': 480, 'never': 481, 'lightning': 482, 'swearer': 483, 'answer': 484, 'swear': 485, 'transform': 486, 'transformation': 487, 'praxys': 488, '1': 489, 'chapter': 490, 'destined': 491, 'kill': 492, 'nightmare': 493, 'worried': 494, 'details': 495, 'hammer': 496, 'says': 497, 'full': 498, 'locket': 499, 'typhon': 500, 'jason': 501, 'argonauts': 502, 'recently': 503, 'fantasy': 504, 'change': 505, 'prepare': 506, 'thousands': 507, \"sydon's\": 508, 'sacred': 509, 'passed': 510, 'again': 511, 'legendary': 512, 'sailors': 513, 'between': 514, 'wife': 515, 'refuses': 516, 'succeed': 517, 'next': 518, 'ways': 519, 'dangerous': 520, 'earth': 521, 'join': 522, 'create': 523, 'hubris': 524, 'forces': 525, 'otherwise': 526, 'destroyed': 527, 'highest': 528, 'sacrifices': 529, 'work': 530, 'enemies': 531, 'walk': 532, 'level': 533, 'beginning': 534, 'haunt': 535, 'seas': 536, 'table': 537, 'information': 538, 'lived': 539, 'chosen': 540, 'ruled': 541, 'dominion': 542, 'chapters': 543, 'running': 544, 'located': 545, 'expanse': 546, 'hundreds': 547, 'ruins': 548, 'massive': 549, 'although': 550, 'heart': 551, 'tree': 552, 'twin': 553, 'reaches': 554, 'weapons': 555, 'strange': 556, 'settlements': 557, 'survived': 558, 'visited': 559, 'grew': 560, 'having': 561, 'gygan': 562, 'swore': 563, 'vengeance': 564, 'ascended': 565, 'rescue': 566, 'fleet': 567, 'black': 568, 'single': 569, 'cause': 570, 'sure': 571, 'adventurers': 572, 'things': 573, 'faces': 574, 'believe': 575, 'reach': 576, 'deep': 577, 'believed': 578, 'kentimane': 579, 'water': 580, 'thunder': 581, 'without': 582, 'else': 583, 'off': 584, 'armor': 585, 'much': 586, 'revered': 587, 'restore': 588, 'attacks': 589, 'point': 590, 'knows': 591, 'service': 592, 'required': 593, 'dwells': 594, 'away': 595, 'meets': 596, 'taken': 597, 'army': 598, 'perform': 599, 'destroy': 600, 'opportunity': 601, 'suffer': 602, 'host': 603, 'enough': 604, 'presented': 605, 'anyone': 606, 'possible': 607, 'slowly': 608, 'casting': 609, 'restoration': 610, 'charmed': 611, 'victim': 612, 'successful': 613, 'comes': 614, 'becomes': 615, 'wish': 616, 'die': 617, '20': 618, 'check': 619, 'directly': 620, 'sent': 621, 'learn': 622, 'done': 623, 'offers': 624, 'use': 625, 'necropolis': 626, 'telamok': 627, 'dream': 628, 'antikythera': 629, 'undead': 630, 'yonder': 631, 'narsus': 632, 'prison': 633, 'artifacts': 634, 'unlock': 635, 'roleplay': 636, 'standard': 637, 'specific': 638, 'case': 639, 'tell': 640, 'exploits': 641, 'warband': 642, 'clouds': 643, 'roll': 644, 'something': 645, 'garden': 646, 'term': 647, 'lesser': 648, 'sun': 649, 'child': 650, 'believes': 651, 'offer': 652, 'confronts': 653, 'possess': 654, 'killing': 655, \"dragonslayer's\": 656, 'heavily': 657, 'sought': 658, 'others': 659, 'rules': 660, 'minotaurs': 661, 'our': 662, 'entirely': 663, 'encourage': 664, 'colossal': 665, 'doom': 666, 'rise': 667, 'themis': 668, 'watches': 669, 'sealed': 670, '3': 671, 'band': 672, 'impossible': 673, 'ranks': 674, 'achilles': 675, 'spite': 676, 'challenges': 677, 'masters': 678, 'stop': 679, 'allies': 680, \"he's\": 681, 'lead': 682, 'multiple': 683, 'points': 684, 'terrible': 685, 'golden': 686, 'epics': 687, 'heroic': 688, 'deeds': 689, 'journey': 690, 'quickly': 691, 'hard': 692, 'human': 693, 'large': 694, 'promises': 695, 'conflict': 696, 'matter': 697, 'too': 698, 'influence': 699, 'queens': 700, 'events': 701, 'mind': 702, 'food': 703, 'aid': 704, 'though': 705, 'seeking': 706, 'direct': 707, 'pride': 708, 'abilities': 709, 'us': 710, 'allow': 711, 'rather': 712, 'seem': 713, 'falls': 714, 'throws': 715, 'least': 716, 'expect': 717, '5th': 718, 'edition': 719, '4': 720, 'shape': 721, 'intended': 722, 'secrets': 723, 'worshipped': 724, 'seemed': 725, 'truce': 726, 'preparing': 727, 'central': 728, 'sides': 729, 'miles': 730, 'name': 731, 'dwell': 732, 'failed': 733, 'feasts': 734, 'wine': 735, 'lady': 736, 'fought': 737, 'tirelessly': 738, 'overhead': 739, 'gathering': 740, 'certain': 741, 'leaving': 742, 'fallen': 743, 'ended': 744, 'age': 745, 'spirits': 746, 'sacrifice': 747, 'protect': 748, 'women': 749, 'forbidden': 750, 'forms': 751, 'broken': 752, 'nightmares': 753, 'threatened': 754, 'herself': 755, 'sailed': 756, 'say': 757, 'night': 758, 'suddenly': 759, 'later': 760, '500': 761, 'daily': 762, 'honored': 763, 'established': 764, 'nearly': 765, 'attempt': 766, 'maelstrom': 767, 'terrifying': 768, 'spend': 769, 'crew': 770, 'awaken': 771, 'lose': 772, 'colossus': 773, 'horizon': 774, 'serves': 775, 'existed': 776, 'binding': 777, 'together': 778, 'eternal': 779, 'giving': 780, 'druids': 781, 'poetry': 782, 'punish': 783, 'wrath': 784, 'prayers': 785, 'beautiful': 786, 'crystal': 787, 'uses': 788, 'commands': 789, 'punishment': 790, 'widely': 791, 'protecting': 792, 'settler': 793, 'eye': 794, 'primarily': 795, 'introduction': 796, 'revere': 797, 'center': 798, 'race': 799, 'watch': 800, 'forged': 801, 'dozens': 802, 'aresian': 803, 'spent': 804, 'natives': 805, 'formed': 806, 'less': 807, 'orcs': 808, 'learning': 809, 'background': 810, 'tribe': 811, 'keep': 812, 'raving': 813, 'laws': 814, 'expected': 815, 'bond': 816, 'offending': 817, 'individual': 818, 'menelaus': 819, 'assist': 820, 'call': 821, 'fulfilled': 822, 'failure': 823, 'require': 824, 'curing': 825, 'transformed': 826, 'missing': 827, 'process': 828, 'ability': 829, 'hear': 830, 'singing': 831, 'toward': 832, 'granted': 833, 'fully': 834, 'described': 835, 'get': 836, 'returning': 837, 'stolen': 838, 'manner': 839, 'try': 840, 'oathbreakers': 841, 'area': 842, 'possesses': 843, 'able': 844, 'begins': 845, 'boar': 846, 'explains': 847, 'vision': 848, 'revealed': 849, \"king's\": 850, 'mossy': 851, 'finish': 852, 'labor': 853, 'summons': 854, 'act': 855, '2': 856, 'rewards': 857, 'ghost': 858, 'eggs': 859, 'asks': 860, 'raise': 861, 'voyage': 862, 'already': 863, 'either': 864, 'gear': 865, 'godhood': 866, 'pantheon': 867, 'apokalypsis': 868, 'describes': 869, 'core': 870, 'choose': 871, 'creating': 872, 'relationships': 873, 'rumors': 874, 'notecards': 875, 'chance': 876, 'figure': 877, 'white': 878, 'escape': 879, 'face': 880, 'soul': 881, 'soft': 882, 'knowledge': 883, 'awakens': 884, 'wants': 885, 'recognizes': 886, 'hexia': 887, 'unfinished': 888, 'xander': 889, 'parents': 890, 'joke': 891, 'focus': 892, 'corrupted': 893, 'consulting': 894, 'birth': 895, 'bargain': 896, 'existence': 897, 'grandmother': 898, 'speak': 899, 'fortress': 900, 'hoard': 901, 'forgekeeper': 902, 'cerberus': 903, 'welcome': 904, 'include': 905, 'sources': 906, 'zeus': 907, 'apollo': 908, 'treasures': 909, 'halflings': 910, 'alongside': 911, 'goal': 912, 'feel': 913, 'told': 914, 'embrace': 915, 'reshape': 916, 'mean': 917, 'prophesied': 918, 'blood': 919, 'why': 920, 'included': 921, 'hercules': 922, 'fabled': 923, 'prophecies': 924, 'foretold': 925, 'abandoned': 926, 'soon': 927, 'comedy': 928, 'fellow': 929, \"isn't\": 930, 'self': 931, 'luck': 932, 'step': 933, 'medea': 934, 'clear': 935, 'odysseus': 936, 'real': 937, 'figures': 938, 'fails': 939, 'cunning': 940, 'left': 941, 'western': 942, 'archetypes': 943, 'heroism': 944, 'course': 945, 'cruel': 946, 'generous': 947, 'vengeful': 948, 'kind': 949, 'generally': 950, 'foolish': 951, 'wisest': 952, 'demand': 953, 'hands': 954, 'bound': 955, 'arms': 956, 'wars': 957, 'sound': 958, 'itself': 959, 'screaming': 960, 'reason': 961, 'fear': 962, 'consequences': 963, 'same': 964, 'context': 965, 'route': 966, 'danger': 967, 'equal': 968, 'hidden': 969, 'tragedy': 970, 'rising': 971, 'honoring': 972, 'tragic': 973, 'happier': 974, 'turn': 975, 'words': 976, 'yourself': 977, 'wilderness': 978, 'decades': 979, 'discovering': 980, 'easy': 981, 'dramatic': 982, 'adventures': 983, 'memorable': 984, 'failures': 985, 'driven': 986, 'combines': 987, 'dungeon': 988, 'continent': 989, \"world's\": 990, 'open': 991, 'milestones': 992, 'parts': 993, 'divided': 994, 'prologue': 995, 'finale': 996, 'forests': 997, 'role': 998, 'future': 999, 'contains': 1000, 'learned': 1001, 'reading': 1002, 'experienced': 1003, 'risk': 1004, 'concepts': 1005, 'detailed': 1006, 'myths': 1007, 'saved': 1008, 'appearance': 1009, 'walked': 1010, 'temporary': 1011, 'ending': 1012, 'wage': 1013, 'fulfill': 1014, 'rebuild': 1015, 'capture': 1016, 'amusement': 1017, 'descendant': 1018, 'ancestors': 1019, 'borders': 1020, 'stretches': 1021, 'direction': 1022, 'sprawling': 1023, 'glittering': 1024, 'beasts': 1025, 'plains': 1026, 'woods': 1027, 'reptilian': 1028, 'creation': 1029, 'nymphs': 1030, 'hospitality': 1031, 'devour': 1032, 'whole': 1033, 'anything': 1034, 'seen': 1035, 'venerated': 1036, 'apocalyptic': 1037, 'cataclysmic': 1038, 'poured': 1039, 'meal': 1040, 'twins': 1041, 'ravages': 1042, 'arrived': 1043, 'dozen': 1044, 'kingdoms': 1045, 'roads': 1046, 'dynasties': 1047, 'humble': 1048, 'temples': 1049, 'tall': 1050, 'settlement': 1051, 'ground': 1052, 'roving': 1053, 'repay': 1054, 'winters': 1055, 'summers': 1056, 'songs': 1057, 'radiant': 1058, 'immortal': 1059, 'vague': 1060, 'behind': 1061, 'defending': 1062, 'guardian': 1063, 'woven': 1064, 'stones': 1065, 'perhaps': 1066, 'miraculous': 1067, 'descended': 1068, 'heaven': 1069, 'claimed': 1070, 'desire': 1071, 'divinity': 1072, 'spoil': 1073, 'twist': 1074, 'nature': 1075, 'talk': 1076, 'moment': 1077, 'portion': 1078, 'belonged': 1079, 'strength': 1080, 'safe': 1081, 'warships': 1082, 'captained': 1083, 'sung': 1084, 'signs': 1085, 'winter': 1086, 'solstice': 1087, 'near': 1088, 'harbor': 1089, 'bodies': 1090, 'wizard': 1091, 'served': 1092, 'carried': 1093, 'written': 1094, 'period': 1095, 'present': 1096, 'protected': 1097, 'became': 1098, 'rule': 1099, 'grow': 1100, 'village': 1101, 'amongst': 1102, 'finally': 1103, 'group': 1104, 'region': 1105, 'hurricanes': 1106, 'whirlpools': 1107, 'rocks': 1108, 'none': 1109, 'waters': 1110, 'returned': 1111, 'brave': 1112, 'likely': 1113, 'unconscious': 1114, 'green': 1115, 'prevent': 1116, 'shoreline': 1117, 'monstrous': 1118, 'explorers': 1119, 'sight': 1120, 'brightly': 1121, 'gargantuan': 1122, 'followers': 1123, 'example': 1124, 'sign': 1125, 'depicted': 1126, 'carries': 1127, 'setting': 1128, 'maps': 1129, 'travelers': 1130, 'shipwreck': 1131, 'fears': 1132, 'continue': 1133, 'skies': 1134, 'festivals': 1135, 'demands': 1136, 'favored': 1137, 'accompanied': 1138, 'patron': 1139, 'important': 1140, 'survival': 1141, 'except': 1142, 'smiths': 1143, 'dwarf': 1144, 'heartlands': 1145, 'draw': 1146, 'lore': 1147, 'guidance': 1148, 'needed': 1149, 'oldest': 1150, 'legacy': 1151, '11': 1152, 'music': 1153, 'capable': 1154, 'mighty': 1155, 'games': 1156, 'stands': 1157, 'thought': 1158, 'palace': 1159, 'south': 1160, 'rival': 1161, 'collectively': 1162, 'reasons': 1163, 'fighting': 1164, 'thing': 1165, 'feared': 1166, 'adult': 1167, 'schools': 1168, 'philosophy': 1169, 'air': 1170, 'rituals': 1171, 'leading': 1172, 'closely': 1173, 'barbarians': 1174, 'millennia': 1175, 'shipwrecked': 1176, 'amazons': 1177, 'thyleans': 1178, 'playable': 1179, 'common': 1180, 'rural': 1181, 'mostly': 1182, 'medusae': 1183, 'below': 1184, 'secretive': 1185, 'populate': 1186, 'tieflings': 1187, 'dragonborn': 1188, 'places': 1189, 'civic': 1190, 'building': 1191, 'council': 1192, 'enforce': 1193, 'followed': 1194, 'academy': 1195, 'divination': 1196, 'etc': 1197, 'wear': 1198, 'wield': 1199, 'particular': 1200, 'wishes': 1201, 'cult': 1202, 'shadows': 1203, 'homes': 1204, 'citizens': 1205, 'empire': 1206, 'move': 1207, 'hunting': 1208, 'camps': 1209, 'raised': 1210, 'den': 1211, 'luring': 1212, 'goatlings': 1213, 'born': 1214, 'maenad': 1215, 'aspects': 1216, 'guests': 1217, 'natural': 1218, 'show': 1219, 'disputes': 1220, 'invite': 1221, 'shared': 1222, 'blessing': 1223, 'harm': 1224, 'furies': 1225, 'demons': 1226, 'devils': 1227, 'limit': 1228, 'weeks': 1229, 'helen': 1230, 'result': 1231, 'further': 1232, 'obligation': 1233, 'oathbreaker': 1234, 'fall': 1235, 'lightly': 1236, \"hero's\": 1237, 'hags': 1238, 'per': 1239, 'reversed': 1240, 'completely': 1241, 'week': 1242, 'giant': 1243, 'feet': 1244, 'incapacitated': 1245, 'effects': 1246, 'avoid': 1247, 'repeat': 1248, 'damage': 1249, 'well': 1250, 'simply': 1251, 'alignment': 1252, 'reversible': 1253, 'little': 1254, 'grave': 1255, 'score': 1256, 'exhaustion': 1257, 'willingly': 1258, 'charisma': 1259, 'intelligence': 1260, 'afflicts': 1261, 'related': 1262, 'offense': 1263, 'manifests': 1264, 'unique': 1265, 'gather': 1266, 'room': 1267, 'determine': 1268, 'hunt': 1269, 'quarry': 1270, 'captured': 1271, 'dispatched': 1272, 'rope': 1273, 'entanglement': 1274, 'plane': 1275, 'shift': 1276, 'sour': 1277, 'vintage': 1278, 'hag': 1279, 'confrontation': 1280, 'suggests': 1281, 'prove': 1282, 'needs': 1283, \"heroes'\": 1284, 'base': 1285, 'search': 1286, 'locations': 1287, 'mines': 1288, 'dungeons': 1289, 'reached': 1290, 'horn': 1291, 'balmytria': 1292, 'audience': 1293, 'choice': 1294, 'map': 1295, 'counsel': 1296, 'afterwards': 1297, 'recovered': 1298, 'device': 1299, 'swears': 1300, 'joins': 1301, 'aboard': 1302, 'sixty': 1303, 'commander': 1304, 'named': 1305, 'argyn': 1306, 'mouth': 1307, 'alternatively': 1308, 'hypnos': 1309, 'floor': 1310, 'locked': 1311, 'agree': 1312, 'defend': 1313, 'force': 1314, 'cement': 1315, 'library': 1316, 'reclaim': 1317, 'achieve': 1318, 'crossing': 1319, 'decide': 1320, 'sits': 1321, 'key': 1322, 'ascend': 1323, 'exploration': 1324, 'assumes': 1325, 'access': 1326, 'books': 1327, 'modify': 1328, 'contents': 1329, 'addition': 1330, 'backgrounds': 1331, 'flavor': 1332, 'description': 1333, 'tasks': 1334, 'integrate': 1335, 'think': 1336, 'deeper': 1337, 'appropriate': 1338, 'strangers': 1339, 'conflicts': 1340, 'majority': 1341, 'greatness': 1342, 'session': 1343, 'creates': 1344, 'write': 1345, 'top': 1346, 'gossip': 1347, 'start': 1348, 'motivate': 1349, 'perks': 1350, 'earning': 1351, 'handouts': 1352, 'ahead': 1353, 'members': 1354, 'i': 1355, 'remember': 1356, 'mistake': 1357, 'abruptly': 1358, 'tears': 1359, 'rounds': 1360, 'want': 1361, 'flashes': 1362, 'pick': 1363, 'hurricane': 1364, 'pilot': 1365, 'piloting': 1366, 'whoever': 1367, '15': 1368, 'immediately': 1369, 'purpose': 1370, 'random': 1371, \"master's\": 1372, 'corrupting': 1373, \"woman's\": 1374, \"'so\": 1375, 'sad': 1376, 'dripping': 1377, 'closer': 1378, 'breeze': 1379, 'pain': 1380, 'ignorance': 1381, 'towards': 1382, 'bones': 1383, 'obvious': 1384, 'icarus': 1385, 'surrender': 1386, 'playing': 1387, 'consumed': 1388, 'overshadow': 1389, 'accompany': 1390, 'speaking': 1391, 'secret': 1392, 'bring': 1393, 'share': 1394, 'accomplish': 1395, \"god's\": 1396, 'given': 1397, 'foe': 1398, 'prisoner': 1399, 'defeating': 1400, 'laid': 1401, 'jealousy': 1402, 'famed': 1403, 'crown': 1404, \"versi's\": 1405, 'romance': 1406, 'constellation': 1407, 'slaughtered': 1408, 'practical': 1409, 'loom': 1410, 'resurrection': 1411, 'remain': 1412, 'truth': 1413, 'erased': 1414, 'memory': 1415, 'attunes': 1416, 'whispers': 1417, \"family's\": 1418, 'amazon': 1419, 'destroying': 1420, 'murdered': 1421, 'gold': 1422, 'body': 1423, 'guards': 1424, 'talieus': 1425, 'originates': 1426, 'going': 1427, 'diving': 1428, 'gem': 1429, 'brightness': 1430, 'volcanic': 1431, 'hades': 1432, 'booklet': 1433, 'inspired': 1434, 'ideas': 1435, 'iliad': 1436, 'oresteia': 1437, 'greece': 1438, 'athena': 1439, 'tropes': 1440, 'blends': 1441, 'high': 1442, 'trappings': 1443, 'ultimate': 1444, 'choices': 1445, 'gamemaster': 1446, 'idea': 1447, 'amazonian': 1448, 'trees': 1449, 'wields': 1450, 'curved': 1451, 'kopis': 1452, 'sword': 1453, 'tending': 1454, 'automaton': 1455, 'stimfay': 1456, 'bird': 1457, 'lords': 1458, 'drove': 1459, 'foreseen': 1460, 'vain': 1461, 'preface': 1462, '000': 1463, 'gathered': 1464, 'undertake': 1465, 'hermes': 1466, 'poseidon': 1467, 'led': 1468, 'orpheus': 1469, 'talented': 1470, 'musician': 1471, 'peleus': 1472, 'joined': 1473, 'twelve': 1474, 'liken': 1475, 'argonautika': 1476, 'roleplayers': 1477, 'illustrious': 1478, 'qualifications': 1479, 'success': 1480, 'ill': 1481, 'equipped': 1482, 'awaited': 1483, 'unfolds': 1484, 'errors': 1485, 'me': 1486, 'sounds': 1487, 'iolcos': 1488, 'bears': 1489, 'uncanny': 1490, 'resemblance': 1491, 'average': 1492, 'tabletop': 1493, 'roleplayer': 1494, 'accidentally': 1495, 'slaughtering': 1496, 'wallowing': 1497, 'pity': 1498, 'bemoaning': 1499, 'bad': 1500, 'frightened': 1501, 'usurped': 1502, 'leadership': 1503, 'fleece': 1504, 'secured': 1505, 'counted': 1506, 'super': 1507, 'powered': 1508, 'sacrificing': 1509, 'paragons': 1510, \"we've\": 1511, 'idolize': 1512, 'hollywood': 1513, 'films': 1514, 'line': 1515, 'good': 1516, 'thwart': 1517, 'alien': 1518, 'invasions': 1519, 'repel': 1520, 'frequently': 1521, 'puzzling': 1522, 'infuriating': 1523, 'punctuates': 1524, 'harrowing': 1525, 'murdering': 1526, 'courted': 1527, 'abandons': 1528, 'finished': 1529, 'flaws': 1530, 'shake': 1531, 'feeling': 1532, 'historical': 1533, 'situations': 1534, 'survive': 1535, 'spectacular': 1536, 'brood': 1537, 'fickle': 1538, 'whims': 1539, 'parentage': 1540, 'enduring': 1541, 'imagination': 1542, 'importantly': 1543, 'perfect': 1544, 'casts': 1545, 'roles': 1546, 'subjects': 1547, 'dire': 1548, 'pits': 1549, 'dealings': 1550, 'nice': 1551, 'capricious': 1552, 'vicious': 1553, 'forgetful': 1554, 'thoughtless': 1555, 'lusty': 1556, 'selfish': 1557, 'passionate': 1558, 'spheres': 1559, 'awesome': 1560, 'disrespects': 1561, 'acknowledge': 1562, 'aspect': 1563, 'contend': 1564, 'shattering': 1565, 'rulers': 1566, 'vagaries': 1567, 'depend': 1568, 'inviolable': 1569, 'vows': 1570, 'serious': 1571, 'circumstances': 1572, 'reaching': 1573, 'society': 1574, 'promote': 1575, 'unbreakable': 1576, 'fellowships': 1577, 'instigate': 1578, 'bloody': 1579, 'dare': 1580, 'lest': 1581, 'dust': 1582, 'mouths': 1583, 'harpies': 1584, 'peck': 1585, 'dragged': 1586, 'bravest': 1587, 'literally': 1588, 'incapable': 1589, 'binds': 1590, 'enforces': 1591, 'increase': 1592, 'vanity': 1593, 'essential': 1594, 'achieving': 1595, 'summon': 1596, 'opinions': 1597, 'masses': 1598, 'audiences': 1599, 'shorten': 1600, 'immortality': 1601, 'increasing': 1602, 'excessive': 1603, 'leads': 1604, 'downfall': 1605, 'overestimate': 1606, 'underestimate': 1607, 'measure': 1608, 'directs': 1609, 'mysteries': 1610, 'defy': 1611, 'walking': 1612, 'dismiss': 1613, 'spurn': 1614, 'categories': 1615, 'win': 1616, 'endings': 1617, 'losing': 1618, 'betraying': 1619, 'overthrowing': 1620, 'rightful': 1621, 'petty': 1622, 'grievances': 1623, 'pawn': 1624, 'victories': 1625, 'classic': 1626, 'crawling': 1627, 'sweep': 1628, '6': 1629, '1st': 1630, '15th': 1631, 'higher': 1632, 'structured': 1633, 'available': 1634, 'acts': 1635, 'prevail': 1636, 'charged': 1637, 'fulfilling': 1638, 'decisions': 1639, 'spoilers': 1640, \"player's\": 1641, 'ruin': 1642, 'surprises': 1643, 'proceed': 1644, 'overview': 1645, 'covers': 1646, 'ages': 1647, 'defenseless': 1648, 'sudden': 1649, 'prevented': 1650, 'warfare': 1651, 'wanes': 1652, 'dominate': 1653, 'mistress': 1654, 'corrupt': 1655, 'cowardly': 1656, 'manipulator': 1657, 'undermine': 1658, 'wrap': 1659, 'quick': 1660, 'breakdown': 1661, 'splendor': 1662, 'untouched': 1663, 'unspoiled': 1664, \"'the\": 1665, 'landmass': 1666, 'tapers': 1667, 'peninsulas': 1668, 'surrounded': 1669, 'thousand': 1670, 'lagoons': 1671, 'statues': 1672, 'dot': 1673, 'landscape': 1674, 'wander': 1675, 'savages': 1676, 'archipelago': 1677, 'endless': 1678, 'founding': 1679, 'untamed': 1680, 'washed': 1681, 'ceased': 1682, 'forsaken': 1683, 'beggars': 1684, 'curious': 1685, 'refugees': 1686, 'quarter': 1687, 'brutal': 1688, \"'trespassers'\": 1689, 'foreign': 1690, 'era': 1691, 'wielded': 1692, 'conjure': 1693, 'right': 1694, 'earthquakes': 1695, 'fearing': 1696, 'eradication': 1697, 'desperate': 1698, 'built': 1699, 'dedicated': 1700, 'libations': 1701, 'unswayed': 1702, 'warmed': 1703, 'persistent': 1704, 'hapless': 1705, 'exchange': 1706, 'devotion': 1707, 'shielded': 1708, 'worst': 1709, 'mercy': 1710, 'remained': 1711, 'fateful': 1712, 'flight': 1713, 'bearing': 1714, 'champion': 1715, 'heralded': 1716, 'upheaval': 1717, 'sprang': 1718, 'terror': 1719, 'stood': 1720, 'symbols': 1721, 'hope': 1722, 'beleaguered': 1723, 'razed': 1724, 'attackers': 1725, 'harsh': 1726, 'blistering': 1727, 'relentless': 1728, 'assaults': 1729, 'persevered': 1730, 'everywhere': 1731, 'greeted': 1732, 'shouts': 1733, 'adulation': 1734, 'spotted': 1735, 'flying': 1736, 'hailed': 1737, 'saviors': 1738, 'behold': 1739, 'scales': 1740, 'gleaming': 1741, 'nowhere': 1742, 'amassed': 1743, 'eradicate': 1744, 'responded': 1745, 'united': 1746, 'assault': 1747, 'began': 1748, 'histories': 1749, 'decaying': 1750, 'scrolls': 1751, 'tapestries': 1752, 'exile': 1753, 'retreated': 1754, 'fled': 1755, 'annihilated': 1756, 'crumbling': 1757, 'cost': 1758, 'victory': 1759, 'remembered': 1760, 'noble': 1761, 'equally': 1762, 'glow': 1763, 'sunset': 1764, 'tide': 1765, 'turned': 1766, 'manifestations': 1767, 'immigrant': 1768, 'alight': 1769, 'manifested': 1770, 'command': 1771, 'gruesome': 1772, 'battles': 1773, 'spear': 1774, 'thrust': 1775, 'torpor': 1776, 'apparently': 1777, 'mountains': 1778, 'shook': 1779, 'boiled': 1780, 'rage': 1781, 'spine': 1782, 'chilling': 1783, 'retaliation': 1784, 'sunder': 1785, 'foundations': 1786, 'beloved': 1787, 'mounts': 1788, 'commissioned': 1789, 'depths': 1790, 'sleeps': 1791, 'diamond': 1792, 'phraxys': 1793, 'trials': 1794, 'troubles': 1795, 'actually': 1796, 'transpired': 1797, 'perils': 1798, 'watched': 1799, 'impending': 1800, 'apocalypse': 1801, 'boiling': 1802, 'calmed': 1803, 'carrying': 1804, 'mortally': 1805, 'wounded': 1806, 'uttered': 1807, 'word': 1808, 'delivered': 1809, 'precious': 1810, 'scroll': 1811, 'parchment': 1812, 'provided': 1813, 'resume': 1814, 'maintained': 1815, 'prevailed': 1816, 'flourished': 1817, 'metropolis': 1818, 'colossi': 1819, 'beacons': 1820, 'frontier': 1821, 'remaining': 1822, 'spread': 1823, 'did': 1824, 'boasted': 1825, 'eternity': 1826, 'grows': 1827, 'imminent': 1828, 'total': 1829, 'annihilation': 1830, 'avert': 1831, 'catastrophe': 1832, 'farthest': 1833, 'discover': 1834, 'jagged': 1835, 'drunken': 1836, 'boast': 1837, 'defying': 1838, 'encounters': 1839, 'battling': 1840, 'skirting': 1841, 'navigating': 1842, 'shoals': 1843, 'passage': 1844, 'intense': 1845, 'rendered': 1846, 'lucky': 1847, 'calmer': 1848, 'cloudless': 1849, 'boasts': 1850, 'currents': 1851, 'approaching': 1852, 'smashed': 1853, 'rocky': 1854, 'watchful': 1855, 'glimpse': 1856, 'impossibly': 1857, 'fine': 1858, 'clothing': 1859, 'stone': 1860, 'carvings': 1861, 'intrepid': 1862, 'catch': 1863, 'towering': 1864, 'shining': 1865, 'beacon': 1866, 'namesake': 1867, 'roots': 1868, 'communicated': 1869, 'changing': 1870, 'seasons': 1871, 'signal': 1872, 'displeasure': 1873, 'approval': 1874, 'handed': 1875, 'references': 1876, 'credible': 1877, 'heads': 1878, 'flows': 1879, 'bearded': 1880, 'glaive': 1881, 'surveys': 1882, 'summoning': 1883, 'displease': 1884, 'allowances': 1885, 'exists': 1886, 'boundaries': 1887, 'location': 1888, 'unknown': 1889, 'worlds': 1890, 'silent': 1891, 'rolls': 1892, 'provoked': 1893, 'eyed': 1894, 'woman': 1895, 'sleepwalks': 1896, 'greeting': 1897, 'harvest': 1898, 'displeased': 1899, 'remorse': 1900, 'dance': 1901, 'feast': 1902, \"heart's\": 1903, 'strongly': 1904, 'favors': 1905, 'nevertheless': 1906, 'libation': 1907, 'swift': 1908, 'follow': 1909, 'celebrated': 1910, \"settlers'\": 1911, 'exception': 1912, 'dwelling': 1913, 'deities': 1914, 'husbands': 1915, 'wives': 1916, 'sire': 1917, 'helped': 1918, 'tyrannical': 1919, 'domination': 1920, 'household': 1921, 'ward': 1922, 'gaze': 1923, \"'silver\": 1924, \"queen'\": 1925, 'benevolent': 1926, 'credited': 1927, 'aftermath': 1928, 'clad': 1929, 'shimmering': 1930, 'longer': 1931, 'walks': 1932, 'source': 1933, 'priestly': 1934, 'forges': 1935, 'concerns': 1936, 'artifice': 1937, 'crafting': 1938, 'wizards': 1939, 'elderly': 1940, 'wise': 1941, 'looking': 1942, 'rumored': 1943, 'distributing': 1944, 'toys': 1945, 'sweets': 1946, 'died': 1947, 'son': 1948, 'appeared': 1949, 'overwhelm': 1950, 'praises': 1951, 'taking': 1952, 'bed': 1953, 'fathering': 1954, 'overthrew': 1955, 'mad': 1956, 'tyrant': 1957, 'wide': 1958, 'surveying': 1959, 'collecting': 1960, 'concerning': 1961, 'origins': 1962, 'scarce': 1963, 'inherited': 1964, \"mother's\": 1965, 'serving': 1966, 'trickster': 1967, 'swiftest': 1968, 'disappearing': 1969, 'blink': 1970, 'distances': 1971, 'musical': 1972, 'instrument': 1973, 'bards': 1974, 'muse': 1975, 'largest': 1976, 'commerce': 1977, 'religion': 1978, 'politics': 1979, 'outside': 1980, 'year': 1981, 'recent': 1982, 'growing': 1983, 'popularity': 1984, 'grand': 1985, 'street': 1986, 'feat': 1987, 'resurrected': 1988, 'extinct': 1989, 'former': 1990, 'stronghold': 1991, 'resisted': 1992, 'manticores': 1993, 'dangers': 1994, 'thrive': 1995, 'arkelon': 1996, 'river': 1997, 'mightiest': 1998, 'vantage': 1999, 'survey': 2000, 'farmlands': 2001, 'vigilantly': 2002, 'threats': 2003, 'emerge': 2004, 'north': 2005, 'estorians': 2006, 'considered': 2007, 'provincials': 2008, 'engaged': 2009, 'campaigns': 2010, 'vary': 2011, 'monks': 2012, 'eastern': 2013, 'shore': 2014, 'fighters': 2015, 'training': 2016, 'spears': 2017, 'steps': 2018, 'serve': 2019, 'militia': 2020, 'aresians': 2021, 'pursuit': 2022, \"'degrees'\": 2023, 'martial': 2024, 'refined': 2025, 'cultivate': 2026, 'rugged': 2027, 'austerity': 2028, 'sense': 2029, 'disguises': 2030, 'readings': 2031, 'decadent': 2032, 'feasting': 2033, 'caste': 2034, 'lifestyles': 2035, 'resemble': 2036, 'pressed': 2037, 'coming': 2038, 'outsiders': 2039, 'occasionally': 2040, 'wash': 2041, 'merchants': 2042, 'blown': 2043, 'nationalities': 2044, 'harmony': 2045, 'newcomers': 2046, 'looked': 2047, 'distrust': 2048, 'civilized': 2049, 'barbarian': 2050, 'whom': 2051, 'referred': 2052, 'lifespans': 2053, 'origin': 2054, 'physical': 2055, 'descriptions': 2056, 'sirens': 2057, 'areas': 2058, 'somewhat': 2059, 'cyclops': 2060, 'exterminated': 2061, 'nymph': 2062, 'hot': 2063, 'springs': 2064, 'soothsaying': 2065, 'heeded': 2066, 'alike': 2067, 'despite': 2068, 'heritage': 2069, 'fondness': 2070, 'attended': 2071, 'faithful': 2072, 'treated': 2073, 'poorly': 2074, 'plentiful': 2075, 'wrecked': 2076, 'gnomes': 2077, 'fair': 2078, 'numbers': 2079, 'stigmatized': 2080, \"'stygians\": 2081, 'assumed': 2082, 'exceedingly': 2083, 'exist': 2084, 'remote': 2085, 'shocked': 2086, 'factions': 2087, 'buildings': 2088, 'constructed': 2089, 'elected': 2090, 'representatives': 2091, 'districts': 2092, 'outlying': 2093, 'villages': 2094, 'moon': 2095, 'pattern': 2096, 'increasingly': 2097, 'dictated': 2098, 'appease': 2099, 'becoming': 2100, 'precarious': 2101, 'conscripts': 2102, 'regular': 2103, 'law': 2104, 'dates': 2105, 'religious': 2106, 'soldier': 2107, 'prays': 2108, 'openly': 2109, 'ranking': 2110, 'centurion': 2111, 'arbiter': 2112, 'justice': 2113, 'founders': 2114, \"wasn't\": 2115, 'institution': 2116, 'intellectual': 2117, 'pursuits': 2118, 'consists': 2119, 'colleges': 2120, 'devoted': 2121, 'evocation': 2122, 'safeguarding': 2123, 'interests': 2124, 'theater': 2125, 'arts': 2126, 'encouraged': 2127, 'druid': 2128, 'grove': 2129, 'ringed': 2130, 'monolithic': 2131, 'whiteclad': 2132, 'laurels': 2133, 'oaken': 2134, 'staves': 2135, 'settled': 2136, 'ritual': 2137, 'hoping': 2138, 'atone': 2139, 'sins': 2140, 'zealots': 2141, 'strikes': 2142, 'communicate': 2143, 'filled': 2144, 'armored': 2145, 'paladins': 2146, 'cloaks': 2147, 'clasps': 2148, 'believers': 2149, 'snake': 2150, \"thieves'\": 2151, 'guild': 2152, 'operates': 2153, 'headquartered': 2154, 'aqueducts': 2155, 'cultists': 2156, 'wealthy': 2157, 'stealing': 2158, 'value': 2159, 'families': 2160, 'petrified': 2161, 'leader': 2162, 'calls': 2163, 'coins': 2164, 'six': 2165, 'armed': 2166, 'giants': 2167, 'countless': 2168, 'surviving': 2169, 'hated': 2170, 'nomadic': 2171, 'warring': 2172, 'hills': 2173, 'thunderous': 2174, 'stampedes': 2175, 'foraging': 2176, 'raiding': 2177, 'peoples': 2178, 'hold': 2179, 'strict': 2180, 'code': 2181, 'slain': 2182, 'adopted': 2183, 'conquering': 2184, 'steppe': 2185, 'rivers': 2186, 'honeymeade': 2187, 'stars': 2188, 'sing': 2189, 'tales': 2190, 'edges': 2191, 'west': 2192, 'atrokos': 2193, 'system': 2194, 'caves': 2195, 'maidens': 2196, 'distress': 2197, 'torn': 2198, 'apart': 2199, 'devoured': 2200, 'revelry': 2201, 'mothers': 2202, 'union': 2203, 'satyr': 2204, 'typical': 2205, 'shown': 2206, 'fiercest': 2207, 'disobeyed': 2208, 'resulting': 2209, 'enforced': 2210, 'fabric': 2211, 'dreadful': 2212, 'concept': 2213, 'import': 2214, 'hosts': 2215, 'generosity': 2216, 'courtesy': 2217, 'divide': 2218, 'parties': 2219, 'seal': 2220, 'departed': 2221, \"host's\": 2222, 'brings': 2223, 'arbiters': 2224, 'willing': 2225, 'rarer': 2226, 'swearing': 2227, 'commit': 2228, 'violence': 2229, 'months': 2230, 'achaean': 2231, 'trojan': 2232, 'threat': 2233, 'neutralized': 2234, 'allowing': 2235, 'giver': 2236, 'branded': 2237, 'specified': 2238, 'type': 2239, 'assassination': 2240, 'hesistant': 2241, 'viewing': 2242, 'resort': 2243, 'refusal': 2244, 'brands': 2245, 'deals': 2246, 'publicly': 2247, 'clearly': 2248, 'mark': 2249, 'untrustworthy': 2250, 'quality': 2251, 'invoked': 2252, 'unfulfilled': 2253, 'slightly': 2254, 'sings': 2255, 'melody': 2256, 'humanoid': 2257, '300': 2258, 'bonus': 2259, 'subsequent': 2260, 'ignores': 2261, 'charm': 2262, '5': 2263, \"doesn't\": 2264, 'moving': 2265, 'damaging': 2266, 'terrain': 2267, 'lava': 2268, \"creature's\": 2269, 'targets': 2270, 'successfully': 2271, 'immune': 2272, '24': 2273, 'fashion': 2274, 'bargains': 2275, 'asking': 2276, 'instead': 2277, 'stopped': 2278, 'intervention': 2279, 'chaotic': 2280, 'transforms': 2281, 'lawful': 2282, 'controlled': 2283, 'spells': 2284, 'missed': 2285, 'restart': 2286, 'entry': 2287, 'eat': 2288, 'number': 2289, 'constitution': 2290, 'gain': 2291, 'starvation': 2292, 'rid': 2293, 'stole': 2294, 'correct': 2295, 'midnight': 2296, 'affected': 2297, 'remove': 2298, 'removed': 2299, 'finding': 2300, 'truthful': 2301, \"item's\": 2302, 'provenance': 2303, 'persuasion': 2304, '10': 2305, 'abuse': 2306, 'violate': 2307, 'tenets': 2308, 'offended': 2309, 'especially': 2310, 'pious': 2311, 'beggar': 2312, 'injustice': 2313, 'dispatching': 2314, 'severity': 2315, 'agreed': 2316, 'necessary': 2317, 'response': 2318, 'dispatch': 2319, 'n': 2320, 'miserable': 2321, 'track': 2322, 'prey': 2323, 'd100': 2324, 'allows': 2325, 'restrained': 2326, 'requirements': 2327, 'satisfied': 2328, '16': 2329, 'failing': 2330, 'causes': 2331, 'banished': 2332, 'inn': 2333, 'disguised': 2334, 'traveling': 2335, 'poet': 2336, \"'doom\": 2337, 'confirm': 2338, 'ravage': 2339, 'countryside': 2340, 'dealing': 2341, 'rescuing': 2342, \"'great\": 2343, \"labors'\": 2344, 'helpful': 2345, 'assistance': 2346, 'absent': 2347, 'minded': 2348, 'claims': 2349, 'clues': 2350, 'visit': 2351, 'triggers': 2352, 'accomplished': 2353, 'detachment': 2354, 'soldiers': 2355, 'mounted': 2356, 'answering': 2357, 'arrive': 2358, 'assailed': 2359, 'quell': 2360, 'faced': 2361, 'difficult': 2362, 'thanks': 2363, 'trireme': 2364, 'warns': 2365, 'ambitions': 2366, 'exploring': 2367, 'dragonlord': 2368, 'navigational': 2369, 'crashes': 2370, 'tow': 2371, 'haste': 2372, 'secretly': 2373, 'gave': 2374, 'worthy': 2375, 'knights': 2376, 'recurring': 2377, 'problem': 2378, 'rides': 2379, 'braved': 2380, 'charybdis': 2381, 'wisely': 2382, 'barge': 2383, 'locate': 2384, 'vessel': 2385, 'board': 2386, 'weaknesses': 2387, 'dwelled': 2388, 'consolidating': 2389, 'scale': 2390, 'reckon': 2391, \"titan's\": 2392, 'empyrean': 2393, 'plans': 2394, 'motion': 2395, 'revert': 2396, 'imbued': 2397, 'carry': 2398, 'belongs': 2399, 'arrogance': 2400, 'depending': 2401, 'alive': 2402, 'assail': 2403, 'subjugate': 2404, 'victorious': 2405, 'messenger': 2406, 'captivity': 2407, 'siege': 2408, 'deal': 2409, 'defended': 2410, 'variety': 2411, 'options': 2412, 'possibility': 2413, 'sneaking': 2414, 'gates': 2415, 'peninsula': 2416, 'sunken': 2417, 'ravaged': 2418, 'descend': 2419, \"'fences'\": 2420, 'curb': 2421, 'acquired': 2422, 'regions': 2423, 'shepherd': 2424, 'milestone': 2425, 'freedom': 2426, 'finales': 2427, 'twists': 2428, 'bear': 2429, 'fruit': 2430, 'ordained': 2431, 'avoided': 2432, 'unfold': 2433, 'depends': 2434, 'advice': 2435, \"players'\": 2436, 'manage': 2437, 'advancement': 2438, 'provides': 2439, 'tips': 2440, 'adjustments': 2441, 'referenced': 2442, 'abbreviations': 2443, 'text': 2444, 'box': 2445, 'aloud': 2446, 'afraid': 2447, 'narration': 2448, 'boxes': 2449, 'suit': 2450, 'recommend': 2451, 'familiarize': 2452, 'appendices': 2453, 'optional': 2454, 'feels': 2455, 'larger': 2456, 'perseus': 2457, 'skills': 2458, 'tool': 2459, 'proficiencies': 2460, 'languages': 2461, 'starting': 2462, 'equipment': 2463, 'enhanced': 2464, 'replaced': 2465, \"path's\": 2466, 'personal': 2467, 'supplementary': 2468, 'overall': 2469, 'accomplishes': 2470, 'completion': 2471, 'listed': 2472, 'distant': 2473, 'crafted': 2474, 'connections': 2475, 'tie': 2476, 'meaningful': 2477, 'strong': 2478, 'ties': 2479, 'go': 2480, 'diminish': 2481, 'agency': 2482, 'pursue': 2483, 'hooks': 2484, 'deems': 2485, 'agreement': 2486, 'care': 2487, 'modifying': 2488, 'balanced': 2489, 'relate': 2490, 'alter': 2491, \"adventure's\": 2492, 'structure': 2493, 'introduce': 2494, 'sheltered': 2495, 'kindness': 2496, 'option': 2497, 'follows': 2498, 'imagined': 2499, 'spreading': 2500, 'consider': 2501, 'assignment': 2502, 'exercise': 2503, 'fun': 2504, 'kick': 2505, 'helps': 2506, 'better': 2507, 'acquainted': 2508, \"character's\": 2509, 'separate': 2510, 'notecard': 2511, 'rumor': 2512, 'circulates': 2513, 'taverns': 2514, 'ribald': 2515, 'jokes': 2516, 'past': 2517, 'spirited': 2518, 'exaggerations': 2519, 'outright': 2520, 'fabrications': 2521, 'awarding': 2522, 'completes': 2523, 'objectives': 2524, 'earn': 2525, 'prestige': 2526, 'copy': 2527, 'primer': 2528, 'handy': 2529, 'reference': 2530, 'sheet': 2531, 'add': 2532, 'yet': 2533, 'bands': 2534, 'facing': 2535, 'arranged': 2536, 'cooperation': 2537, 'newfound': 2538, 'fellowship': 2539, 'juicy': 2540, 'series': 2541, 'confrontations': 2542, 'legions': 2543, 'worshippers': 2544, 'fanatical': 2545, 'zealot': 2546, 'minions': 2547, 'quiet': 2548, 'head': 2549, 'tracks': 2550, 'riding': 2551, 'prepared': 2552, 'spot': 2553, 'flash': 2554, 'resolves': 2555, 'magnificent': 2556, 'blue': 2557, 'cloaked': 2558, 'astride': 2559, 'circles': 2560, 'speaks': 2561, \"'give\": 2562, 'prostrate': 2563, 'yourselves': 2564, 'changes': 2565, 'inhuman': 2566, \"'you\": 2567, 'meddle': 2568, 'comprehension': 2569, 'vanishes': 2570, 'shakes': 2571, 'thunders': 2572, 'bloodthirsty': 2573, 'charging': 2574, 'alternative': 2575, 'sunk': 2576, 'calm': 2577, 'ox': 2578, 'intelligent': 2579, 'weather': 2580, 'neutralize': 2581, 'conjured': 2582, 'elemental': 2583, 'retreat': 2584, 'occurs': 2585, 'pact': 2586, 'choosing': 2587, 'hasten': 2588, 'climax': 2589, 'batter': 2590, 'booming': 2591, \"'heed\": 2592, 'my': 2593, 'warning': 2594, 'fail': 2595, 'perish': 2596, 'shatter': 2597, 'drown': 2598, 'names': 2599, 'challenge': 2600, 'stand': 2601, 'winds': 2602, 'waves': 2603, 'choppy': 2604, 'sails': 2605, 'passing': 2606, 'east': 2607, 'normal': 2608, 'oars': 2609, 'size': 2610, 'trunks': 2611, 'crewed': 2612, 'headed': 2613, 'wind': 2614, 'howling': 2615, 'gale': 2616, 'darkens': 2617, 'worsens': 2618, 'crescendo': 2619, 'making': 2620, 'checks': 2621, 'righted': 2622, 'athletics': 2623, 'swept': 2624, 'overboard': 2625, 'helping': 2626, 'invasion': 2627, 'wipe': 2628, 'evident': 2629, 'automatons': 2630, 'cease': 2631, 'working': 2632, 'ascending': 2633, 'affects': 2634, 'normally': 2635, 'sleep': 2636, 'nearby': 2637, 'advantage': 2638, 'vulnerability': 2639, 'sending': 2640, 'focused': 2641, 'subverting': 2642, 'dreaming': 2643, 'leave': 2644, 'emanates': 2645, 'darkness': 2646, 'around': 2647, \"'quest'\": 2648, 'proud': 2649, 'light': 2650, 'shines': 2651, 'illuminating': 2652, 'pathetic': 2653, 'hogtied': 2654, 'stake': 2655, \"'look\": 2656, 'falling': 2657, 'pieces': 2658, 'joints': 2659, 'stiff': 2660, 'skin': 2661, 'slack': 2662, 'teeth': 2663, 'gone': 2664, 'practically': 2665, 'inky': 2666, 'flinches': 2667, 'squirms': 2668, 'panicking': 2669, 'draws': 2670, \"'yes\": 2671, 'leaking': 2672, 'wonder': 2673, 'thrashes': 2674, 'restraints': 2675, 'gag': 2676, \"butcher's\": 2677, 'knife': 2678, 'descends': 2679, 'bathed': 2680, 'sweat': 2681, 'second': 2682, \"'poor\": 2683, 'concerned': 2684, 'worry': 2685, 'standing': 2686, 'gazes': 2687, 'valley': 2688, 'covered': 2689, 'wild': 2690, 'flowers': 2691, 'blowing': 2692, 'birds': 2693, \"'knowledge\": 2694, 'burdens': 2695, 'puts': 2696, 'ease': 2697, 'happy': 2698, 'twisted': 2699, 'despair': 2700, 'red': 2701, 'streak': 2702, 'ears': 2703, 'stitched': 2704, 'shut': 2705, '1d10': 2706, 'determines': 2707, 'awakened': 2708, 'early': 2709, 'shaking': 2710, 'inflicting': 2711, 'cured': 2712, 'corruption': 2713, 'sailing': 2714, \"'why\": 2715, 'vast': 2716, 'emptiness': 2717, 'cling': 2718, 'wreckage': 2719, 'drifting': 2720, 'relief': 2721, 'palpable': 2722, 'splash': 2723, 'shallows': 2724, 'collapse': 2725, 'sand': 2726, \"'these\": 2727, 'simple': 2728, 'fresh': 2729, 'sets': 2730, 'camp': 2731, 'tantalizing': 2732, 'smell': 2733, 'roasting': 2734, 'pork': 2735, 'drifts': 2736, \"'perhaps\": 2737, \"you'd\": 2738, 'hungry': 2739, 'greedily': 2740, 'chew': 2741, 'meat': 2742, 'gnaw': 2743, 'juice': 2744, 'gristle': 2745, 'chins': 2746, 'notice': 2747, 'discarded': 2748, 'look': 2749, 'pig': 2750, 'hopes': 2751, 'ghostly': 2752, 'angry': 2753, 'vehemently': 2754, 'deny': 2755, 'accusations': 2756, 'enemy': 2757, 'tries': 2758, 'unleashing': 2759, 'disastrous': 2760, 'results': 2761, 'colosseum': 2762, 'rod': 2763, 'rulership': 2764, 'activate': 2765, 'wakes': 2766, 'bloodlust': 2767, 'minute': 2768, 'reduce': 2769, 'state': 2770, 'holds': 2771, 'barred': 2772, 'guilt': 2773, 'feelings': 2774, 'descending': 2775, 'whatever': 2776, 'happens': 2777, 'settings': 2778, 'involved': 2779, 'allowed': 2780, 'record': 2781, 'drunkenness': 2782, 'renders': 2783, 'useless': 2784, 'journeys': 2785, 'dramatis': 2786, 'personae': 2787, 'advise': 2788, 'worries': 2789, 'pacts': 2790, 'sharing': 2791, 'motivations': 2792, 'moments': 2793, 'spotlight': 2794, 'siblings': 2795, 'effectively': 2796, 'partners': 2797, 'differentiate': 2798, 'tailoring': 2799, 'classes': 2800, 'obsessing': 2801, 'redemption': 2802, 'expects': 2803, 'encourages': 2804, 'laments': 2805, 'somewhere': 2806, 'learns': 2807, 'explain': 2808, 'anora': 2809, \"demigod's\": 2810, 'using': 2811, 'relight': 2812, 'components': 2813, 'forging': 2814, 'fires': 2815, 'relit': 2816, 'materials': 2817, 'keledone': 2818, 'deliver': 2819, 'discovers': 2820, \"hexia's\": 2821, 'lair': 2822, 'swoop': 2823, 'spark': 2824, 'suffers': 2825, 'permanent': 2826, 'ensure': 2827, 'bounds': 2828, 'disaster': 2829, 'tomb': 2830, 'unless': 2831, 'shows': 2832, 'romantic': 2833, 'interest': 2834, 'consummates': 2835, 'intimate': 2836, 'keeps': 2837, 'appears': 2838, 'scattered': 2839, 'corresponds': 2840, 'brass': 2841, 'v15': 2842, 'hezzebal': 2843, 'guarding': 2844, 'mirror': 2845, 'blames': 2846, 'imprisonment': 2847, 'kiss': 2848, 'restores': 2849, 'demanded': 2850, 'annual': 2851, 'festival': 2852, 'refused': 2853, 'consequently': 2854, 'directed': 2855, 'torment': 2856, 'endlessly': 2857, 'jackalwere': 2858, 'lamia': 2859, 'hostile': 2860, 'singling': 2861, 'workings': 2862, 'pg': 2863, '140': 2864, 'satisfy': 2865, 'cruelty': 2866, \"fates'\": 2867, 'actions': 2868, 'round': 2869, 'uncontrollable': 2870, 'laughter': 2871, 'fondly': 2872, 'recalls': 2873, 'pointless': 2874, 'suffering': 2875, 'inflicted': 2876, 'twice': 2877, 'dying': 2878, 'third': 2879, 'restriction': 2880, \"'break\": 2881, 'hunted': 2882, 'intervened': 2883, 'strike': 2884, 'blow': 2885, 'forgot': 2886, 'saw': 2887, 'trace': 2888, 'trapped': 2889, 'goatling': 2890, 'attuning': 2891, 'voices': 2892, 'spouse': 2893, 'loudest': 2894, 'indeed': 2895, 'louder': 2896, 'relative': 2897, 'backstory': 2898, 'fact': 2899, 'vaguely': 2900, 'recall': 2901, 'realize': 2902, \"she's\": 2903, 'efforts': 2904, 'releases': 2905, 'pass': 2906, 'afterlife': 2907, 'remembrance': 2908, 'returns': 2909, 'attuned': 2910, 'grandchild': 2911, 'love': 2912, 'convinced': 2913, 'brother': 2914, 'knowing': 2915, 'conflicted': 2916, 'ancestry': 2917, 'explaining': 2918, 'whispering': 2919, 'receiving': 2920, 'spirit': 2921, 'whisper': 2922, 'resurrect': 2923, 'exact': 2924, '25': 2925, 'instant': 2926, 'draconic': 2927, 'architectural': 2928, 'motifs': 2929, 'nephele': 2930, 'breaks': 2931, 'enter': 2932, 'gains': 2933, 'ally': 2934, 'arrogant': 2935, 'mercurial': 2936, 'disappointed': 2937, 'progeny': 2938, 'weak': 2939, 'disintegrate': 2940, 'companions': 2941, 'outer': 2942, 'survivor': 2943, 'explorer': 2944, 'fortune': 2945, 'works': 2946, 'decides': 2947, 'added': 2948, 'rescued': 2949, 'captain': 2950, \"estor's\": 2951, 'gained': 2952, 'buried': 2953, 'meant': 2954, 'contain': 2955, 'modified': 2956, 'skilled': 2957, 'smith': 2958, 'rework': 2959, 'steros': 2960, 'bront': 2961, 'garzoon': 2962, \"dragonlords'\": 2963, \"'mirror'\": 2964, 'imprison': 2965, 'kraken': 2966, 'xiphos': 2967, 'slaughter': 2968, 'bringing': 2969, 'health': 2970, 'play': 2971, 'possessed': 2972, 'extricate': 2973, 'situation': 2974, 'responsible': 2975, 'childhood': 2976, 'bane': 2977, 'obtain': 2978, 'supposedly': 2979, 'chariot': 2980, 'revenge': 2981, 'chondrus': 2982, 'arrives': 2983, 'attention': 2984, 'dinner': 2985, 'waiting': 2986, 'town': 2987, 'rained': 2988, 'attempts': 2989, 'arena': 2990, 'ridicule': 2991, 'prioritize': 2992, 'attacking': 2993, 'morta': 2994, 'vortex': 2995, 'lich': 2996, 'knew': 2997, 'devised': 2998, 'scorpion': 2999, 'heirloom': 3000, 'fiery': 3001, 'riddles': 3002, 'leap': 3003, 'ash': 3004, 'unharmed': 3005, 'ne': 3006, 'commoner': 3007, 'guarded': 3008, 'hound': 3009, 'fault': 3010, 'disrespected': 3011, 'kills': 3012, 'devours': 3013, 'corpse': 3014, 'lifted': 3015, 'released': 3016, 'recharged': 3017, 'solution': 3018, 'explained': 3019, 'discovered': 3020}\n"
          ]
        }
      ],
      "source": [
        "# El índice para cada palabra\n",
        "# El sistema las ordena de las más populares a las menos populares\n",
        "print(tok.word_index)"
      ]
    },
    {
      "cell_type": "code",
      "execution_count": 81,
      "metadata": {
        "id": "nUDkjy80c77h"
      },
      "outputs": [
        {
          "name": "stdout",
          "output_type": "stream",
          "text": [
            "defaultdict(<class 'int'>, {'to': 381, 'dragonlords': 48, 'odyssey': 7, 'welcome': 2, 'of': 494, 'the': 829, 'you': 51, 'thylea': 80, 'campaign': 11, 'everything': 7, 'will': 103, 'an': 62, 'with': 100, 'epic': 27, 'provide': 5, 'forgotten': 22, 'need': 13, 'land': 22, 'booklet': 1, 'run': 6, 'in': 204, 'this': 112, 'mythology': 6, 'greek': 7, 'from': 74, 'by': 99, 'inspired': 1, 'heavily': 3, 'ancient': 25, 'is': 201, 'stories': 5, 'include': 2, 'ideas': 1, 'argonauts': 4, 'different': 9, 'oresteia': 1, 'iliad': 1, 'sought': 3, 'and': 329, 'others': 3, 'we': 7, 'as': 83, 'jason': 4, 'many': 23, 'sources': 2, 'designed': 7, 'however': 15, 'not': 30, 'greece': 1, 'athena': 1, 'or': 51, 'gods': 64, 'apollo': 2, 'find': 8, 'among': 9, 'zeus': 2, 'but': 72, 'treasures': 2, 'rules': 3, 'are': 143, 'tropes': 1, 'encounter': 5, 'explore': 10, 'here': 6, 'familiar': 5, 'monsters': 6, 'recently': 4, 'mortals': 29, 'only': 35, 'come': 12, 'lands': 9, 'have': 54, 'these': 37, 'trappings': 1, 'blends': 1, 'world': 24, 'high': 1, 'fantasy': 4, 'history': 10, 'elves': 5, 'now': 18, 'minotaurs': 3, 'satyrs': 5, 'alongside': 2, 'live': 5, 'halflings': 2, 'centaurs': 15, 'dwarves': 5, 'greatest': 15, 'entirely': 3, 'one': 105, 'power': 11, 'told': 2, 'ever': 12, 'your': 42, 'end': 20, 'heroes': 125, 'ultimate': 1, 'feel': 2, 'story': 33, 'make': 20, 'within': 12, 'that': 159, 'goal': 2, 'our': 3, 'like': 9, 'party': 14, 'change': 4, 'forever': 6, 'players': 22, 'choices': 1, 'gamemaster': 1, 'idea': 1, 'it': 71, 'encourage': 3, 'embrace': 2, 'reshape': 2, 'does': 5, 'mean': 2, 'how': 10, 'hero': 18, 'a': 230, 'be': 103, 'what': 13, 'city': 42, 'colossal': 3, 'prepare': 4, 'attack': 6, 'mytros': 57, 'dragon': 34, 'save': 8, 'under': 10, 'silver': 11, 'while': 11, 'two': 9, 'death': 9, 'has': 59, 'oracle': 19, 'prophesied': 2, 'destruction': 5, 'doom': 3, 'rise': 3, 'who': 63, 'watches': 3, 'themis': 3, 'warrior': 5, 'island': 21, 'trees': 1, 'amazonian': 1, 'bronze': 6, 'sword': 1, 'her': 55, 'she': 55, 'other': 29, 'automaton': 1, 'stimfay': 1, 'wields': 1, 'bird': 1, 'curved': 1, 'tending': 1, 'hand': 5, 'kopis': 1, 'titans': 37, 'years': 13, 'thousands': 4, 'were': 39, 'lords': 1, 'for': 101, \"sydon's\": 4, 'then': 18, 'back': 10, 'armies': 6, 'their': 122, 'drove': 1, 'fell': 5, 'came': 7, 'heavens': 6, 'foreseen': 1, 'five': 33, 'had': 19, 'sealed': 3, 'blood': 2, 'was': 38, 'sacred': 4, 'oath': 42, 'queen': 9, 'been': 40, 'peace': 18, 'passed': 4, 'hundred': 5, 'vain': 1, 'once': 44, 'time': 28, 'war': 22, 'again': 4, 'preface': 1, 'why': 2, 'took': 6, 'place': 6, 'ago': 6, '3': 3, 'roleplaying': 6, 'very': 13, 'over': 18, '000': 1, 'first': 37, 'undertake': 1, 'quest': 10, 'children': 14, 'them': 48, 'hermes': 1, 'impossible': 3, 'poseidon': 1, 'gathered': 1, 'band': 3, 'sailors': 4, 'they': 138, 'legendary': 4, 'led': 1, 'achilles': 3, 'ranks': 3, 'musician': 1, 'peleus': 1, 'father': 6, 'included': 2, 'talented': 1, 'orpheus': 1, 'most': 21, 'labors': 9, 'fabled': 2, 'joined': 1, 'his': 64, 'completed': 5, 'twelve': 1, 'even': 20, 'famous': 7, 'hercules': 2, 'roleplayers': 1, 'liken': 1, 'argonautika': 1, 'should': 33, 'equipped': 1, 'foretold': 2, 'ill': 1, 'illustrious': 1, 'awaited': 1, 'success': 1, 'qualifications': 1, 'challenges': 3, 'prophecies': 2, 'spite': 2, 'because': 5, 'which': 19, 'errors': 1, 'comedy': 2, 'almost': 5, 'soon': 2, 'set': 7, 'rest': 6, 'sail': 6, 'unfolds': 1, 'abandoned': 2, 'me': 1, 'masters': 3, 'fellow': 2, 'if': 42, 'game': 5, 'stop': 3, 'sounds': 1, 'tabletop': 1, 'average': 1, 'iolcos': 1, 'bears': 1, 'resemblance': 1, 'uncanny': 1, 'roleplayer': 1, 'self': 2, 'wallowing': 1, 'luck': 2, 'bemoaning': 1, 'allies': 3, 'he': 57, 'accidentally': 1, \"isn't\": 2, 'pity': 1, \"he's\": 3, 'bad': 1, 'slaughtering': 1, 'when': 52, 'own': 8, 'just': 8, 'usurped': 1, 'being': 9, 'seems': 5, 'lead': 2, 'frightened': 1, 'multiple': 3, 'points': 3, 'at': 46, 'step': 2, 'terrible': 3, 'leadership': 1, 'forced': 7, 'medea': 2, 'golden': 3, 'secured': 1, 'magic': 20, 'fleece': 1, 'through': 23, 'sorceress': 5, 'counted': 1, 'called': 15, 'so': 17, 'paragons': 1, 'super': 1, 'films': 1, 'sacrificing': 1, 'hollywood': 1, 'idolize': 1, \"we've\": 1, 'powered': 1, 'evil': 7, 'no': 24, 'good': 1, 'clear': 2, 'villains': 5, 'epics': 3, 'repel': 1, 'invasions': 1, 'between': 3, 'there': 21, 'alien': 1, 'thwart': 1, 'line': 1, 'heroic': 3, 'times': 7, 'frequently': 1, 'infuriating': 1, 'deeds': 3, 'puzzling': 1, 'harrowing': 1, 'punctuates': 1, 'courted': 1, 'journey': 3, 'wife': 4, 'odysseus': 2, 'home': 9, 'all': 43, 'murdering': 1, 'men': 12, 'him': 12, 'refuses': 4, 'fight': 5, 'abandons': 1, 'finished': 1, 'quickly': 3, 'historical': 1, 'flaws': 1, 'hard': 3, 'shake': 1, 'real': 2, 'feeling': 1, 'figures': 2, 'fails': 1, 'might': 7, 'cunning': 1, 'succeed': 3, 'brood': 1, 'mortal': 25, 'fickle': 1, 'into': 43, 'means': 6, 'survive': 1, 'on': 65, 'fate': 13, 'cast': 5, 'situations': 1, 'left': 2, 'whims': 1, 'spectacular': 1, 'divine': 16, 'human': 3, 'above': 5, 'parentage': 1, 'western': 2, 'part': 6, 'enduring': 1, 'imagination': 1, 'makes': 7, 'characters': 8, 'large': 3, 'perfect': 1, 'next': 4, 'importantly': 1, 'archetypes': 2, 'mythic': 14, 'heroism': 2, 'prophecy': 18, 'casts': 1, 'roles': 1, 'dire': 1, 'subjects': 1, 'last': 10, 'against': 23, 'small': 5, 'pits': 1, 'promises': 3, 'conflict': 3, 'matter': 3, 'course': 2, 'dealings': 1, 'kings': 10, 'nice': 1, 'always': 7, 'jealous': 6, 'generous': 2, 'passionate': 1, 'vengeful': 2, 'lusty': 1, 'capricious': 1, 'selfish': 1, 'cruel': 2, 'ways': 4, 'kind': 2, 'too': 3, 'thoughtless': 1, 'generally': 2, 'vicious': 1, 'forgetful': 1, 'do': 15, 'influence': 3, 'know': 8, 'spheres': 1, 'cannot': 6, 'control': 8, 'dangerous': 4, 'awesome': 1, 'disrespects': 1, 'foolish': 2, \"it's\": 4, 'life': 20, 'acknowledge': 1, 'aspect': 1, 'wisest': 2, 'every': 20, 'contend': 1, 'also': 25, 'queens': 3, 'must': 59, 'earth': 4, 'rulers': 1, 'hands': 2, 'bound': 2, 'vagaries': 1, 'across': 13, 'shattering': 1, 'demand': 2, 'events': 3, 'action': 5, 'often': 8, 'powerful': 20, 'sometimes': 7, 'arms': 2, 'up': 11, 'upon': 25, 'themselves': 8, 'take': 18, 'join': 4, 'more': 20, 'depend': 1, 'curses': 6, 'oaths': 17, 'inviolable': 1, 'serious': 1, 'vows': 1, 'sworn': 9, 'circumstances': 1, 'effect': 6, 'far': 8, 'society': 1, 'reaching': 1, 'create': 4, 'wars': 2, 'may': 30, 'bloody': 1, 'instigate': 1, 'unbreakable': 1, 'fellowships': 1, 'promote': 1, 'afflicted': 6, 'dare': 1, 'lest': 1, 'sound': 2, 'would': 9, 'break': 5, 'mind': 3, 'itself': 2, 'cursed': 26, 'those': 15, 'dust': 1, 'turns': 6, 'food': 3, 'mouths': 1, 'screaming': 2, 'out': 14, 'souls': 6, 'underworld': 5, 'harpies': 1, 'peck': 1, 'eyes': 5, 'dragged': 1, 'bravest': 1, 'consequences': 2, 'reason': 2, 'fear': 2, 'breaking': 5, 'literally': 1, 'made': 8, 'binds': 1, 'enforces': 1, 'incapable': 1, 'same': 2, 'hubris': 4, 'fame': 9, 'seek': 10, 'increase': 1, 'great': 38, 'context': 2, 'goals': 6, 'essential': 1, 'achieving': 1, 'vanity': 1, \"one's\": 23, 'aid': 3, 'masses': 1, 'audiences': 1, 'opinions': 1, 'warriors': 8, 'summon': 1, 'though': 3, 'shorten': 1, 'seeking': 3, 'route': 2, 'immortality': 1, 'direct': 3, 'danger': 2, 'increasing': 1, 'abilities': 3, 'excessive': 1, 'pride': 3, 'downfall': 1, 'overestimate': 1, 'underestimate': 1, 'leads': 1, 'equal': 2, 'subject': 5, 'forces': 4, 'measure': 1, 'both': 8, 'mysteries': 1, 'defy': 1, 'directs': 1, 'lives': 7, 'gives': 8, 'us': 2, 'gift': 4, 'otherwise': 4, 'rather': 3, 'than': 12, 'paths': 13, 'destroyed': 4, 'allow': 3, 'reveal': 11, 'hidden': 2, 'seem': 3, 'madness': 9, 'such': 13, 'walking': 1, 'task': 6, 'dismiss': 1, 'order': 20, 'spurn': 1, 'highest': 4, 'tragedy': 2, 'categories': 1, 'falls': 3, 'tragic': 2, 'win': 1, 'happier': 2, 'rising': 2, 'honoring': 2, 'sacrifices': 4, 'short': 5, 'meet': 7, 'curse': 28, 'turn': 2, 'endings': 1, 'throws': 3, 'words': 2, 'work': 4, 'wilderness': 2, 'losing': 1, 'least': 3, 'expect': 3, 'enemies': 4, 'decades': 2, 'glory': 5, 'return': 7, 'yourself': 2, 'grievances': 1, 'ones': 6, 'discovering': 2, 'pawn': 1, 'betraying': 1, 'overthrowing': 1, 'along': 7, 'petty': 1, 'rightful': 1, 'loved': 8, 'easy': 2, 'dramatic': 2, 'failures': 2, 'memorable': 2, 'adventures': 2, 'victories': 1, 'book': 10, 'dungeon': 2, 'crawling': 1, 'help': 5, 'classic': 1, 'sweep': 1, 'driven': 2, 'combines': 2, 'civilization': 6, 'guise': 5, 'where': 24, 'creatures': 12, 'walk': 4, 'fey': 10, 'continent': 2, 'takes': 12, '5th': 3, \"world's\": 2, 'edition': 3, '4': 3, 'level': 4, '1st': 1, '6': 1, '15th': 1, 'higher': 1, 'open': 2, 'structured': 1, 'parts': 2, 'complete': 8, 'new': 13, 'major': 13, 'available': 1, 'milestones': 2, 'become': 8, 'acts': 1, 'divided': 2, 'finale': 2, 'prologue': 2, 'adventure': 15, 'still': 5, 'prevail': 1, 'seas': 4, 'haunt': 4, 'forests': 2, 'beginning': 4, 'role': 2, 'charged': 1, 'fulfilling': 1, 'confronting': 8, 'shape': 3, 'future': 2, 'decisions': 1, 'intended': 3, 'gm': 8, 'contains': 2, 'spoilers': 1, 'reading': 2, 'guide': 7, 'player': 12, 'learned': 2, 'about': 20, \"player's\": 1, 'can': 65, 'any': 22, 'experienced': 2, 'table': 4, 'several': 8, 'section': 8, 'surprises': 1, 'best': 6, 'ruin': 1, 'risk': 2, 'proceed': 1, 'covers': 1, 'concepts': 2, 'overview': 1, 'found': 12, 'secrets': 3, 'information': 4, 'detailed': 2, 'appendix': 8, 'myths': 2, 'cyclopes': 9, 'ages': 1, 'worshipped': 3, 'native': 11, 'until': 11, 'lived': 4, 'arrival': 6, 'tribes': 9, 'defenseless': 1, 'sudden': 1, 'walked': 2, 'saved': 2, 'appearance': 2, 'seemed': 3, 'lost': 23, 'truce': 3, 'temporary': 2, 'warfare': 1, 'prevented': 1, 'ending': 2, 'wage': 2, 'wanes': 1, 'chosen': 4, \"oracle's\": 6, 'confront': 9, 'requires': 5, 'rebuild': 2, 'fulfill': 2, 'three': 15, 'storms': 14, 'ruled': 4, 'sydon': 65, 'long': 13, 'lord': 12, 'titan': 9, 'before': 22, 'seeks': 5, 'dominate': 1, 'mistress': 1, 'another': 9, 'lutheria': 51, 'sister': 6, 'capture': 2, 'dominion': 4, 'amusement': 2, 'corrupt': 1, 'descendant': 2, 'acastus': 17, 'king': 20, 'wrap': 1, 'himself': 6, 'cowardly': 1, 'manipulator': 1, 'undermine': 1, 'ancestors': 2, 'quick': 1, 'read': 11, 'running': 4, 'breakdown': 1, 'chapters': 4, 'preparing': 3, 'located': 4, 'beyond': 8, 'ocean': 9, 'borders': 2, 'expanse': 4, 'known': 13, 'beauty': 5, 'splendor': 1, 'untouched': 1, 'dawn': 10, 'since': 6, 'unspoiled': 1, \"'the\": 1, 'landmass': 1, 'surrounded': 1, 'central': 3, 'islands': 12, \"'\": 16, 'peninsulas': 1, 'tapers': 1, 'hundreds': 3, 'miles': 3, 'thousand': 1, 'direction': 2, 'sea': 25, 'stretches': 2, 'sides': 3, 'sprawling': 2, 'dot': 1, 'massive': 4, 'statues': 1, 'glittering': 2, \"thylea's\": 10, 'landscape': 1, 'lagoons': 1, 'ruins': 4, 'plains': 2, 'beasts': 2, 'wander': 1, 'woods': 2, 'reptilian': 2, 'steppes': 4, 'centaur': 6, 'savages': 1, 'battle': 27, 'although': 4, 'heart': 4, 'mother': 11, 'form': 9, 'tree': 4, 'goddess': 15, 'archipelago': 1, 'creation': 2, 'name': 3, 'true': 10, 'twin': 4, 'dwell': 3, 'reaches': 4, 'sky': 6, 'endless': 1, 'untamed': 1, 'founding': 1, 'centuries': 12, 'failed': 3, 'weapons': 4, 'shores': 5, 'washed': 1, 'ceased': 1, 'humans': 8, 'forsaken': 1, 'races': 20, 'beggars': 1, 'refugees': 1, 'hospitality': 2, 'strange': 4, 'settlements': 4, 'founded': 5, 'nymphs': 2, 'offered': 6, 'curious': 1, 'quarter': 1, 'devour': 2, 'whole': 2, \"'trespassers'\": 1, 'brutal': 1, 'foreign': 1, 'powers': 6, 'during': 11, 'anything': 2, 'seen': 2, 'era': 1, 'wielded': 1, 'unlike': 6, 'venerated': 2, 'right': 1, 'could': 7, 'earthquakes': 1, 'apocalyptic': 2, 'cataclysmic': 2, 'conjure': 1, 'dreams': 6, 'give': 7, 'held': 6, 'said': 8, 'voice': 9, 'dead': 9, 'shrines': 5, 'built': 1, 'honor': 6, 'desperate': 1, 'fearing': 1, 'eradication': 1, \"lutheria's\": 7, 'feasts': 3, 'settlers': 7, 'libations': 1, 'dedicated': 1, 'meal': 2, 'lady': 3, 'wine': 3, 'poured': 2, 'worship': 7, 'unswayed': 1, 'hapless': 1, 'warmed': 1, 'persistent': 1, 'twins': 2, 'worst': 1, 'exchange': 1, 'devotion': 1, 'protection': 5, 'ravages': 2, 'shielded': 1, 'survived': 4, 'mercy': 1, 'remained': 1, 'bearing': 1, 'old': 10, 'flight': 1, 'each': 29, 'arrived': 2, 'champion': 1, 'fateful': 1, 'day': 10, 'dragons': 13, 'upheaval': 1, 'heralded': 1, 'kingdoms': 2, 'half': 5, 'few': 9, 'dozen': 2, 'roads': 2, 'sprang': 1, 'cities': 10, 'dynasties': 2, 'stood': 1, 'humble': 2, 'temples': 2, 'terror': 1, 'tall': 2, 'symbols': 1, 'beleaguered': 1, 'hope': 1, 'people': 14, 'roving': 2, 'attackers': 1, 'repay': 2, 'razed': 1, 'ground': 2, 'whenever': 8, 'settlement': 2, 'harsh': 1, 'assaults': 1, 'persevered': 1, 'fought': 3, 'winters': 2, 'tirelessly': 3, 'blistering': 1, 'summers': 2, 'relentless': 1, 'adulation': 1, 'shouts': 1, 'everywhere': 1, 'greeted': 1, 'hailed': 1, 'flying': 1, 'saviors': 1, 'overhead': 3, 'spotted': 1, 'songs': 2, 'gleaming': 1, 'fire': 5, 'behold': 1, 'radiant': 2, 'scales': 1, 'nowhere': 1, 'visited': 4, 'blessed': 4, 'grew': 4, 'immortal': 2, 'amassed': 1, 'eradicate': 1, 'began': 1, 'responded': 1, 'gathering': 3, 'assault': 1, 'united': 1, 'vague': 2, 'scrolls': 1, 'having': 4, 'decaying': 1, 'tapestries': 1, 'down': 6, 'histories': 1, 'exile': 1, 'certain': 3, 'retreated': 1, 'fled': 1, 'leaving': 3, 'gygans': 12, 'annihilated': 1, 'behind': 2, 'crumbling': 1, 'fallen': 3, 'defending': 2, 'ended': 3, 'victory': 1, 'cost': 1, 'killed': 10, 'age': 3, 'guardian': 2, 'equally': 1, 'spirits': 3, 'remembered': 1, 'noble': 1, 'sacrifice': 3, 'woven': 2, 'glow': 1, 'stones': 2, 'sunset': 1, 'miraculous': 2, 'perhaps': 2, 'heaven': 2, 'tide': 1, 'turned': 1, 'descended': 2, 'desire': 2, 'manifestations': 1, 'immigrant': 1, 'claimed': 2, 'protect': 3, 'some': 12, 'divinity': 2, 'women': 3, 'alight': 1, 'spoil': 2, \"don't\": 5, 'twist': 2, 'nature': 2, 'talk': 2, 'forbidden': 3, 'forms': 2, 'includes': 5, 'moment': 2, 'portion': 2, 'manifested': 1, 'belonged': 2, 'broken': 3, 'battles': 1, 'gruesome': 1, 'pythor': 31, 'command': 1, 'centurions': 4, 'after': 20, 'gygan': 4, 'spear': 1, 'thrust': 1, 'torpor': 1, 'final': 6, 'apparently': 1, 'recover': 5, 'strength': 2, 'safe': 2, 'vengeance': 4, 'swore': 4, 'chilling': 1, 'boiled': 1, 'nightmares': 3, 'rage': 1, 'mountains': 1, 'spine': 1, 'shook': 1, 'retaliation': 1, 'foundations': 1, 'threatened': 3, 'anger': 5, 'sunder': 1, 'herself': 3, 'beloved': 1, 'ascended': 4, 'sacrificed': 5, 'rescue': 4, 'warships': 2, 'mounts': 1, 'fleet': 4, 'commissioned': 1, 'estor': 9, 'captained': 2, 'arkelander': 5, 'ships': 6, 'ultros': 19, 'sailed': 3, 'diamond': 1, 'sleeps': 1, 'throne': 7, 'depths': 1, 'tower': 8, 'phraxys': 1, 'say': 3, 'troubles': 1, 'actually': 1, 'sung': 2, 'trials': 1, 'transpired': 1, 'perils': 1, 'impending': 1, 'watched': 1, 'signs': 2, 'apocalypse': 1, 'priests': 5, 'night': 3, 'near': 2, 'boiling': 1, 'winter': 2, 'suddenly': 3, 'solstice': 2, 'calmed': 1, 'carrying': 1, 'days': 8, 'harbor': 2, 'bodies': 2, 'black': 4, 'ship': 16, 'later': 3, 'damon': 7, 'served': 2, 'wizard': 2, 'uttered': 1, 'mortally': 1, 'wounded': 1, 'word': 1, 'single': 4, 'delivered': 1, 'vanished': 13, 'items': 13, 'precious': 1, 'temple': 16, 'written': 2, 'carried': 2, 'parchment': 1, 'scroll': 1, 'celebration': 5, 'cause': 4, 'maintained': 1, 'honored': 3, 'resume': 1, 'period': 2, 'daily': 3, 'provided': 1, '500': 3, 'prevailed': 1, 'flourished': 1, 'throughout': 7, 'present': 2, 'frontier': 1, 'metropolis': 1, 'protected': 2, 'colossi': 1, 'beacons': 1, 'dark': 6, 'became': 2, 'established': 3, 'rule': 2, 'remaining': 1, 'village': 2, 'volkan': 13, 'spread': 1, 'nearly': 3, 'did': 1, 'boasted': 1, 'oceans': 5, 'grow': 2, 'amongst': 2, 'sure': 4, 'finally': 2, 'eternity': 1, 'grows': 1, 'imminent': 1, 'annihilation': 1, 'total': 1, 'avert': 1, 'catastrophe': 1, 'group': 2, 'attempt': 3, 'summoned': 8, 'discover': 1, 'whirlpools': 2, 'adventurers': 4, 'eventually': 6, 'terrifying': 3, 'rocks': 2, 'region': 2, 'jagged': 1, 'farthest': 1, 'maelstrom': 3, 'hurricanes': 2, 'returned': 2, 'boast': 1, 'defying': 1, 'waters': 2, 'none': 2, 'its': 11, 'drunken': 1, 'encounters': 1, 'spend': 3, 'brave': 2, 'navigating': 1, 'treacherous': 6, 'battling': 1, 'skirting': 1, 'shoals': 1, 'passage': 1, 'rendered': 1, 'likely': 2, 'crew': 3, 'intense': 1, 'unconscious': 2, 'cloudless': 1, 'awaken': 3, 'calmer': 1, 'lucky': 1, 'green': 2, 'boasts': 1, 'shoreline': 2, 'currents': 1, 'rocky': 1, 'approaching': 1, 'smashed': 1, 'lose': 3, 'prevent': 2, 'glimpse': 1, 'fine': 1, 'watchful': 1, 'clothing': 1, 'stone': 1, 'things': 4, 'monstrous': 2, 'impossibly': 1, 'carvings': 1, 'faces': 4, 'intrepid': 1, 'colossus': 3, 'explorers': 2, 'towering': 1, 'shining': 1, 'catch': 1, 'horizon': 3, 'sight': 2, 'brightly': 2, 'serves': 3, 'beacon': 1, 'existed': 3, 'namesake': 1, 'gulf': 9, 'deep': 4, 'followers': 2, 'roots': 1, 'gargantuan': 2, 'together': 3, 'eternal': 3, 'believe': 4, 'reach': 4, 'cerulean': 9, 'binding': 3, 'giving': 3, 'believed': 4, 'oldwood': 5, 'changing': 1, 'communicated': 1, 'seasons': 1, 'druids': 3, 'approval': 1, 'displeasure': 1, 'signal': 1, 'sign': 2, 'example': 2, 'handed': 1, 'kentimane': 3, 'husband': 6, 'credible': 1, 'references': 1, 'poetry': 3, 'heads': 1, 'depicted': 2, 'usually': 6, 'flows': 1, 'man': 12, 'glaive': 1, 'bearded': 1, 'carries': 2, 'surveys': 1, 'summoning': 1, 'punish': 3, 'displease': 1, 'water': 4, 'allowances': 1, 'god': 28, 'setting': 2, 'travelers': 2, 'exists': 1, 'location': 1, 'unknown': 1, 'maps': 2, 'boundaries': 1, 'shipwreck': 2, 'worlds': 1, 'wrath': 3, 'fears': 2, 'silent': 1, 'continue': 2, 'prayers': 3, 'skies': 2, 'provoked': 1, 'thunder': 4, 'rolls': 1, 'someone': 10, 'greeting': 1, 'woman': 1, 'eyed': 1, 'beautiful': 3, 'sleepwalks': 1, 'crystal': 3, 'uses': 3, 'harvest': 1, 'scythe': 5, 'displeased': 1, 'feast': 1, 'drink': 6, 'remorse': 1, 'commands': 3, 'dance': 1, \"heart's\": 1, 'without': 4, 'strongly': 1, 'favors': 1, 'demands': 2, 'festivals': 2, 'nevertheless': 1, 'rare': 6, 'else': 4, 'punishment': 3, 'follow': 1, 'swift': 1, 'libation': 1, 'favored': 2, 'celebrated': 1, 'widely': 3, \"settlers'\": 1, 'exception': 1, 'dwelling': 1, 'deities': 1, 'wives': 1, 'demi': 19, 'husbands': 1, 'sire': 1, 'defeat': 7, 'helped': 1, 'protecting': 3, 'tyrannical': 1, 'domination': 1, 'household': 1, 'settler': 3, 'ward': 1, 'gaze': 1, 'off': 4, 'eye': 3, 'accompanied': 2, 'important': 2, 'benevolent': 1, \"'silver\": 1, 'patron': 2, \"queen'\": 1, 'kingdom': 7, 'credited': 1, 'aftermath': 1, 'clad': 1, 'survival': 2, 'armor': 4, 'appear': 6, 'shimmering': 1, 'walks': 1, 'longer': 1, 'priestly': 1, 'source': 1, 'except': 2, 'forges': 1, 'much': 4, 'concerns': 1, 'artifice': 1, 'smiths': 2, 'crafting': 1, 'primarily': 3, 'wizards': 1, 'wise': 1, 'looking': 1, 'dwarf': 2, 'elderly': 1, 'rumored': 1, 'heartlands': 2, 'toys': 1, 'distributing': 1, 'travel': 8, 'sweets': 1, 'died': 1, 'draw': 2, 'appeared': 1, 'son': 1, 'overwhelm': 1, 'bed': 1, 'taking': 1, 'praises': 1, 'fathering': 1, 'overthrew': 1, 'tyrant': 1, 'mad': 1, 'estoria': 10, 'vallus': 13, 'wisdom': 10, 'revered': 4, 'collecting': 1, 'lore': 2, 'surveying': 1, 'origins': 1, 'wide': 1, 'concerning': 1, 'guidance': 2, 'scarce': 1, 'needed': 2, 'daughter': 8, \"mother's\": 1, 'oldest': 2, 'inherited': 1, 'serving': 1, 'legacy': 2, 'trickster': 1, 'kyrah': 8, 'music': 1, '11': 2, 'introduction': 3, 'capable': 2, 'disappearing': 1, 'blink': 1, 'distances': 1, 'swiftest': 1, 'musical': 1, 'instrument': 1, 'revere': 3, 'muse': 1, 'bards': 1, 'mighty': 2, 'politics': 1, 'center': 3, 'religion': 1, 'largest': 1, 'commerce': 1, 'year': 1, 'games': 2, 'outside': 1, 'growing': 1, 'stands': 2, 'popularity': 1, 'recent': 1, 'grand': 1, 'street': 1, 'thought': 2, 'resurrected': 1, 'feat': 1, 'extinct': 1, 'race': 3, 'restore': 4, 'former': 1, 'attacks': 4, 'manticores': 1, 'dangers': 1, 'arkelon': 1, 'stronghold': 1, 'river': 1, 'resisted': 1, 'thrive': 1, 'mightiest': 1, 'palace': 2, 'vantage': 1, 'point': 4, 'north': 1, 'south': 2, 'survey': 1, 'farmlands': 1, 'watch': 3, 'vigilantly': 1, 'emerge': 1, 'threats': 1, 'provincials': 1, 'everyone': 5, 'considered': 1, 'service': 3, 'estorians': 1, 'knows': 4, 'forged': 3, 'rival': 2, 'aresia': 4, 'aresian': 3, 'dozens': 3, 'collectively': 2, 'engaged': 1, 'campaigns': 1, 'thing': 2, 'vary': 1, 'fighting': 2, 'reasons': 2, 'eastern': 1, 'fighters': 1, 'monks': 1, 'feared': 2, 'shore': 1, 'serve': 1, 'required': 4, 'steps': 1, 'spears': 1, 'militia': 1, 'begin': 9, 'adult': 2, 'training': 1, 'philosophy': 2, 'aresians': 1, 'schools': 2, \"'degrees'\": 1, 'refined': 1, 'pursuit': 1, 'martial': 1, 'decadent': 1, 'rugged': 1, 'spent': 3, 'feasting': 1, 'disguises': 1, 'sense': 1, 'hours': 5, 'rituals': 2, 'air': 2, 'austerity': 1, 'cultivate': 1, 'readings': 1, 'closely': 2, 'caste': 1, 'resemble': 1, 'lifestyles': 1, 'leading': 2, 'pressed': 1, 'outsiders': 1, 'wash': 1, 'barbarians': 2, 'millennia': 2, 'coming': 1, 'occasionally': 1, 'shipwrecked': 2, 'blown': 1, 'merchants': 1, 'natives': 3, 'harmony': 1, 'nationalities': 1, 'formed': 3, 'newcomers': 1, 'distrust': 1, 'looked': 1, 'civilized': 1, 'amazons': 2, 'barbarian': 1, 'whom': 1, 'thyleans': 2, 'referred': 1, 'lifespans': 1, 'playable': 2, 'including': 6, 'origin': 1, 'descriptions': 1, 'physical': 1, 'refer': 7, 'sirens': 1, 'areas': 1, 'somewhat': 1, 'rural': 2, 'common': 2, 'mostly': 2, 'cyclops': 1, 'exterminated': 1, 'medusae': 2, 'nymph': 1, 'springs': 1, 'hot': 1, 'below': 2, 'dwells': 4, 'heeded': 1, 'alike': 1, 'soothsaying': 1, 'despite': 1, 'fondness': 1, 'heritage': 1, 'faithful': 1, 'attended': 1, 'special': 5, 'secretive': 2, 'treated': 1, 'poorly': 1, 'plentiful': 1, 'wrecked': 1, 'populate': 2, 'gnomes': 1, 'less': 3, 'numbers': 1, 'fair': 1, 'orcs': 3, 'stigmatized': 1, 'tieflings': 2, 'servants': 5, \"'stygians\": 1, 'assumed': 1, 'dragonborn': 2, 'exceedingly': 1, 'away': 4, 'remote': 1, 'exist': 1, 'places': 2, 'see': 7, 'shocked': 1, 'building': 2, 'factions': 1, 'civic': 2, 'constructed': 1, 'buildings': 1, 'council': 2, 'districts': 1, 'villages': 1, 'outlying': 1, 'meets': 4, 'moon': 1, 'elected': 1, 'representatives': 1, 'increasingly': 1, 'appease': 1, 'pattern': 1, 'dictated': 1, 'precarious': 1, 'taken': 4, 'becoming': 1, 'enforce': 2, 'law': 1, 'conscripts': 1, 'regular': 1, 'army': 4, 'followed': 2, 'dates': 1, 'soldier': 1, 'prays': 1, 'openly': 1, 'religious': 1, 'ranking': 1, 'centurion': 1, 'justice': 1, 'arbiter': 1, 'learning': 3, 'academy': 1, 'institution': 1, 'founders': 1, \"wasn't\": 1, 'magical': 7, 'pursuits': 1, 'intellectual': 1, 'colleges': 1, 'consists': 1, 'devoted': 1, 'evocation': 1, 'etc': 2, 'divination': 2, 'safeguarding': 1, 'theater': 1, 'arts': 1, 'song': 4, 'encouraged': 1, 'interests': 1, 'ringed': 1, 'monolithic': 1, 'druid': 1, 'grove': 1, 'whiteclad': 1, 'oaken': 1, 'laurels': 1, 'wear': 2, 'staves': 1, 'wield': 2, 'never': 5, 'settled': 1, 'atone': 1, 'sins': 1, 'ritual': 1, 'hoping': 1, 'perform': 4, 'zealots': 1, 'communicate': 1, 'strikes': 1, 'lightning': 5, 'particular': 2, 'cloaks': 1, 'filled': 1, 'clasps': 1, 'paladins': 1, 'armored': 1, 'believers': 1, 'background': 3, 'wishes': 2, 'destroy': 4, \"thieves'\": 1, 'shadows': 2, 'guild': 1, 'operates': 1, 'cult': 2, 'snake': 1, 'headquartered': 1, 'aqueducts': 1, 'citizens': 2, 'petrified': 1, 'entire': 6, 'homes': 2, 'stealing': 1, 'wealthy': 1, 'cultists': 1, 'families': 1, 'value': 1, 'calls': 1, 'coins': 1, 'leader': 1, 'six': 1, 'armed': 1, 'giants': 1, 'tribe': 3, 'empire': 2, 'countless': 1, 'keep': 3, 'hated': 1, 'opportunity': 4, 'surviving': 1, 'warring': 1, 'nomadic': 1, 'raiding': 1, 'camps': 2, 'move': 2, 'thunderous': 1, 'hunting': 2, 'peoples': 1, 'hills': 1, 'foraging': 1, 'stampedes': 1, 'adopted': 1, 'slain': 1, 'raised': 2, 'conquering': 1, 'code': 1, 'strict': 1, 'hold': 1, 'sing': 1, 'tales': 1, 'honeymeade': 1, 'rivers': 1, 'steppe': 1, 'stars': 1, 'den': 2, 'raving': 2, 'edges': 1, 'system': 1, 'west': 1, 'atrokos': 1, 'caves': 1, 'apart': 1, 'luring': 2, 'maidens': 1, 'distress': 1, 'devoured': 1, 'revelry': 1, 'torn': 1, 'mothers': 1, 'goatlings': 2, 'born': 2, 'maenad': 2, 'satyr': 1, 'union': 1, 'aspects': 2, 'typical': 1, 'laws': 3, 'guests': 2, 'swearer': 5, 'fiercest': 1, 'expected': 3, 'shown': 1, 'resulting': 1, 'disobeyed': 1, 'enforced': 1, 'fabric': 1, 'natural': 2, 'dreadful': 1, 'suffer': 4, 'import': 1, 'friendship': 9, 'concept': 1, 'guest': 7, 'parties': 1, 'courtesy': 1, 'divide': 1, 'disputes': 2, 'show': 2, 'generosity': 1, 'hosts': 1, 'host': 3, 'invite': 2, 'shared': 2, 'seal': 1, 'bond': 3, 'blessing': 2, 'ends': 7, 'departed': 1, \"host's\": 1, 'offending': 3, 'harm': 2, 'brings': 1, 'arbiters': 1, 'enough': 4, 'willing': 1, 'furies': 2, 'rarer': 1, 'demons': 2, 'devils': 2, 'violence': 1, 'creature': 6, 'swearing': 1, 'person': 7, 'commit': 1, 'limit': 2, 'weeks': 2, 'months': 1, 'presented': 4, 'individual': 3, 'menelaus': 3, 'achaean': 1, 'helen': 2, 'anyone': 4, 'assist': 3, 'result': 2, 'trojan': 1, 'call': 3, 'answer': 5, 'possible': 4, 'threat': 1, 'fulfilled': 3, 'obligation': 2, 'further': 2, 'neutralized': 1, 'allowing': 1, 'branded': 1, 'failure': 3, 'giver': 1, 'oathbreaker': 2, 'specified': 1, 'require': 3, 'assassination': 1, 'type': 1, 'resort': 1, 'viewing': 1, 'hesistant': 1, 'swear': 5, 'refusal': 1, 'brands': 1, 'deals': 1, 'fall': 2, 'publicly': 1, 'clearly': 1, 'quality': 1, 'mark': 1, \"hero's\": 2, 'untrustworthy': 1, 'lightly': 2, 'harpy': 8, 'slowly': 4, 'transform': 5, 'unfulfilled': 1, 'invoked': 1, 'hags': 2, 'transformation': 5, 'way': 7, 'curing': 3, 'casting': 4, 'spell': 11, 'greater': 7, 'per': 2, 'restoration': 4, 'reversed': 2, 'slightly': 1, 'transformed': 3, 'week': 2, 'completely': 2, 'missing': 3, 'process': 3, 'ability': 3, 'hear': 3, 'charmed': 4, 'feet': 2, 'sings': 1, 'dc': 8, 'throw': 9, '300': 1, 'saving': 9, 'giant': 2, 'humanoid': 1, 'melody': 1, 'singing': 2, 'bonus': 1, 'subsequent': 1, 'incapacitated': 2, 'effects': 2, 'charm': 1, 'ignores': 1, 'target': 7, 'toward': 3, '5': 1, 'damaging': 1, 'terrain': 1, 'moving': 1, 'lava': 1, 'avoid': 2, \"doesn't\": 1, 'repeat': 2, 'damage': 2, 'victim': 4, 'character': 9, 'well': 2, 'successful': 4, \"creature's\": 1, '24': 1, 'successfully': 1, 'immune': 1, 'targets': 1, 'medusa': 6, 'fashion': 1, 'asking': 1, 'granted': 3, 'instead': 1, 'comes': 4, 'bargains': 1, 'simply': 2, 'stopped': 1, 'intervention': 1, 'fully': 3, 'becomes': 4, 'chaotic': 1, 'alignment': 2, 'wish': 4, 'reversible': 2, 'lawful': 1, 'transforms': 1, 'controlled': 1, 'little': 2, 'missed': 1, 'restart': 1, 'spells': 1, 'entry': 1, 'described': 3, 'item': 9, 'grave': 2, 'eat': 1, 'exhaustion': 2, 'die': 4, 'constitution': 1, 'number': 1, 'score': 2, 'gain': 1, 'starvation': 1, 'stole': 1, 'correct': 1, 'returning': 3, 'rid': 1, 'get': 3, 'possession': 7, 'midnight': 1, 'remove': 1, 'affected': 1, 'stolen': 3, 'willingly': 2, 'finding': 1, 'removed': 1, 'provenance': 1, \"item's\": 1, 'truthful': 1, 'charisma': 2, 'persuasion': 1, 'intelligence': 2, 'check': 4, '10': 1, '20': 4, 'abuse': 1, 'afflicts': 2, 'tenets': 1, 'violate': 1, 'offended': 1, 'pious': 1, 'beggar': 1, 'especially': 1, 'related': 2, 'offense': 2, 'injustice': 1, 'directly': 4, 'dispatching': 1, 'erinyes': 8, 'manifests': 2, 'manner': 3, 'unique': 2, 'determine': 2, 'praxys': 5, 'severity': 1, 'gather': 2, 'room': 2, 'response': 1, 'agreed': 1, '1': 5, 'necessary': 1, 'dispatch': 1, 'try': 3, 'quarry': 2, 'defeated': 6, 'hunt': 2, 'n': 1, 'nether': 10, 'area': 3, 'oathbreakers': 3, 'captured': 2, 'miserable': 1, 'track': 1, 'prey': 1, 'dispatched': 2, 'd100': 1, 'possesses': 3, 'rope': 2, 'entanglement': 2, 'allows': 1, 'plane': 2, 'shift': 2, 'able': 3, 'restrained': 1, 'requirements': 1, 'satisfied': 1, '16': 1, 'banished': 1, 'causes': 1, 'failing': 1, 'sour': 2, 'begins': 3, 'vintage': 2, 'inn': 1, 'poet': 1, 'disguised': 1, 'traveling': 1, 'boar': 3, 'revealed': 3, 'vision': 3, \"'doom\": 1, 'explains': 3, 'sent': 4, 'countryside': 1, 'ravage': 1, 'confirm': 1, 'dealing': 1, 'hag': 2, \"labors'\": 1, 'rescuing': 1, 'learn': 4, 'confrontation': 2, 'suggests': 2, \"'great\": 1, 'prove': 2, 'helpful': 1, \"king's\": 3, \"heroes'\": 2, 'assistance': 1, 'needs': 2, 'offers': 4, 'done': 4, \"pythor's\": 7, 'minded': 1, 'absent': 1, 'claims': 1, 'base': 2, 'search': 2, 'clues': 1, 'use': 4, 'mines': 2, 'necropolis': 4, 'telamok': 4, 'mithral': 8, 'locations': 2, 'mossy': 3, 'visit': 1, 'dungeons': 2, 'reached': 2, 'dream': 4, 'balmytria': 2, 'horn': 2, 'antikythera': 4, 'triggers': 1, 'artifact': 10, 'soldiers': 1, 'detachment': 1, 'accomplished': 1, 'sends': 6, 'audience': 2, 'mounted': 1, 'finish': 3, 'summons': 3, 'answering': 1, 'labor': 3, 'act': 3, '2': 3, 'arrive': 1, 'assailed': 1, 'storm': 8, 'choice': 2, 'quell': 1, 'faced': 1, 'difficult': 1, 'map': 2, 'rewards': 3, 'thanks': 1, 'trireme': 1, 'counsel': 2, 'warns': 1, 'ambitions': 1, 'afterwards': 2, 'exploring': 1, 'free': 6, 'undead': 4, 'dragonlord': 1, 'ghost': 3, 'recovered': 2, 'navigational': 1, 'device': 2, 'tow': 1, 'crashes': 1, 'swears': 2, 'joins': 2, 'aboard': 2, 'forge': 8, 'haste': 1, 'sixty': 2, 'egg': 7, 'secretly': 1, 'gave': 1, 'reveals': 6, 'eggs': 3, 'used': 10, 'worthy': 1, 'asks': 3, 'raise': 3, 'gaius': 6, 'voyage': 3, 'commander': 2, 'knights': 1, 'recurring': 1, 'problem': 1, 'rides': 1, 'argyn': 2, 'named': 2, 'braved': 1, 'charybdis': 1, 'mouth': 2, 'alternatively': 2, 'wisely': 1, 'barge': 1, 'hypnos': 2, 'vessel': 1, 'board': 1, 'locate': 1, 'weaknesses': 1, 'dwelled': 1, 'consolidating': 1, 'scale': 1, 'floor': 1, \"titan's\": 1, 'empyrean': 1, 'reckon': 1, 'plans': 1, 'motion': 1, 'imbued': 1, 'locked': 2, 'revert': 1, 'carry': 1, 'agree': 2, 'belongs': 1, 'already': 3, 'arrogance': 1, 'defend': 2, 'depending': 1, 'alive': 1, 'assail': 1, 'subjugate': 1, 'either': 3, 'victorious': 1, 'force': 2, 'cement': 2, 'gear': 3, 'yonder': 4, 'library': 2, 'narsus': 4, 'godhood': 3, 'reclaim': 2, 'achieve': 2, 'messenger': 1, 'captivity': 1, 'siege': 1, 'defended': 1, 'crossing': 2, 'deal': 1, 'decide': 2, 'options': 1, 'sneaking': 1, 'sits': 2, 'variety': 1, 'possibility': 1, 'gates': 1, 'prison': 4, 'artifacts': 4, 'pantheon': 3, 'key': 2, 'peninsula': 1, 'sunken': 1, 'apokalypsis': 3, 'ravaged': 1, 'event': 13, 'descend': 1, 'ascend': 2, 'unlock': 4, 'curb': 1, \"'fences'\": 1, 'exploration': 2, 'acquired': 1, 'regions': 1, 'following': 7, 'shepherd': 1, 'freedom': 1, 'milestone': 1, 'finales': 1, 'twists': 1, 'fruit': 1, 'bear': 1, 'depends': 1, 'avoided': 1, 'unfold': 1, 'ordained': 1, 'advice': 1, 'advancement': 1, 'describes': 3, 'roleplay': 4, 'manage': 1, \"players'\": 1, 'provides': 1, 'tips': 1, 'adjustments': 1, 'core': 3, 'access': 2, 'books': 2, 'assumes': 2, 'referenced': 1, 'box': 1, 'text': 1, 'aloud': 1, 'abbreviations': 1, 'suit': 1, 'modify': 2, 'narration': 1, 'contents': 2, 'boxes': 1, 'afraid': 1, 'chapter': 5, 'recommend': 1, 'appendices': 1, 'familiarize': 1, 'addition': 2, 'optional': 1, 'larger': 1, 'perseus': 1, 'feels': 1, 'creating': 3, 'choose': 3, 'relationships': 3, 'specific': 4, 'standard': 3, 'backgrounds': 1, 'path': 13, 'starting': 1, 'tool': 1, 'proficiencies': 1, 'languages': 1, 'equipment': 1, 'skills': 1, 'description': 2, 'enhanced': 1, 'replaced': 1, \"path's\": 1, 'flavor': 2, 'tasks': 2, 'supplementary': 1, 'overall': 1, 'personal': 1, 'accomplishes': 1, 'completion': 1, 'listed': 1, 'distant': 1, 'crafted': 1, 'integrate': 2, 'connections': 1, 'meaningful': 1, 'tie': 1, 'ties': 1, 'think': 2, 'strong': 1, 'go': 1, 'deeper': 2, 'agency': 1, 'diminish': 1, 'appropriate': 2, 'pursue': 1, 'hooks': 1, 'deems': 1, 'agreement': 1, 'care': 1, 'modifying': 1, 'balanced': 1, 'relate': 1, 'strangers': 2, 'introduce': 1, 'structure': 1, \"adventure's\": 1, 'conflicts': 2, 'alter': 1, 'majority': 2, 'hour': 6, 'case': 4, 'sheltered': 1, 'kindness': 1, 'option': 1, 'destined': 4, 'greatness': 1, 'follows': 1, 'imagined': 1, 'tell': 4, 'exploits': 3, 'session': 2, 'spreading': 1, 'consider': 1, 'rumors': 3, 'assignment': 1, 'helps': 1, 'acquainted': 1, 'kick': 1, 'exercise': 1, 'fun': 1, 'creates': 2, 'better': 1, 'top': 2, 'separate': 1, \"character's\": 1, 'notecards': 3, 'write': 2, 'taverns': 1, 'rumor': 1, 'notecard': 1, 'circulates': 1, 'jokes': 1, 'spirited': 1, 'gossip': 2, 'ribald': 1, 'past': 1, 'exaggerations': 1, 'outright': 1, 'fabrications': 1, 'start': 2, 'completes': 1, 'objectives': 1, 'motivate': 2, 'awarding': 1, 'prestige': 1, 'earn': 1, 'perks': 2, 'earning': 2, 'copy': 1, 'primer': 1, 'handouts': 2, 'sheet': 1, 'reference': 1, 'handy': 1, 'add': 1, 'ahead': 2, 'yet': 1, 'bands': 1, 'facing': 1, 'arranged': 1, 'newfound': 1, 'cooperation': 1, 'fellowship': 1, 'chance': 3, 'juicy': 1, 'confrontations': 1, 'series': 1, 'worshippers': 1, 'legions': 1, 'zealot': 1, 'fanatical': 1, 'minions': 1, 'kill': 5, 'members': 2, 'warband': 4, 'tracks': 1, 'remember': 2, 'head': 1, 'i': 2, 'quiet': 1, 'riding': 1, 'prepared': 1, 'clouds': 4, 'roll': 4, 'flash': 1, 'spot': 1, 'mistake': 2, 'magnificent': 1, 'resolves': 1, 'circles': 1, 'blue': 1, 'cloaked': 1, 'astride': 1, 'figure': 3, \"'give\": 1, 'prostrate': 1, 'yourselves': 1, 'speaks': 1, 'changes': 1, 'meddle': 1, \"'you\": 1, 'comprehension': 1, 'inhuman': 1, 'abruptly': 2, 'something': 3, 'tears': 2, 'vanishes': 1, 'thunders': 1, 'shakes': 1, 'bloodthirsty': 1, 'charging': 1, 'sunk': 1, 'alternative': 1, 'white': 3, 'ox': 1, 'intelligent': 1, 'calm': 1, 'neutralize': 1, 'weather': 1, 'conjured': 1, 'elemental': 1, 'retreat': 1, 'rounds': 2, 'pact': 1, 'occurs': 1, 'happen': 9, 'choosing': 1, 'climax': 1, 'hasten': 1, 'want': 2, 'batter': 1, 'flashes': 2, 'booming': 1, 'my': 1, 'warning': 1, \"'heed\": 1, 'doomed': 16, 'fail': 1, 'perish': 1, 'shatter': 1, 'drown': 1, 'names': 1, 'stand': 1, 'challenge': 1, 'winds': 1, 'pick': 2, 'waves': 1, 'choppy': 1, 'sails': 1, 'east': 1, 'passing': 1, 'trunks': 1, 'size': 1, 'normal': 1, 'oars': 1, 'crewed': 1, 'headed': 1, 'gale': 1, 'howling': 1, 'wind': 1, 'darkens': 1, 'hurricane': 2, 'worsens': 1, 'crescendo': 1, 'piloting': 2, 'escape': 3, 'making': 1, 'checks': 1, 'pilot': 2, 'righted': 1, '15': 2, 'whoever': 2, 'athletics': 1, 'swept': 1, 'overboard': 1, 'helping': 1, 'wipe': 1, 'invasion': 1, 'face': 3, 'immediately': 2, 'evident': 1, 'purpose': 2, 'automatons': 1, 'working': 1, 'cease': 1, 'garden': 4, 'helios': 8, 'ascending': 1, 'affects': 1, 'normally': 1, 'sleep': 1, 'nightmare': 5, 'term': 4, 'random': 2, \"master's\": 2, 'nearby': 1, 'advantage': 1, 'vulnerability': 1, 'sending': 1, 'subverting': 1, 'focused': 1, 'corrupting': 2, 'leave': 1, 'dreaming': 1, 'around': 1, \"woman's\": 2, 'emanates': 1, 'darkness': 1, \"'so\": 2, \"'quest'\": 1, 'proud': 1, 'hogtied': 1, 'light': 1, 'stake': 1, 'illuminating': 1, 'shines': 1, 'sad': 2, 'pathetic': 1, \"'look\": 1, 'gone': 1, 'pieces': 1, 'joints': 1, 'stiff': 1, 'falling': 1, 'skin': 1, 'teeth': 1, 'slack': 1, 'practically': 1, 'dripping': 2, 'inky': 1, 'closer': 2, 'squirms': 1, 'panicking': 1, 'draws': 1, 'flinches': 1, 'leaking': 1, \"'yes\": 1, 'wonder': 1, 'soul': 3, 'bathed': 1, 'gag': 1, \"butcher's\": 1, 'knife': 1, 'thrashes': 1, 'descends': 1, 'restraints': 1, 'sweat': 1, 'second': 1, \"'poor\": 1, 'soft': 3, 'concerned': 1, 'worried': 4, 'worry': 1, 'standing': 1, 'valley': 1, 'wild': 1, 'flowers': 1, 'covered': 1, 'gazes': 1, 'birds': 1, 'breeze': 2, 'blowing': 1, 'burdens': 1, \"'knowledge\": 1, 'pain': 2, 'knowledge': 3, 'ignorance': 2, 'ease': 1, 'puts': 1, 'happy': 1, 'despair': 1, 'twisted': 1, 'streak': 1, 'red': 1, 'ears': 1, 'stitched': 1, 'shut': 1, 'awakens': 3, '1d10': 1, 'determines': 1, 'early': 1, 'awakened': 1, 'inflicting': 1, 'shaking': 1, 'cured': 1, 'lesser': 4, 'corruption': 1, 'sailing': 1, \"'why\": 1, 'emptiness': 1, 'vast': 1, 'towards': 2, 'cling': 1, 'wreckage': 1, 'drifting': 1, 'palpable': 1, 'relief': 1, 'splash': 1, 'collapse': 1, 'shallows': 1, 'sand': 1, 'simple': 1, \"'these\": 1, 'fresh': 1, 'treasure': 13, 'sun': 4, 'sets': 1, 'tantalizing': 1, 'camp': 1, 'roasting': 1, 'pork': 1, 'smell': 1, 'drifts': 1, \"you'd\": 1, \"'perhaps\": 1, 'hungry': 1, 'chew': 1, 'chins': 1, 'juice': 1, 'greedily': 1, 'meat': 1, 'bones': 2, 'gnaw': 1, 'gristle': 1, 'discarded': 1, 'pig': 1, 'look': 1, 'notice': 1, 'hopes': 1, 'ghostly': 1, 'ancestor': 7, 'details': 5, 'angry': 1, 'accusations': 1, 'deny': 1, 'vehemently': 1, 'enemy': 1, 'obvious': 2, 'icarus': 2, 'unleashing': 1, 'disastrous': 1, 'tries': 1, 'results': 1, 'colosseum': 1, 'rod': 1, 'activate': 1, 'rulership': 1, 'surrender': 2, 'wakes': 1, 'playing': 2, 'consumed': 2, 'minute': 1, 'bloodlust': 1, 'reduce': 1, 'state': 1, 'guilt': 1, 'holds': 1, 'feelings': 1, 'barred': 1, 'descending': 1, 'happens': 1, 'whatever': 1, 'settings': 1, 'involved': 1, 'overshadow': 2, 'allowed': 1, 'record': 1, 'accompany': 2, 'renders': 1, 'drunkenness': 1, 'useless': 1, 'journeys': 1, 'dramatis': 1, 'personae': 1, 'speaking': 2, 'advise': 1, 'bring': 2, 'secret': 2, 'boon': 8, 'worries': 1, 'pacts': 1, 'sharing': 1, 'motivations': 1, 'spotlight': 1, 'moments': 1, 'accomplish': 2, 'share': 2, 'siblings': 1, 'partners': 1, 'effectively': 1, 'differentiate': 1, 'classes': 1, 'tailoring': 1, 'child': 4, 'obsessing': 1, 'redemption': 1, 'believes': 4, 'wants': 3, 'meeting': 14, 'versi': 14, 'expects': 1, 'encourages': 1, 'recognizes': 3, 'hexia': 3, \"god's\": 2, 'laments': 1, 'somewhere': 1, 'hammer': 4, 'offer': 4, 'learns': 1, 'weapon': 9, 'explain': 1, 'anora': 1, \"demigod's\": 1, 'unfinished': 3, 'tells': 7, 'using': 1, 'components': 1, 'relight': 1, 'forging': 1, 'fires': 1, 'given': 2, 'relit': 1, 'materials': 1, 'deliver': 1, 'keledone': 1, 'foe': 2, 'discovers': 1, 'lair': 1, 'prisoner': 2, \"hexia's\": 1, 'swoop': 1, 'defeating': 2, 'spark': 1, 'suffers': 1, 'permanent': 1, 'laid': 2, 'jealousy': 2, 'ensure': 1, 'bounds': 1, 'disaster': 1, 'xander': 3, 'crown': 2, 'famed': 2, 'tomb': 1, 'unless': 1, \"versi's\": 2, 'romantic': 1, 'shows': 1, 'interest': 1, 'romance': 2, 'confronts': 4, 'consummates': 1, 'intimate': 1, 'keeps': 1, 'scattered': 1, 'appears': 1, 'constellation': 2, 'brass': 1, 'corresponds': 1, 'v15': 1, 'imprisonment': 1, 'guarding': 1, 'hezzebal': 1, 'mirror': 1, 'blames': 1, 'restores': 1, 'kiss': 1, 'annual': 1, 'demanded': 1, 'festival': 1, 'refused': 1, 'parents': 3, 'torment': 1, 'slaughtered': 2, 'directed': 1, 'endlessly': 1, 'joke': 3, 'consequently': 1, 'practical': 2, 'focus': 3, 'hostile': 1, 'lamia': 1, 'jackalwere': 1, 'singling': 1, 'corrupted': 3, 'demetria': 8, 'workings': 1, 'fates': 16, 'says': 5, 'consulting': 3, 'pg': 1, '140': 1, 'birth': 3, 'full': 4, 'satisfy': 1, 'cruelty': 1, \"fates'\": 1, 'loom': 2, 'possess': 4, 'bargain': 3, 'actions': 1, 'laughter': 1, 'round': 1, 'uncontrollable': 1, 'recalls': 1, 'suffering': 1, 'inflicted': 1, 'pointless': 1, 'fondly': 1, 'resurrection': 2, 'twice': 1, 'third': 1, 'dying': 1, 'remain': 2, 'restriction': 1, 'family': 16, 'haunted': 17, 'truth': 2, \"'break\": 1, 'hunted': 1, 'intervened': 1, 'existence': 3, 'memory': 2, 'erased': 2, 'blow': 1, 'strike': 1, 'killing': 4, 'forgot': 1, 'saw': 1, 'trace': 1, 'trapped': 1, 'goatling': 1, 'attuning': 1, \"family's\": 2, 'voices': 1, 'whispers': 2, 'attunes': 2, 'spouse': 1, 'loudest': 1, 'amazon': 2, 'indeed': 1, 'louder': 1, 'relative': 1, 'fact': 1, 'backstory': 1, \"she's\": 1, 'recall': 1, 'vaguely': 1, 'realize': 1, 'efforts': 1, 'destroying': 2, 'pass': 1, 'afterlife': 1, 'releases': 1, 'returns': 1, 'remembrance': 1, 'attuned': 1, 'gifted': 15, 'grandchild': 1, 'love': 1, 'brother': 1, 'convinced': 1, 'murdered': 2, 'knowing': 1, 'ancestry': 1, 'grandmother': 3, 'explaining': 1, 'conflicted': 1, 'locket': 5, 'whispering': 1, 'spirit': 1, 'receiving': 1, 'speak': 3, 'resurrect': 1, 'whisper': 1, 'exact': 1, '25': 1, 'fortress': 3, 'gold': 2, 'instant': 1, 'hoard': 3, 'motifs': 1, 'draconic': 1, 'architectural': 1, 'nephele': 1, 'enter': 1, 'breaks': 1, 'gains': 1, 'ally': 1, 'arrogant': 1, 'mercurial': 1, 'progeny': 1, 'disappointed': 1, 'weak': 1, 'disintegrate': 1, 'body': 2, 'companions': 1, 'fortune': 1, 'outer': 1, 'survivor': 1, 'explorer': 1, 'works': 1, 'decides': 1, 'added': 1, 'rescued': 1, 'captain': 1, \"estor's\": 1, 'buried': 1, 'gained': 1, 'meant': 1, 'contain': 1, 'modified': 1, 'smith': 1, 'skilled': 1, 'rework': 1, 'bront': 1, 'steros': 1, 'garzoon': 1, \"dragonlords'\": 1, 'imprison': 1, 'kraken': 1, \"'mirror'\": 1, 'guards': 2, 'slaughter': 1, 'xiphos': 1, 'health': 1, 'bringing': 1, 'extricate': 1, 'possessed': 1, 'play': 1, 'situation': 1, 'dragonslayer': 11, \"dragonslayer's\": 4, 'childhood': 1, 'responsible': 1, 'bane': 1, 'forgekeeper': 3, 'obtain': 1, 'supposedly': 1, 'chariot': 1, 'revenge': 1, 'chondrus': 1, 'arrives': 1, 'attention': 1, 'dinner': 1, 'waiting': 1, 'rained': 1, 'town': 1, 'attempts': 1, 'talieus': 2, 'ridicule': 1, 'prioritize': 1, 'arena': 1, 'attacking': 1, 'morta': 1, 'typhon': 5, 'originates': 2, 'vortex': 1, 'going': 2, 'diving': 2, 'lich': 1, 'knew': 1, 'devised': 1, 'scorpion': 1, 'lotus': 6, 'witch': 6, 'brightness': 2, 'gem': 2, 'heirloom': 1, 'volcanic': 2, 'fiery': 1, 'riddles': 1, 'leap': 1, 'unharmed': 1, 'hades': 2, 'ash': 1, 'cerberus': 3, 'guarded': 1, 'commoner': 1, 'hound': 1, 'ne': 1, 'fault': 1, 'disrespected': 1, 'devours': 1, 'corpse': 1, 'kills': 1, 'released': 1, 'lifted': 1, 'recharged': 1, 'discovered': 1, 'solution': 1, 'explained': 1})\n"
          ]
        }
      ],
      "source": [
        "# Cantidad de veces quea aparece cada palabra en cada \"documento\"\n",
        "# (1 documento = 1 caso de entrada)\n",
        "print(tok.word_docs)"
      ]
    },
    {
      "cell_type": "markdown",
      "metadata": {
        "id": "uYfhWVLLzKVO"
      },
      "source": [
        "\n",
        "### Definir el modelo"
      ]
    },
    {
      "cell_type": "code",
      "execution_count": 100,
      "metadata": {
        "id": "5UXA5hQfWVX1"
      },
      "outputs": [
        {
          "data": {
            "text/html": [
              "<pre style=\"white-space:pre;overflow-x:auto;line-height:normal;font-family:Menlo,'DejaVu Sans Mono',consolas,'Courier New',monospace\"><span style=\"font-weight: bold\">Model: \"sequential_5\"</span>\n",
              "</pre>\n"
            ],
            "text/plain": [
              "\u001b[1mModel: \"sequential_5\"\u001b[0m\n"
            ]
          },
          "metadata": {},
          "output_type": "display_data"
        },
        {
          "data": {
            "text/html": [
              "<pre style=\"white-space:pre;overflow-x:auto;line-height:normal;font-family:Menlo,'DejaVu Sans Mono',consolas,'Courier New',monospace\">┏━━━━━━━━━━━━━━━━━━━━━━━━━━━━━━━━━┳━━━━━━━━━━━━━━━━━━━━━━━━┳━━━━━━━━━━━━━━━┓\n",
              "┃<span style=\"font-weight: bold\"> Layer (type)                    </span>┃<span style=\"font-weight: bold\"> Output Shape           </span>┃<span style=\"font-weight: bold\">       Param # </span>┃\n",
              "┡━━━━━━━━━━━━━━━━━━━━━━━━━━━━━━━━━╇━━━━━━━━━━━━━━━━━━━━━━━━╇━━━━━━━━━━━━━━━┩\n",
              "│ embedding_5 (<span style=\"color: #0087ff; text-decoration-color: #0087ff\">Embedding</span>)         │ (<span style=\"color: #00d7ff; text-decoration-color: #00d7ff\">None</span>, <span style=\"color: #00af00; text-decoration-color: #00af00\">25</span>, <span style=\"color: #00af00; text-decoration-color: #00af00\">50</span>)         │       <span style=\"color: #00af00; text-decoration-color: #00af00\">151,050</span> │\n",
              "├─────────────────────────────────┼────────────────────────┼───────────────┤\n",
              "│ gru_5 (<span style=\"color: #0087ff; text-decoration-color: #0087ff\">GRU</span>)                     │ (<span style=\"color: #00d7ff; text-decoration-color: #00d7ff\">None</span>, <span style=\"color: #00af00; text-decoration-color: #00af00\">25</span>, <span style=\"color: #00af00; text-decoration-color: #00af00\">200</span>)        │       <span style=\"color: #00af00; text-decoration-color: #00af00\">151,200</span> │\n",
              "├─────────────────────────────────┼────────────────────────┼───────────────┤\n",
              "│ batch_normalization_20          │ (<span style=\"color: #00d7ff; text-decoration-color: #00d7ff\">None</span>, <span style=\"color: #00af00; text-decoration-color: #00af00\">25</span>, <span style=\"color: #00af00; text-decoration-color: #00af00\">200</span>)        │           <span style=\"color: #00af00; text-decoration-color: #00af00\">800</span> │\n",
              "│ (<span style=\"color: #0087ff; text-decoration-color: #0087ff\">BatchNormalization</span>)            │                        │               │\n",
              "├─────────────────────────────────┼────────────────────────┼───────────────┤\n",
              "│ lstm_15 (<span style=\"color: #0087ff; text-decoration-color: #0087ff\">LSTM</span>)                  │ (<span style=\"color: #00d7ff; text-decoration-color: #00d7ff\">None</span>, <span style=\"color: #00af00; text-decoration-color: #00af00\">25</span>, <span style=\"color: #00af00; text-decoration-color: #00af00\">300</span>)        │       <span style=\"color: #00af00; text-decoration-color: #00af00\">601,200</span> │\n",
              "├─────────────────────────────────┼────────────────────────┼───────────────┤\n",
              "│ batch_normalization_21          │ (<span style=\"color: #00d7ff; text-decoration-color: #00d7ff\">None</span>, <span style=\"color: #00af00; text-decoration-color: #00af00\">25</span>, <span style=\"color: #00af00; text-decoration-color: #00af00\">300</span>)        │         <span style=\"color: #00af00; text-decoration-color: #00af00\">1,200</span> │\n",
              "│ (<span style=\"color: #0087ff; text-decoration-color: #0087ff\">BatchNormalization</span>)            │                        │               │\n",
              "├─────────────────────────────────┼────────────────────────┼───────────────┤\n",
              "│ lstm_16 (<span style=\"color: #0087ff; text-decoration-color: #0087ff\">LSTM</span>)                  │ (<span style=\"color: #00d7ff; text-decoration-color: #00d7ff\">None</span>, <span style=\"color: #00af00; text-decoration-color: #00af00\">25</span>, <span style=\"color: #00af00; text-decoration-color: #00af00\">250</span>)        │       <span style=\"color: #00af00; text-decoration-color: #00af00\">551,000</span> │\n",
              "├─────────────────────────────────┼────────────────────────┼───────────────┤\n",
              "│ batch_normalization_22          │ (<span style=\"color: #00d7ff; text-decoration-color: #00d7ff\">None</span>, <span style=\"color: #00af00; text-decoration-color: #00af00\">25</span>, <span style=\"color: #00af00; text-decoration-color: #00af00\">250</span>)        │         <span style=\"color: #00af00; text-decoration-color: #00af00\">1,000</span> │\n",
              "│ (<span style=\"color: #0087ff; text-decoration-color: #0087ff\">BatchNormalization</span>)            │                        │               │\n",
              "├─────────────────────────────────┼────────────────────────┼───────────────┤\n",
              "│ lstm_17 (<span style=\"color: #0087ff; text-decoration-color: #0087ff\">LSTM</span>)                  │ (<span style=\"color: #00d7ff; text-decoration-color: #00d7ff\">None</span>, <span style=\"color: #00af00; text-decoration-color: #00af00\">25</span>, <span style=\"color: #00af00; text-decoration-color: #00af00\">100</span>)        │       <span style=\"color: #00af00; text-decoration-color: #00af00\">140,400</span> │\n",
              "├─────────────────────────────────┼────────────────────────┼───────────────┤\n",
              "│ batch_normalization_23          │ (<span style=\"color: #00d7ff; text-decoration-color: #00d7ff\">None</span>, <span style=\"color: #00af00; text-decoration-color: #00af00\">25</span>, <span style=\"color: #00af00; text-decoration-color: #00af00\">100</span>)        │           <span style=\"color: #00af00; text-decoration-color: #00af00\">400</span> │\n",
              "│ (<span style=\"color: #0087ff; text-decoration-color: #0087ff\">BatchNormalization</span>)            │                        │               │\n",
              "├─────────────────────────────────┼────────────────────────┼───────────────┤\n",
              "│ dense_5 (<span style=\"color: #0087ff; text-decoration-color: #0087ff\">Dense</span>)                 │ (<span style=\"color: #00d7ff; text-decoration-color: #00d7ff\">None</span>, <span style=\"color: #00af00; text-decoration-color: #00af00\">25</span>, <span style=\"color: #00af00; text-decoration-color: #00af00\">3021</span>)       │       <span style=\"color: #00af00; text-decoration-color: #00af00\">305,121</span> │\n",
              "└─────────────────────────────────┴────────────────────────┴───────────────┘\n",
              "</pre>\n"
            ],
            "text/plain": [
              "┏━━━━━━━━━━━━━━━━━━━━━━━━━━━━━━━━━┳━━━━━━━━━━━━━━━━━━━━━━━━┳━━━━━━━━━━━━━━━┓\n",
              "┃\u001b[1m \u001b[0m\u001b[1mLayer (type)                   \u001b[0m\u001b[1m \u001b[0m┃\u001b[1m \u001b[0m\u001b[1mOutput Shape          \u001b[0m\u001b[1m \u001b[0m┃\u001b[1m \u001b[0m\u001b[1m      Param #\u001b[0m\u001b[1m \u001b[0m┃\n",
              "┡━━━━━━━━━━━━━━━━━━━━━━━━━━━━━━━━━╇━━━━━━━━━━━━━━━━━━━━━━━━╇━━━━━━━━━━━━━━━┩\n",
              "│ embedding_5 (\u001b[38;5;33mEmbedding\u001b[0m)         │ (\u001b[38;5;45mNone\u001b[0m, \u001b[38;5;34m25\u001b[0m, \u001b[38;5;34m50\u001b[0m)         │       \u001b[38;5;34m151,050\u001b[0m │\n",
              "├─────────────────────────────────┼────────────────────────┼───────────────┤\n",
              "│ gru_5 (\u001b[38;5;33mGRU\u001b[0m)                     │ (\u001b[38;5;45mNone\u001b[0m, \u001b[38;5;34m25\u001b[0m, \u001b[38;5;34m200\u001b[0m)        │       \u001b[38;5;34m151,200\u001b[0m │\n",
              "├─────────────────────────────────┼────────────────────────┼───────────────┤\n",
              "│ batch_normalization_20          │ (\u001b[38;5;45mNone\u001b[0m, \u001b[38;5;34m25\u001b[0m, \u001b[38;5;34m200\u001b[0m)        │           \u001b[38;5;34m800\u001b[0m │\n",
              "│ (\u001b[38;5;33mBatchNormalization\u001b[0m)            │                        │               │\n",
              "├─────────────────────────────────┼────────────────────────┼───────────────┤\n",
              "│ lstm_15 (\u001b[38;5;33mLSTM\u001b[0m)                  │ (\u001b[38;5;45mNone\u001b[0m, \u001b[38;5;34m25\u001b[0m, \u001b[38;5;34m300\u001b[0m)        │       \u001b[38;5;34m601,200\u001b[0m │\n",
              "├─────────────────────────────────┼────────────────────────┼───────────────┤\n",
              "│ batch_normalization_21          │ (\u001b[38;5;45mNone\u001b[0m, \u001b[38;5;34m25\u001b[0m, \u001b[38;5;34m300\u001b[0m)        │         \u001b[38;5;34m1,200\u001b[0m │\n",
              "│ (\u001b[38;5;33mBatchNormalization\u001b[0m)            │                        │               │\n",
              "├─────────────────────────────────┼────────────────────────┼───────────────┤\n",
              "│ lstm_16 (\u001b[38;5;33mLSTM\u001b[0m)                  │ (\u001b[38;5;45mNone\u001b[0m, \u001b[38;5;34m25\u001b[0m, \u001b[38;5;34m250\u001b[0m)        │       \u001b[38;5;34m551,000\u001b[0m │\n",
              "├─────────────────────────────────┼────────────────────────┼───────────────┤\n",
              "│ batch_normalization_22          │ (\u001b[38;5;45mNone\u001b[0m, \u001b[38;5;34m25\u001b[0m, \u001b[38;5;34m250\u001b[0m)        │         \u001b[38;5;34m1,000\u001b[0m │\n",
              "│ (\u001b[38;5;33mBatchNormalization\u001b[0m)            │                        │               │\n",
              "├─────────────────────────────────┼────────────────────────┼───────────────┤\n",
              "│ lstm_17 (\u001b[38;5;33mLSTM\u001b[0m)                  │ (\u001b[38;5;45mNone\u001b[0m, \u001b[38;5;34m25\u001b[0m, \u001b[38;5;34m100\u001b[0m)        │       \u001b[38;5;34m140,400\u001b[0m │\n",
              "├─────────────────────────────────┼────────────────────────┼───────────────┤\n",
              "│ batch_normalization_23          │ (\u001b[38;5;45mNone\u001b[0m, \u001b[38;5;34m25\u001b[0m, \u001b[38;5;34m100\u001b[0m)        │           \u001b[38;5;34m400\u001b[0m │\n",
              "│ (\u001b[38;5;33mBatchNormalization\u001b[0m)            │                        │               │\n",
              "├─────────────────────────────────┼────────────────────────┼───────────────┤\n",
              "│ dense_5 (\u001b[38;5;33mDense\u001b[0m)                 │ (\u001b[38;5;45mNone\u001b[0m, \u001b[38;5;34m25\u001b[0m, \u001b[38;5;34m3021\u001b[0m)       │       \u001b[38;5;34m305,121\u001b[0m │\n",
              "└─────────────────────────────────┴────────────────────────┴───────────────┘\n"
            ]
          },
          "metadata": {},
          "output_type": "display_data"
        },
        {
          "data": {
            "text/html": [
              "<pre style=\"white-space:pre;overflow-x:auto;line-height:normal;font-family:Menlo,'DejaVu Sans Mono',consolas,'Courier New',monospace\"><span style=\"font-weight: bold\"> Total params: </span><span style=\"color: #00af00; text-decoration-color: #00af00\">1,903,371</span> (7.26 MB)\n",
              "</pre>\n"
            ],
            "text/plain": [
              "\u001b[1m Total params: \u001b[0m\u001b[38;5;34m1,903,371\u001b[0m (7.26 MB)\n"
            ]
          },
          "metadata": {},
          "output_type": "display_data"
        },
        {
          "data": {
            "text/html": [
              "<pre style=\"white-space:pre;overflow-x:auto;line-height:normal;font-family:Menlo,'DejaVu Sans Mono',consolas,'Courier New',monospace\"><span style=\"font-weight: bold\"> Trainable params: </span><span style=\"color: #00af00; text-decoration-color: #00af00\">1,901,671</span> (7.25 MB)\n",
              "</pre>\n"
            ],
            "text/plain": [
              "\u001b[1m Trainable params: \u001b[0m\u001b[38;5;34m1,901,671\u001b[0m (7.25 MB)\n"
            ]
          },
          "metadata": {},
          "output_type": "display_data"
        },
        {
          "data": {
            "text/html": [
              "<pre style=\"white-space:pre;overflow-x:auto;line-height:normal;font-family:Menlo,'DejaVu Sans Mono',consolas,'Courier New',monospace\"><span style=\"font-weight: bold\"> Non-trainable params: </span><span style=\"color: #00af00; text-decoration-color: #00af00\">1,700</span> (6.64 KB)\n",
              "</pre>\n"
            ],
            "text/plain": [
              "\u001b[1m Non-trainable params: \u001b[0m\u001b[38;5;34m1,700\u001b[0m (6.64 KB)\n"
            ]
          },
          "metadata": {},
          "output_type": "display_data"
        }
      ],
      "source": [
        "model = Sequential()\n",
        "\n",
        "# la primera capa es de embedding entrenable. Recordar que se puede variar el tamaño\n",
        "# del embedding a entrenar\n",
        "model.add(Embedding(input_dim=vocab_size+1, output_dim=50, input_shape=(max_context_size,)))\n",
        "\n",
        "model.add(GRU(200, return_sequences=True,dropout=0.25, recurrent_dropout=0.15))\n",
        "model.add(BatchNormalization())\n",
        "model.add(LSTM(300, return_sequences=True,dropout=0.25, recurrent_dropout=0.30))\n",
        "model.add(BatchNormalization())\n",
        "model.add(LSTM(250, return_sequences=True,dropout=0.25, recurrent_dropout=0.20))\n",
        "model.add(BatchNormalization())\n",
        "model.add(LSTM(100, return_sequences=True, kernel_regularizer=l2(1e-4)))\n",
        "model.add(BatchNormalization())\n",
        "\n",
        "# Predicción de clasificación con softmax\n",
        "# La salida es del tamaño del vocabulario\n",
        "model.add(Dense(vocab_size+1, activation='softmax', kernel_regularizer=l2(1e-4)))\n",
        "\n",
        "\n",
        "# Clasificación multiple categórica --> loss = categorical_crossentropy\n",
        "# notar que usamos la versión Sparse para utilizar sólo índices en lugar de OHE\n",
        "model.compile(loss=SparseCategoricalCrossentropy(), optimizer='rmsprop')\n",
        "\n",
        "model.summary()"
      ]
    },
    {
      "cell_type": "markdown",
      "metadata": {
        "id": "YWK3z85sQfUe"
      },
      "source": [
        "Dado que por el momento no hay implementaciones adecuadas de la perplejidad que puedan operar en tiempo de entrenamiento, armaremos un Callback *ad-hoc* que la calcule en cada epoch.\n",
        "\n",
        "**Nota**: un Callback es una rutina gatillada por algún evento, son muy útiles para relevar datos en diferentes momentos del desarrollo del modelo. En este caso queremos hacer un cálculo cada vez que termina una epoch de entrenamiento."
      ]
    },
    {
      "cell_type": "code",
      "execution_count": 83,
      "metadata": {
        "id": "zUHX3r5JD-MG"
      },
      "outputs": [],
      "source": [
        "class PplCallback(keras.callbacks.Callback):\n",
        "\n",
        "    '''\n",
        "    Este callback es una solución ad-hoc para calcular al final de cada epoch de\n",
        "    entrenamiento la métrica de Perplejidad sobre un conjunto de datos de validación.\n",
        "    La perplejidad es una métrica cuantitativa para evaluar la calidad de la generación de secuencias.\n",
        "    Además implementa la finalización del entrenamiento (Early Stopping)\n",
        "    si la perplejidad no mejora después de `patience` epochs.\n",
        "    '''\n",
        "\n",
        "    def __init__(self, val_data, history_ppl, patience=5):\n",
        "      # El callback lo inicializamos con secuencias de validación sobre las cuales\n",
        "      # mediremos la perplejidad y la paciencia para detener el entrenamiento.\n",
        "      self.val_data = val_data\n",
        "\n",
        "      self.target = []\n",
        "      self.padded = []\n",
        "\n",
        "      count = 0\n",
        "      self.info = []\n",
        "      self.history_ppl = []\n",
        "      self.min_score = np.inf\n",
        "      self.patience_counter = 0\n",
        "      self.patience = patience\n",
        "\n",
        "      # nos movemos en todas las secuencias de los datos de validación\n",
        "      for seq in self.val_data:\n",
        "\n",
        "        len_seq = len(seq)\n",
        "        # armamos todas las subsecuencias\n",
        "        subseq = [seq[:i] for i in range(len_seq)]\n",
        "        self.target.extend([seq[i] for i in range(len_seq)])\n",
        "\n",
        "        if len(subseq)!=0:\n",
        "\n",
        "          self.padded.append(pad_sequences(subseq, maxlen=max_context_size, padding='pre'))\n",
        "\n",
        "          self.info.append((count,count+len_seq))\n",
        "          count += len_seq\n",
        "\n",
        "      self.padded = np.vstack(self.padded)\n",
        "\n",
        "\n",
        "    def on_epoch_end(self, epoch, logs=None):\n",
        "\n",
        "        # en `scores` iremos guardando la perplejidad de cada secuencia\n",
        "        scores = []\n",
        "\n",
        "        predictions = self.model.predict(self.padded,verbose=0)\n",
        "\n",
        "        # para cada secuencia de validación\n",
        "        for start,end in self.info:\n",
        "\n",
        "          # en `probs` iremos guardando las probabilidades de los términos target\n",
        "          probs = [predictions[idx_seq,-1,idx_vocab] for idx_seq, idx_vocab in zip(range(start,end),self.target[start:end])]\n",
        "\n",
        "          # calculamos la perplejidad por medio de logaritmos\n",
        "          scores.append(np.exp(-np.sum(np.log(probs))/(end-start)))\n",
        "\n",
        "        # promediamos todos los scores e imprimimos el valor promedio\n",
        "        current_score = np.mean(scores)\n",
        "        history_ppl.append(current_score)\n",
        "        print(f'\\n mean perplexity: {current_score} \\n')\n",
        "\n",
        "        # chequeamos si tenemos que detener el entrenamiento\n",
        "        if current_score < self.min_score:\n",
        "          self.min_score = current_score\n",
        "          self.model.save(\"my_word_model.keras\")\n",
        "          print(\"Saved new model!\")\n",
        "          self.patience_counter = 0\n",
        "        else:\n",
        "          self.patience_counter += 1\n",
        "          if self.patience_counter == self.patience:\n",
        "            print(\"Stopping training...\")\n",
        "            self.model.stop_training = True\n"
      ]
    },
    {
      "cell_type": "markdown",
      "metadata": {
        "id": "8HBZIwR0gruA"
      },
      "source": [
        "### Entrenamiento"
      ]
    },
    {
      "cell_type": "code",
      "execution_count": 112,
      "metadata": {
        "id": "oQq1PHDkxDvN"
      },
      "outputs": [
        {
          "name": "stdout",
          "output_type": "stream",
          "text": [
            "Epoch 1/20\n",
            "\u001b[1m37/37\u001b[0m \u001b[32m━━━━━━━━━━━━━━━━━━━━\u001b[0m\u001b[37m\u001b[0m \u001b[1m0s\u001b[0m 46ms/step - loss: 0.5587\n",
            " mean perplexity: 857.8035311715939 \n",
            "\n",
            "Saved new model!\n",
            "\u001b[1m37/37\u001b[0m \u001b[32m━━━━━━━━━━━━━━━━━━━━\u001b[0m\u001b[37m\u001b[0m \u001b[1m7s\u001b[0m 180ms/step - loss: 0.5588\n",
            "Epoch 2/20\n",
            "\u001b[1m37/37\u001b[0m \u001b[32m━━━━━━━━━━━━━━━━━━━━\u001b[0m\u001b[37m\u001b[0m \u001b[1m0s\u001b[0m 48ms/step - loss: 0.5702\n",
            " mean perplexity: 897.521089603684 \n",
            "\n",
            "\u001b[1m37/37\u001b[0m \u001b[32m━━━━━━━━━━━━━━━━━━━━\u001b[0m\u001b[37m\u001b[0m \u001b[1m6s\u001b[0m 170ms/step - loss: 0.5703\n",
            "Epoch 3/20\n",
            "\u001b[1m36/37\u001b[0m \u001b[32m━━━━━━━━━━━━━━━━━━━\u001b[0m\u001b[37m━\u001b[0m \u001b[1m0s\u001b[0m 50ms/step - loss: 0.5471\n",
            " mean perplexity: 1407.897316872009 \n",
            "\n",
            "\u001b[1m37/37\u001b[0m \u001b[32m━━━━━━━━━━━━━━━━━━━━\u001b[0m\u001b[37m\u001b[0m \u001b[1m6s\u001b[0m 171ms/step - loss: 0.5476\n",
            "Epoch 4/20\n",
            "\u001b[1m36/37\u001b[0m \u001b[32m━━━━━━━━━━━━━━━━━━━\u001b[0m\u001b[37m━\u001b[0m \u001b[1m0s\u001b[0m 52ms/step - loss: 0.5532\n",
            " mean perplexity: 1072.399864369154 \n",
            "\n",
            "\u001b[1m37/37\u001b[0m \u001b[32m━━━━━━━━━━━━━━━━━━━━\u001b[0m\u001b[37m\u001b[0m \u001b[1m7s\u001b[0m 186ms/step - loss: 0.5534\n",
            "Epoch 5/20\n",
            "\u001b[1m36/37\u001b[0m \u001b[32m━━━━━━━━━━━━━━━━━━━\u001b[0m\u001b[37m━\u001b[0m \u001b[1m0s\u001b[0m 52ms/step - loss: 0.5405\n",
            " mean perplexity: 1479.552056222481 \n",
            "\n",
            "\u001b[1m37/37\u001b[0m \u001b[32m━━━━━━━━━━━━━━━━━━━━\u001b[0m\u001b[37m\u001b[0m \u001b[1m7s\u001b[0m 179ms/step - loss: 0.5411\n",
            "Epoch 6/20\n",
            "\u001b[1m36/37\u001b[0m \u001b[32m━━━━━━━━━━━━━━━━━━━\u001b[0m\u001b[37m━\u001b[0m \u001b[1m0s\u001b[0m 50ms/step - loss: 0.5409\n",
            " mean perplexity: 1035.8126578774188 \n",
            "\n",
            "Stopping training...\n",
            "\u001b[1m37/37\u001b[0m \u001b[32m━━━━━━━━━━━━━━━━━━━━\u001b[0m\u001b[37m\u001b[0m \u001b[1m6s\u001b[0m 176ms/step - loss: 0.5416\n"
          ]
        }
      ],
      "source": [
        "# fiteamos, nótese el agregado del callback con su inicialización. El batch_size lo podemos seleccionar a mano\n",
        "# en general, lo mejor es escoger el batch más grande posible que minimice el tiempo de cada época.\n",
        "# En la variable `history_ppl` se guardarán los valores de perplejidad para cada época.\n",
        "history_ppl = []\n",
        "hist = model.fit(X_train, y_train, epochs=20, callbacks=[PplCallback(tok_sentences_pad_val,history_ppl)], batch_size=32)\n",
        "#hist = model.fit(X_train, y_train, epochs=100, batch_size=32, validation_data=(X_val, y_val))"
      ]
    },
    {
      "cell_type": "code",
      "execution_count": 113,
      "metadata": {
        "id": "K30JHB3Dv-mx"
      },
      "outputs": [
        {
          "data": {
            "image/png": "[encoded data removed]",
            "text/plain": [
              "<Figure size 640x480 with 1 Axes>"
            ]
          },
          "metadata": {},
          "output_type": "display_data"
        }
      ],
      "source": [
        "# Podemos graficar la evolución de la perplejidad con las épocas.\n",
        "# Recordar que el valor de perplejidad del modelo trivial es el tamaño del vocabulario.\n",
        "epoch_count = range(1, len(history_ppl) + 1)\n",
        "sns.lineplot(x=epoch_count,  y=history_ppl)\n",
        "plt.show()"
      ]
    },
    {
      "cell_type": "code",
      "execution_count": 30,
      "metadata": {
        "id": "Rhy5hZN38qfO"
      },
      "outputs": [
        {
          "ename": "ValueError",
          "evalue": "File format not supported: filepath=my_model. Keras 3 only supports V3 `.keras` files and legacy H5 format files (`.h5` extension). Note that the legacy SavedModel format is not supported by `load_model()` in Keras 3. In order to reload a TensorFlow SavedModel as an inference-only layer in Keras 3, use `keras.layers.TFSMLayer(my_model, call_endpoint='serving_default')` (note that your `call_endpoint` might have a different name).",
          "output_type": "error",
          "traceback": [
            "\u001b[1;31m---------------------------------------------------------------------------\u001b[0m",
            "\u001b[1;31mValueError\u001b[0m                                Traceback (most recent call last)",
            "Cell \u001b[1;32mIn[30], line 2\u001b[0m\n\u001b[0;32m      1\u001b[0m \u001b[38;5;66;03m# Cargamos el mejor modelo guardado del entrenamiento para hacer inferencia\u001b[39;00m\n\u001b[1;32m----> 2\u001b[0m model \u001b[38;5;241m=\u001b[39m \u001b[43mkeras\u001b[49m\u001b[38;5;241;43m.\u001b[39;49m\u001b[43mmodels\u001b[49m\u001b[38;5;241;43m.\u001b[39;49m\u001b[43mload_model\u001b[49m\u001b[43m(\u001b[49m\u001b[38;5;124;43m'\u001b[39;49m\u001b[38;5;124;43mmy_model\u001b[39;49m\u001b[38;5;124;43m'\u001b[39;49m\u001b[43m)\u001b[49m\n",
            "File \u001b[1;32mc:\\Users\\Nicolas\\anaconda3\\envs\\dataAnalysis\\Lib\\site-packages\\keras\\src\\saving\\saving_api.py:199\u001b[0m, in \u001b[0;36mload_model\u001b[1;34m(filepath, custom_objects, compile, safe_mode)\u001b[0m\n\u001b[0;32m    193\u001b[0m     \u001b[38;5;28;01mraise\u001b[39;00m \u001b[38;5;167;01mValueError\u001b[39;00m(\n\u001b[0;32m    194\u001b[0m         \u001b[38;5;124mf\u001b[39m\u001b[38;5;124m\"\u001b[39m\u001b[38;5;124mFile not found: filepath=\u001b[39m\u001b[38;5;132;01m{\u001b[39;00mfilepath\u001b[38;5;132;01m}\u001b[39;00m\u001b[38;5;124m. \u001b[39m\u001b[38;5;124m\"\u001b[39m\n\u001b[0;32m    195\u001b[0m         \u001b[38;5;124m\"\u001b[39m\u001b[38;5;124mPlease ensure the file is an accessible `.keras` \u001b[39m\u001b[38;5;124m\"\u001b[39m\n\u001b[0;32m    196\u001b[0m         \u001b[38;5;124m\"\u001b[39m\u001b[38;5;124mzip file.\u001b[39m\u001b[38;5;124m\"\u001b[39m\n\u001b[0;32m    197\u001b[0m     )\n\u001b[0;32m    198\u001b[0m \u001b[38;5;28;01melse\u001b[39;00m:\n\u001b[1;32m--> 199\u001b[0m     \u001b[38;5;28;01mraise\u001b[39;00m \u001b[38;5;167;01mValueError\u001b[39;00m(\n\u001b[0;32m    200\u001b[0m         \u001b[38;5;124mf\u001b[39m\u001b[38;5;124m\"\u001b[39m\u001b[38;5;124mFile format not supported: filepath=\u001b[39m\u001b[38;5;132;01m{\u001b[39;00mfilepath\u001b[38;5;132;01m}\u001b[39;00m\u001b[38;5;124m. \u001b[39m\u001b[38;5;124m\"\u001b[39m\n\u001b[0;32m    201\u001b[0m         \u001b[38;5;124m\"\u001b[39m\u001b[38;5;124mKeras 3 only supports V3 `.keras` files and \u001b[39m\u001b[38;5;124m\"\u001b[39m\n\u001b[0;32m    202\u001b[0m         \u001b[38;5;124m\"\u001b[39m\u001b[38;5;124mlegacy H5 format files (`.h5` extension). \u001b[39m\u001b[38;5;124m\"\u001b[39m\n\u001b[0;32m    203\u001b[0m         \u001b[38;5;124m\"\u001b[39m\u001b[38;5;124mNote that the legacy SavedModel format is not \u001b[39m\u001b[38;5;124m\"\u001b[39m\n\u001b[0;32m    204\u001b[0m         \u001b[38;5;124m\"\u001b[39m\u001b[38;5;124msupported by `load_model()` in Keras 3. In \u001b[39m\u001b[38;5;124m\"\u001b[39m\n\u001b[0;32m    205\u001b[0m         \u001b[38;5;124m\"\u001b[39m\u001b[38;5;124morder to reload a TensorFlow SavedModel as an \u001b[39m\u001b[38;5;124m\"\u001b[39m\n\u001b[0;32m    206\u001b[0m         \u001b[38;5;124m\"\u001b[39m\u001b[38;5;124minference-only layer in Keras 3, use \u001b[39m\u001b[38;5;124m\"\u001b[39m\n\u001b[0;32m    207\u001b[0m         \u001b[38;5;124m\"\u001b[39m\u001b[38;5;124m`keras.layers.TFSMLayer(\u001b[39m\u001b[38;5;124m\"\u001b[39m\n\u001b[0;32m    208\u001b[0m         \u001b[38;5;124mf\u001b[39m\u001b[38;5;124m\"\u001b[39m\u001b[38;5;132;01m{\u001b[39;00mfilepath\u001b[38;5;132;01m}\u001b[39;00m\u001b[38;5;124m, call_endpoint=\u001b[39m\u001b[38;5;124m'\u001b[39m\u001b[38;5;124mserving_default\u001b[39m\u001b[38;5;124m'\u001b[39m\u001b[38;5;124m)` \u001b[39m\u001b[38;5;124m\"\u001b[39m\n\u001b[0;32m    209\u001b[0m         \u001b[38;5;124m\"\u001b[39m\u001b[38;5;124m(note that your `call_endpoint` \u001b[39m\u001b[38;5;124m\"\u001b[39m\n\u001b[0;32m    210\u001b[0m         \u001b[38;5;124m\"\u001b[39m\u001b[38;5;124mmight have a different name).\u001b[39m\u001b[38;5;124m\"\u001b[39m\n\u001b[0;32m    211\u001b[0m     )\n",
            "\u001b[1;31mValueError\u001b[0m: File format not supported: filepath=my_model. Keras 3 only supports V3 `.keras` files and legacy H5 format files (`.h5` extension). Note that the legacy SavedModel format is not supported by `load_model()` in Keras 3. In order to reload a TensorFlow SavedModel as an inference-only layer in Keras 3, use `keras.layers.TFSMLayer(my_model, call_endpoint='serving_default')` (note that your `call_endpoint` might have a different name)."
          ]
        }
      ],
      "source": [
        "# Cargamos el mejor modelo guardado del entrenamiento para hacer inferencia\n",
        "model = keras.models.load_model('my_model')"
      ]
    },
    {
      "cell_type": "markdown",
      "metadata": {
        "id": "KN6Fg_BsxJe6"
      },
      "source": [
        "\n",
        "### Predicción de próxima palabra"
      ]
    },
    {
      "cell_type": "code",
      "execution_count": null,
      "metadata": {
        "id": "HNyBykvhzs7-"
      },
      "outputs": [],
      "source": [
        "import gradio as gr\n",
        "\n",
        "def model_response(human_text):\n",
        "\n",
        "    # Encodeamos\n",
        "    encoded = tok.texts_to_sequences([human_text])[0]\n",
        "    # Si tienen distinto largo\n",
        "    encoded = pad_sequences([encoded], maxlen=max_context_size, padding='pre')\n",
        "\n",
        "    # Predicción softmax\n",
        "    y_hat = np.argmax(model.predict(encoded)[0,-1,:])\n",
        "\n",
        "\n",
        "    # Debemos buscar en el vocabulario la palabra\n",
        "    # que corresopnde al indice (y_hat) predicho por le modelo\n",
        "    out_word = ''\n",
        "    for word, index in tok.word_index.items():\n",
        "        if index == y_hat:\n",
        "            out_word = word\n",
        "            break\n",
        "\n",
        "    # Agrego la palabra a la frase predicha\n",
        "    return human_text + ' ' + out_word\n",
        "\n",
        "iface = gr.Interface(\n",
        "    fn=model_response,\n",
        "    inputs=[\"textbox\"],\n",
        "    outputs=\"text\")\n",
        "\n",
        "iface.launch(debug=True)"
      ]
    },
    {
      "cell_type": "markdown",
      "metadata": {
        "id": "mCeMWWupxN1-"
      },
      "source": [
        "### Generación de secuencias"
      ]
    },
    {
      "cell_type": "code",
      "execution_count": 87,
      "metadata": {
        "id": "bwbS_pfhxvB3"
      },
      "outputs": [],
      "source": [
        "def generate_seq(model, tokenizer, seed_text, max_length, n_words):\n",
        "    \"\"\"\n",
        "        Exec model sequence prediction\n",
        "\n",
        "        Args:\n",
        "            model (keras): modelo entrenado\n",
        "            tokenizer (keras tokenizer): tonenizer utilizado en el preprocesamiento\n",
        "            seed_text (string): texto de entrada (input_seq)\n",
        "            max_length (int): máxima longitud de la sequencia de entrada\n",
        "            n_words (int): números de palabras a agregar a la sequencia de entrada\n",
        "        returns:\n",
        "            output_text (string): sentencia con las \"n_words\" agregadas\n",
        "    \"\"\"\n",
        "    output_text = seed_text\n",
        "\t  # generate a fixed number of words\n",
        "    for _ in range(n_words):\n",
        "\t\t  # Tokenizamos\n",
        "      encoded = tokenizer.texts_to_sequences([output_text])[0]\n",
        "\n",
        "\t\t  # Si tienen distinto largo\n",
        "      encoded = pad_sequences([encoded], maxlen=max_length, padding='pre')\n",
        "\n",
        "\t\t  # Predicción softmax\n",
        "      y_hat = np.argmax(model.predict(encoded)[0,-1,:])\n",
        "\n",
        "      # Vamos concatenando las predicciones\n",
        "      out_word = ''\n",
        "\n",
        "      # Debemos buscar en el vocabulario la palabra\n",
        "      # que corresopnde al indice (y_hat) predicho por le modelo\n",
        "      for word, index in tokenizer.word_index.items():\n",
        "        if index == y_hat:\n",
        "          out_word = word\n",
        "          break\n",
        "\n",
        "\t\t  # Agrego las palabras a la frase predicha\n",
        "      output_text += ' ' + out_word\n",
        "\n",
        "    return output_text"
      ]
    },
    {
      "cell_type": "code",
      "execution_count": 114,
      "metadata": {
        "id": "JoFqRC5pxzqS"
      },
      "outputs": [
        {
          "name": "stdout",
          "output_type": "stream",
          "text": [
            "\u001b[1m1/1\u001b[0m \u001b[32m━━━━━━━━━━━━━━━━━━━━\u001b[0m\u001b[37m\u001b[0m \u001b[1m0s\u001b[0m 15ms/step\n",
            "\u001b[1m1/1\u001b[0m \u001b[32m━━━━━━━━━━━━━━━━━━━━\u001b[0m\u001b[37m\u001b[0m \u001b[1m0s\u001b[0m 16ms/step\n",
            "\u001b[1m1/1\u001b[0m \u001b[32m━━━━━━━━━━━━━━━━━━━━\u001b[0m\u001b[37m\u001b[0m \u001b[1m0s\u001b[0m 16ms/step\n",
            "\u001b[1m1/1\u001b[0m \u001b[32m━━━━━━━━━━━━━━━━━━━━\u001b[0m\u001b[37m\u001b[0m \u001b[1m0s\u001b[0m 15ms/step\n",
            "\u001b[1m1/1\u001b[0m \u001b[32m━━━━━━━━━━━━━━━━━━━━\u001b[0m\u001b[37m\u001b[0m \u001b[1m0s\u001b[0m 16ms/step\n",
            "\u001b[1m1/1\u001b[0m \u001b[32m━━━━━━━━━━━━━━━━━━━━\u001b[0m\u001b[37m\u001b[0m \u001b[1m0s\u001b[0m 16ms/step\n",
            "\u001b[1m1/1\u001b[0m \u001b[32m━━━━━━━━━━━━━━━━━━━━\u001b[0m\u001b[37m\u001b[0m \u001b[1m0s\u001b[0m 15ms/step\n",
            "\u001b[1m1/1\u001b[0m \u001b[32m━━━━━━━━━━━━━━━━━━━━\u001b[0m\u001b[37m\u001b[0m \u001b[1m0s\u001b[0m 15ms/step\n",
            "\u001b[1m1/1\u001b[0m \u001b[32m━━━━━━━━━━━━━━━━━━━━\u001b[0m\u001b[37m\u001b[0m \u001b[1m0s\u001b[0m 15ms/step\n",
            "\u001b[1m1/1\u001b[0m \u001b[32m━━━━━━━━━━━━━━━━━━━━\u001b[0m\u001b[37m\u001b[0m \u001b[1m0s\u001b[0m 16ms/step\n",
            "\u001b[1m1/1\u001b[0m \u001b[32m━━━━━━━━━━━━━━━━━━━━\u001b[0m\u001b[37m\u001b[0m \u001b[1m0s\u001b[0m 15ms/step\n",
            "\u001b[1m1/1\u001b[0m \u001b[32m━━━━━━━━━━━━━━━━━━━━\u001b[0m\u001b[37m\u001b[0m \u001b[1m0s\u001b[0m 15ms/step\n",
            "\u001b[1m1/1\u001b[0m \u001b[32m━━━━━━━━━━━━━━━━━━━━\u001b[0m\u001b[37m\u001b[0m \u001b[1m0s\u001b[0m 15ms/step\n",
            "\u001b[1m1/1\u001b[0m \u001b[32m━━━━━━━━━━━━━━━━━━━━\u001b[0m\u001b[37m\u001b[0m \u001b[1m0s\u001b[0m 15ms/step\n",
            "\u001b[1m1/1\u001b[0m \u001b[32m━━━━━━━━━━━━━━━━━━━━\u001b[0m\u001b[37m\u001b[0m \u001b[1m0s\u001b[0m 16ms/step\n",
            "\u001b[1m1/1\u001b[0m \u001b[32m━━━━━━━━━━━━━━━━━━━━\u001b[0m\u001b[37m\u001b[0m \u001b[1m0s\u001b[0m 16ms/step\n",
            "\u001b[1m1/1\u001b[0m \u001b[32m━━━━━━━━━━━━━━━━━━━━\u001b[0m\u001b[37m\u001b[0m \u001b[1m0s\u001b[0m 15ms/step\n",
            "\u001b[1m1/1\u001b[0m \u001b[32m━━━━━━━━━━━━━━━━━━━━\u001b[0m\u001b[37m\u001b[0m \u001b[1m0s\u001b[0m 16ms/step\n",
            "\u001b[1m1/1\u001b[0m \u001b[32m━━━━━━━━━━━━━━━━━━━━\u001b[0m\u001b[37m\u001b[0m \u001b[1m0s\u001b[0m 15ms/step\n",
            "\u001b[1m1/1\u001b[0m \u001b[32m━━━━━━━━━━━━━━━━━━━━\u001b[0m\u001b[37m\u001b[0m \u001b[1m0s\u001b[0m 15ms/step\n",
            "\u001b[1m1/1\u001b[0m \u001b[32m━━━━━━━━━━━━━━━━━━━━\u001b[0m\u001b[37m\u001b[0m \u001b[1m0s\u001b[0m 16ms/step\n",
            "\u001b[1m1/1\u001b[0m \u001b[32m━━━━━━━━━━━━━━━━━━━━\u001b[0m\u001b[37m\u001b[0m \u001b[1m0s\u001b[0m 15ms/step\n",
            "\u001b[1m1/1\u001b[0m \u001b[32m━━━━━━━━━━━━━━━━━━━━\u001b[0m\u001b[37m\u001b[0m \u001b[1m0s\u001b[0m 16ms/step\n",
            "\u001b[1m1/1\u001b[0m \u001b[32m━━━━━━━━━━━━━━━━━━━━\u001b[0m\u001b[37m\u001b[0m \u001b[1m0s\u001b[0m 20ms/step\n",
            "\u001b[1m1/1\u001b[0m \u001b[32m━━━━━━━━━━━━━━━━━━━━\u001b[0m\u001b[37m\u001b[0m \u001b[1m0s\u001b[0m 15ms/step\n",
            "\u001b[1m1/1\u001b[0m \u001b[32m━━━━━━━━━━━━━━━━━━━━\u001b[0m\u001b[37m\u001b[0m \u001b[1m0s\u001b[0m 15ms/step\n",
            "\u001b[1m1/1\u001b[0m \u001b[32m━━━━━━━━━━━━━━━━━━━━\u001b[0m\u001b[37m\u001b[0m \u001b[1m0s\u001b[0m 15ms/step\n",
            "\u001b[1m1/1\u001b[0m \u001b[32m━━━━━━━━━━━━━━━━━━━━\u001b[0m\u001b[37m\u001b[0m \u001b[1m0s\u001b[0m 15ms/step\n",
            "\u001b[1m1/1\u001b[0m \u001b[32m━━━━━━━━━━━━━━━━━━━━\u001b[0m\u001b[37m\u001b[0m \u001b[1m0s\u001b[0m 16ms/step\n",
            "\u001b[1m1/1\u001b[0m \u001b[32m━━━━━━━━━━━━━━━━━━━━\u001b[0m\u001b[37m\u001b[0m \u001b[1m0s\u001b[0m 16ms/step\n",
            "the first in this spell is always warriors on the role of a group of heroes who have been summoned to the temple of the oracle in an attempt to avert this\n"
          ]
        }
      ],
      "source": [
        "input_text='the first'\n",
        "\n",
        "print(generate_seq(model, tok, input_text, max_length=max_context_size, n_words=30))"
      ]
    },
    {
      "cell_type": "markdown",
      "metadata": {
        "id": "drJ6xn5qW1Hl"
      },
      "source": [
        "###  Beam search y muestreo aleatorio"
      ]
    },
    {
      "cell_type": "code",
      "execution_count": 103,
      "metadata": {
        "id": "_vovn9XZW1Hl"
      },
      "outputs": [],
      "source": [
        "# funcionalidades para hacer encoding y decoding\n",
        "\n",
        "def encode(text,max_length=max_context_size):\n",
        "\n",
        "    encoded = tok.texts_to_sequences([text])[0]\n",
        "    encoded = pad_sequences([encoded], maxlen=max_length, padding='pre')\n",
        "\n",
        "    return encoded\n",
        "\n",
        "def decode(seq):\n",
        "    return tok.sequences_to_texts([seq])"
      ]
    },
    {
      "cell_type": "code",
      "execution_count": 105,
      "metadata": {
        "id": "I_lZiQwkW1Hl"
      },
      "outputs": [],
      "source": [
        "from scipy.special import softmax\n",
        "\n",
        "# función que selecciona candidatos para el beam search\n",
        "def select_candidates(pred,num_beams,vocab_size,history_probs,history_tokens,temp,mode):\n",
        "\n",
        "  # colectar todas las probabilidades para la siguiente búsqueda\n",
        "  pred_large = []\n",
        "\n",
        "  for idx,pp in enumerate(pred):\n",
        "    pred_large.extend(np.log(pp+1E-10)+history_probs[idx])\n",
        "\n",
        "  pred_large = np.array(pred_large)\n",
        "\n",
        "  # criterio de selección\n",
        "  if mode == 'det':\n",
        "    idx_select = np.argsort(pred_large)[::-1][:num_beams] # beam search determinista\n",
        "  elif mode == 'sto':\n",
        "    idx_select = np.random.choice(np.arange(pred_large.shape[0]), num_beams, p=softmax(pred_large/temp)) # beam search con muestreo aleatorio\n",
        "  else:\n",
        "    raise ValueError(f'Wrong selection mode. {mode} was given. det and sto are supported.')\n",
        "\n",
        "  # traducir a índices de token en el vocabulario\n",
        "  new_history_tokens = np.concatenate((np.array(history_tokens)[idx_select//vocab_size],\n",
        "                        np.array([idx_select%vocab_size]).T),\n",
        "                      axis=1)\n",
        "\n",
        "  # devolver el producto de las probabilidades (log) y la secuencia de tokens seleccionados\n",
        "  return pred_large[idx_select.astype(int)], new_history_tokens.astype(int)\n",
        "\n",
        "\n",
        "def beam_search(model,num_beams,num_words,input,temp=1,mode='det'):\n",
        "\n",
        "    # first iteration\n",
        "\n",
        "    # encode\n",
        "    encoded = encode(input)\n",
        "\n",
        "    # first prediction\n",
        "    y_hat = model.predict(encoded,verbose=0)[0,-1,:]\n",
        "\n",
        "    # get vocabulary size\n",
        "    vocab_size = y_hat.shape[0]\n",
        "\n",
        "    # initialize history\n",
        "    history_probs = [0]*num_beams\n",
        "    history_tokens = [encoded[0]]*num_beams\n",
        "\n",
        "    # select num_beams candidates\n",
        "    history_probs, history_tokens = select_candidates([y_hat],\n",
        "                                        num_beams,\n",
        "                                        vocab_size,\n",
        "                                        history_probs,\n",
        "                                        history_tokens,\n",
        "                                        temp,\n",
        "                                        mode)\n",
        "\n",
        "    # beam search loop\n",
        "    for i in range(num_words-1):\n",
        "\n",
        "      preds = []\n",
        "\n",
        "      for hist in history_tokens:\n",
        "\n",
        "        # actualizar secuencia de tokens\n",
        "        input_update = np.array([hist[i+1:]]).copy()\n",
        "\n",
        "        # predicción\n",
        "        y_hat = model.predict(input_update,verbose=0)[0,-1,:]\n",
        "\n",
        "        preds.append(y_hat)\n",
        "\n",
        "      history_probs, history_tokens = select_candidates(preds,\n",
        "                                                        num_beams,\n",
        "                                                        vocab_size,\n",
        "                                                        history_probs,\n",
        "                                                        history_tokens,\n",
        "                                                        temp,\n",
        "                                                        mode)\n",
        "\n",
        "    return history_tokens"
      ]
    },
    {
      "cell_type": "code",
      "execution_count": 109,
      "metadata": {
        "id": "GeLqAoOYW1Hm"
      },
      "outputs": [],
      "source": [
        "# predicción con beam search.\n",
        "# Se pueden camiar los modos entre 'det' (determinista) y\n",
        "# 'sto' (estocástico)\n",
        "# para el caso estocástico también se puede variar la temperatura\n",
        "salidas = beam_search(model,num_beams=10,num_words=6,input=\"the city of \",temp=1,mode='sto')"
      ]
    },
    {
      "cell_type": "code",
      "execution_count": 110,
      "metadata": {
        "id": "P8HQoLhw-NYg"
      },
      "outputs": [
        {
          "data": {
            "text/plain": [
              "(10, 31)"
            ]
          },
          "execution_count": 110,
          "metadata": {},
          "output_type": "execute_result"
        }
      ],
      "source": [
        "# tenemos `num_beams` salidas ordenadas de mayor a menor likelihood\n",
        "salidas.shape"
      ]
    },
    {
      "cell_type": "code",
      "execution_count": 111,
      "metadata": {
        "id": "2S3_I3S1W1Hm"
      },
      "outputs": [
        {
          "data": {
            "text/plain": [
              "['the city of mytros is under attack by a']"
            ]
          },
          "execution_count": 111,
          "metadata": {},
          "output_type": "execute_result"
        }
      ],
      "source": [
        "# veamos las salidas\n",
        "decode(salidas[0])"
      ]
    }
  ],
  "metadata": {
    "colab": {
      "provenance": []
    },
    "kernelspec": {
      "display_name": "Python 3",
      "name": "python3"
    },
    "language_info": {
      "codemirror_mode": {
        "name": "ipython",
        "version": 3
      },
      "file_extension": ".py",
      "mimetype": "text/x-python",
      "name": "python",
      "nbconvert_exporter": "python",
      "pygments_lexer": "ipython3",
      "version": "3.11.8"
    }
  },
  "nbformat": 4,
  "nbformat_minor": 0
}
