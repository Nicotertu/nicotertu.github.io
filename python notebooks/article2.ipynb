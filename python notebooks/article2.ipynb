{
 "cells": [
  {
   "cell_type": "code",
   "execution_count": 1,
   "metadata": {},
   "outputs": [],
   "source": [
    "import pandas as pd\n",
    "import numpy as np\n",
    "import matplotlib as plt\n",
    "import seaborn as sns\n",
    "import pygwalker as pyg"
   ]
  },
  {
   "cell_type": "code",
   "execution_count": 5,
   "metadata": {},
   "outputs": [],
   "source": [
    "train_df = pd.read_csv(\"./train_data.csv\")\n",
    "test_df = pd.read_csv(\"./test_data.csv\")"
   ]
  },
  {
   "cell_type": "code",
   "execution_count": null,
   "metadata": {},
   "outputs": [],
   "source": [
    "correlation_matrix = train_df.corr()\n",
    "\n",
    "# TODO: REMOVE OR MODIFY NON NUMERICAL DATA\n",
    "\n",
    "plt.figure(figsize=(10, 8))\n",
    "sns.heatmap(correlation_matrix, annot=True, cmap='coolwarm', fmt=\".2f\", linewidths=0.5)\n",
    "plt.title('Matriz de correlaciones')\n",
    "plt.show()"
   ]
  },
  {
   "cell_type": "code",
   "execution_count": null,
   "metadata": {},
   "outputs": [],
   "source": [
    "def test_normalidad(data, p_thres = 0.05):\n",
    "    mean, std = norm.fit(data)\n",
    "\n",
    "    if std == 0:\n",
    "        return 'No normal', 1e-8\n",
    "\n",
    "    normal = norm(loc = mean, scale = std)\n",
    "    _, p_value = stats.kstest(data, normal.cdf)\n",
    "\n",
    "    if p_value > p_thres:\n",
    "        normality = \"Normal\"\n",
    "    else:\n",
    "        normality = \"No normal\"\n",
    "\n",
    "    return normality, p_value"
   ]
  },
  {
   "cell_type": "code",
   "execution_count": null,
   "metadata": {},
   "outputs": [],
   "source": [
    "def dataframe_statistics(dataframe):\n",
    "    data = dataframe.copy()\n",
    "\n",
    "    resultados = {}\n",
    "\n",
    "    for col in data.columns:\n",
    "        # Check data type to handle non-numeric columns\n",
    "        if pd.api.types.is_numeric_dtype(data[col]):\n",
    "            data_stats = data[col].describe(percentiles=[0.25, 0.75])\n",
    "            data_stats['skewness'] = skew(data[col])\n",
    "            data_stats['kurtosis'] = kurtosis(data[col])\n",
    "            data_stats['normalness'], _ = test_normalidad(data[col], 0.05)\n",
    "            data_stats['uniques'] = data[col].nunique()\n",
    "            data_stats['null count'] = data[col].isnull().sum()\n",
    "            data_stats['data type'] = type(data[col][0])\n",
    "            resultados[col] = data_stats\n",
    "        else:\n",
    "            resultados[col] = {'count': data[col].count(), 'unique': data[col].nunique(), 'top': data[col].mode().iloc[0]}\n",
    "\n",
    "    # Display the results in a table format\n",
    "    print(tabulate(pd.DataFrame(resultados), headers='keys', tablefmt='grid'))"
   ]
  },
  {
   "cell_type": "code",
   "execution_count": null,
   "metadata": {},
   "outputs": [],
   "source": [
    "def plot_function(data, type):\n",
    "    num_plots = min(16, len(data.columns))\n",
    "    num_cols = 4\n",
    "    num_rows = (num_plots + num_cols - 1) // num_cols\n",
    "\n",
    "    fig, axs = plt.subplots(num_rows, num_cols, figsize=(10, 10))\n",
    "    axs = axs.ravel()\n",
    "\n",
    "    for i, col in enumerate(data.select_dtypes(include=[np.number])): \n",
    "        if i >= num_plots:\n",
    "            break\n",
    "        if type == 'QQPlot': \n",
    "            sm.qqplot(data[col], line='r', ax=axs[i], fit=True)\n",
    "            axs[i].set_xlabel(\"Theoretical Quantiles\")\n",
    "            axs[i].set_ylabel(\"Sample Quantiles\")\n",
    "            axs[i].set_title(f\"{col}\")\n",
    "        elif type == 'BoxPlot':\n",
    "            sns.boxplot(y=data[col], orient=\"v\", ax=axs[i])  \n",
    "            axs[i].set_xlabel(\"\")\n",
    "            axs[i].set_ylabel(col)\n",
    "            axs[i].set_title(f\"Boxplot de {col}\")\n",
    "\n",
    "    # Remove unused subplots\n",
    "    for j in range(num_plots, num_rows * num_cols):\n",
    "        fig.delaxes(axs[j])\n",
    "\n",
    "    plt.tight_layout()\n",
    "    plt.show()"
   ]
  }
 ],
 "metadata": {
  "kernelspec": {
   "display_name": "dataAnalysis",
   "language": "python",
   "name": "python3"
  },
  "language_info": {
   "codemirror_mode": {
    "name": "ipython",
    "version": 3
   },
   "file_extension": ".py",
   "mimetype": "text/x-python",
   "name": "python",
   "nbconvert_exporter": "python",
   "pygments_lexer": "ipython3",
   "version": "3.11.8"
  }
 },
 "nbformat": 4,
 "nbformat_minor": 2
}
